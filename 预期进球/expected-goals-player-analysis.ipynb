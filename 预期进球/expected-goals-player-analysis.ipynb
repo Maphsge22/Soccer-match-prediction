{
 "cells": [
  {
   "cell_type": "markdown",
   "metadata": {},
   "source": [
    "# 期望目标模型与球员分析"
   ]
  },
  {
   "cell_type": "markdown",
   "metadata": {},
   "source": [
    "首先，感谢Alin Secaranu提供了这一出色的数据集。它包括2011年至2016年欧洲五大联赛7000多场比赛的赛事。我一直在尝试获取足球分析方面的见解，但直到现在都找不到合适的数据集。\n",
    "\n",
    "本报告/笔记的结构如下：\n",
    "\n",
    "**1. 数据探索**\n",
    "\n",
    "**2. xG模型（预期目标模型）**\n",
    "\n",
    "**3. 关于xG模型的结论**\n",
    "\n",
    "3.a) 我们的模型有多好？\n",
    "\n",
    "3.b) 我们如何改进我们的模型？\n",
    "\n",
    "\n",
    "**4. 球员分析**\n",
    "\n",
    "4.a) 哪些球员是最好的终结者？\n",
    "\n",
    "4.b) 哪些球员的“预期目标”最多？\n",
    "\n",
    "4.c) 哪些球员在射门决定方面最差？\n",
    "\n",
    "4.d) 哪些球员有最好的头球能力？\n",
    "\n",
    "4.e) 哪些球员最擅长左脚射门？\n",
    "\n",
    "4.f) 哪些球员最擅长右脚射门？\n",
    "\n",
    "4.g) 哪些是最好的禁区外射门球员？\n",
    "\n",
    "4.h) 哪些球员传球最好/最危险？\n",
    "\n",
    "4.i) 哪些球员威胁传球最多/最少？\n",
    "\n",
    "4.j) 哪些球员传球时最不走运？"
   ]
  },
  {
   "cell_type": "markdown",
   "metadata": {},
   "source": [
    "我们将从导入以后可能使用的所有内容开始。"
   ]
  },
  {
   "cell_type": "code",
   "execution_count": 1,
   "metadata": {
    "_kg_hide-output": true,
    "execution": {
     "iopub.execute_input": "2022-01-03T16:15:40.875380Z",
     "iopub.status.busy": "2022-01-03T16:15:40.875127Z",
     "iopub.status.idle": "2022-01-03T16:15:42.107138Z",
     "shell.execute_reply": "2022-01-03T16:15:42.106140Z",
     "shell.execute_reply.started": "2022-01-03T16:15:40.875333Z"
    }
   },
   "outputs": [],
   "source": [
    "import pandas as pd\n",
    "import numpy as np\n",
    "import matplotlib.pyplot as plt\n",
    "import scipy as sp\n",
    "from sklearn.ensemble import GradientBoostingClassifier # 梯度提升决策树,GBDT\n",
    "from sklearn.linear_model import LogisticRegression\n",
    "from sklearn.neural_network import MLPClassifier\n",
    "from sklearn.metrics import average_precision_score, roc_auc_score, f1_score, precision_score, \\\n",
    "recall_score, cohen_kappa_score, classification_report,confusion_matrix\n",
    "from sklearn.model_selection import train_test_split\n",
    "import seaborn as sns # 用于可视化\n",
    "from datetime import datetime\n",
    "from sklearn.preprocessing import StandardScaler\n",
    "pd.options.display.max_columns = 999\n",
    "pd.options.display.max_rows = 50\n",
    "\n",
    "class color:\n",
    "   PURPLE = '\\033[95m'\n",
    "   CYAN = '\\033[96m'\n",
    "   DARKCYAN = '\\033[36m'\n",
    "   BLUE = '\\033[94m'\n",
    "   GREEN = '\\033[92m'\n",
    "   YELLOW = '\\033[93m'\n",
    "   RED = '\\033[91m'\n",
    "   BOLD = '\\033[1m'\n",
    "   UNDERLINE = '\\033[4m'\n",
    "   END = '\\033[0m'"
   ]
  },
  {
   "cell_type": "markdown",
   "metadata": {},
   "source": [
    "加载数据"
   ]
  },
  {
   "cell_type": "code",
   "execution_count": 2,
   "metadata": {
    "execution": {
     "iopub.execute_input": "2022-01-03T16:15:42.109116Z",
     "iopub.status.busy": "2022-01-03T16:15:42.108609Z",
     "iopub.status.idle": "2022-01-03T16:15:46.765343Z",
     "shell.execute_reply": "2022-01-03T16:15:46.764547Z",
     "shell.execute_reply.started": "2022-01-03T16:15:42.109061Z"
    }
   },
   "outputs": [],
   "source": [
    "events = pd.read_csv('events.csv')\n",
    "info = pd.read_csv('ginf.csv')"
   ]
  },
  {
   "cell_type": "markdown",
   "metadata": {},
   "source": [
    "我们将ginf.csv中的有用信息添加到数据集中，例如联盟/国家和日期。"
   ]
  },
  {
   "cell_type": "code",
   "execution_count": 3,
   "metadata": {
    "execution": {
     "iopub.execute_input": "2022-01-03T16:15:46.766898Z",
     "iopub.status.busy": "2022-01-03T16:15:46.766611Z",
     "iopub.status.idle": "2022-01-03T16:15:47.885175Z",
     "shell.execute_reply": "2022-01-03T16:15:47.883809Z",
     "shell.execute_reply.started": "2022-01-03T16:15:46.766852Z"
    }
   },
   "outputs": [],
   "source": [
    "events = events.merge(info[['id_odsp', 'country', 'date']], on='id_odsp', how='left')"
   ]
  },
  {
   "cell_type": "code",
   "execution_count": 4,
   "metadata": {
    "execution": {
     "iopub.execute_input": "2022-01-03T16:15:47.891083Z",
     "iopub.status.busy": "2022-01-03T16:15:47.890491Z",
     "iopub.status.idle": "2022-01-03T16:15:59.214456Z",
     "shell.execute_reply": "2022-01-03T16:15:59.213745Z",
     "shell.execute_reply.started": "2022-01-03T16:15:47.891027Z"
    }
   },
   "outputs": [],
   "source": [
    "extract_year = lambda x: datetime.strptime(x, \"%Y-%m-%d\").year\n",
    "events['year'] = [extract_year(x) for key, x in enumerate(events['date'])]"
   ]
  },
  {
   "cell_type": "markdown",
   "metadata": {},
   "source": [
    "我们创建一个名为Shots的新数据集，该数据集将包含与比赛相关的所有内容，并排除其余内容。"
   ]
  },
  {
   "cell_type": "code",
   "execution_count": 5,
   "metadata": {
    "execution": {
     "iopub.execute_input": "2022-01-03T16:15:59.216326Z",
     "iopub.status.busy": "2022-01-03T16:15:59.215820Z",
     "iopub.status.idle": "2022-01-03T16:16:00.183538Z",
     "shell.execute_reply": "2022-01-03T16:16:00.182683Z",
     "shell.execute_reply.started": "2022-01-03T16:15:59.216101Z"
    }
   },
   "outputs": [
    {
     "name": "stderr",
     "output_type": "stream",
     "text": [
      "/opt/conda/lib/python3.6/site-packages/ipykernel_launcher.py:2: SettingWithCopyWarning: \n",
      "A value is trying to be set on a copy of a slice from a DataFrame.\n",
      "Try using .loc[row_indexer,col_indexer] = value instead\n",
      "\n",
      "See the caveats in the documentation: http://pandas.pydata.org/pandas-docs/stable/indexing.html#indexing-view-versus-copy\n",
      "  \n",
      "/opt/conda/lib/python3.6/site-packages/ipykernel_launcher.py:3: SettingWithCopyWarning: \n",
      "A value is trying to be set on a copy of a slice from a DataFrame.\n",
      "Try using .loc[row_indexer,col_indexer] = value instead\n",
      "\n",
      "See the caveats in the documentation: http://pandas.pydata.org/pandas-docs/stable/indexing.html#indexing-view-versus-copy\n",
      "  This is separate from the ipykernel package so we can avoid doing imports until\n",
      "/opt/conda/lib/python3.6/site-packages/ipykernel_launcher.py:4: SettingWithCopyWarning: \n",
      "A value is trying to be set on a copy of a slice from a DataFrame.\n",
      "Try using .loc[row_indexer,col_indexer] = value instead\n",
      "\n",
      "See the caveats in the documentation: http://pandas.pydata.org/pandas-docs/stable/indexing.html#indexing-view-versus-copy\n",
      "  after removing the cwd from sys.path.\n"
     ]
    }
   ],
   "source": [
    "shots = events[events.event_type==1]\n",
    "shots['player'] = shots['player'].str.title()\n",
    "shots['player2'] = shots['player2'].str.title()\n",
    "shots['country'] = shots['country'].str.title()"
   ]
  },
  {
   "cell_type": "markdown",
   "metadata": {},
   "source": [
    "# 1. 数据探索"
   ]
  },
  {
   "cell_type": "markdown",
   "metadata": {},
   "source": [
    "因为在本文中，我们将专注于分析足球中的射门情况，所以我们将从探索这项运动的一些特点开始。\n",
    "\n",
    "首先，让我们看看一次射门可能产生的不同结果是如何分布的。"
   ]
  },
  {
   "cell_type": "code",
   "execution_count": 6,
   "metadata": {
    "execution": {
     "iopub.execute_input": "2022-01-03T16:16:00.185991Z",
     "iopub.status.busy": "2022-01-03T16:16:00.185460Z",
     "iopub.status.idle": "2022-01-03T16:16:00.236032Z",
     "shell.execute_reply": "2022-01-03T16:16:00.235361Z",
     "shell.execute_reply.started": "2022-01-03T16:16:00.185942Z"
    }
   },
   "outputs": [],
   "source": [
    "pie = shots[['shot_outcome', 'id_event']].groupby('shot_outcome').count().reset_index().rename(columns={'id_event': 'count'})"
   ]
  },
  {
   "cell_type": "code",
   "execution_count": 7,
   "metadata": {
    "execution": {
     "iopub.execute_input": "2022-01-03T16:16:00.237471Z",
     "iopub.status.busy": "2022-01-03T16:16:00.237187Z",
     "iopub.status.idle": "2022-01-03T16:16:00.246961Z",
     "shell.execute_reply": "2022-01-03T16:16:00.246055Z",
     "shell.execute_reply.started": "2022-01-03T16:16:00.237427Z"
    }
   },
   "outputs": [],
   "source": [
    "pie.shot_outcome = pie.shot_outcome.astype(int)\n",
    "pie.shot_outcome = pie.shot_outcome.replace({1: 'On Target', 2: 'Off Target', 3: 'Blocked', 4: 'Hit the Bar'})"
   ]
  },
  {
   "cell_type": "code",
   "execution_count": 8,
   "metadata": {
    "execution": {
     "iopub.execute_input": "2022-01-03T16:16:00.248919Z",
     "iopub.status.busy": "2022-01-03T16:16:00.248435Z",
     "iopub.status.idle": "2022-01-03T16:16:00.496026Z",
     "shell.execute_reply": "2022-01-03T16:16:00.495378Z",
     "shell.execute_reply.started": "2022-01-03T16:16:00.248868Z"
    }
   },
   "outputs": [
    {
     "data": {
      "image/png": "[encoded data removed]",
      "text/plain": [
       "<Figure size 576x576 with 1 Axes>"
      ]
     },
     "metadata": {},
     "output_type": "display_data"
    }
   ],
   "source": [
    "fig, ax = plt.subplots(figsize=[8,8])\n",
    "labels = pie['shot_outcome']\n",
    "colors = ['#ff9999','#66b3ff','#99ff99','#ffcc99']\n",
    "plt.pie(x=pie['count'], autopct=\"%.1f%%\", labels=labels, explode=[0.06]*4, pctdistance=0.7, colors=colors, shadow=True, \\\n",
    "       textprops=dict(fontsize=16))\n",
    "plt.title(\"Shot Outcomes\", fontsize=26, fontfamily='serif')\n",
    "plt.tight_layout()\n",
    "plt.show()"
   ]
  },
  {
   "cell_type": "markdown",
   "metadata": {},
   "source": [
    "我们看到大多数射门都偏离了目标，但与目标的差异并不大。当然只有一小部分目标射门最终成为进球，因为守门员试图阻止对方进球。"
   ]
  },
  {
   "cell_type": "markdown",
   "metadata": {},
   "source": [
    "现在让我们来探索哪些位置适合球员射门。"
   ]
  },
  {
   "cell_type": "code",
   "execution_count": 9,
   "metadata": {
    "execution": {
     "iopub.execute_input": "2022-01-03T16:16:00.497753Z",
     "iopub.status.busy": "2022-01-03T16:16:00.497234Z",
     "iopub.status.idle": "2022-01-03T16:16:00.591390Z",
     "shell.execute_reply": "2022-01-03T16:16:00.590515Z",
     "shell.execute_reply.started": "2022-01-03T16:16:00.497703Z"
    }
   },
   "outputs": [],
   "source": [
    "bar = shots[['shot_place', 'id_event']].groupby('shot_place').count().reset_index().rename(columns={'id_event': 'count'})\n",
    "bar.shot_place = bar.shot_place.astype(int)\n",
    "bar.shot_place = bar.shot_place.replace({1: 'Bit too high', 2: 'Blocked', 3: 'Bottom left corner', 4: 'Bottom right corner', \\\n",
    "                                        5: 'Centre of the goal', 6: 'High and wide', 7: 'Hits the bar', 8: 'Misses to the left', \\\n",
    "                                        9: 'Misses to the right', 10: 'Too high', 11: 'Top centre of the goal', \\\n",
    "                                        12: 'Top left corner', 13: 'Top right corner'})"
   ]
  },
  {
   "cell_type": "code",
   "execution_count": 10,
   "metadata": {
    "execution": {
     "iopub.execute_input": "2022-01-03T16:16:00.593379Z",
     "iopub.status.busy": "2022-01-03T16:16:00.592835Z",
     "iopub.status.idle": "2022-01-03T16:16:01.203732Z",
     "shell.execute_reply": "2022-01-03T16:16:01.202850Z",
     "shell.execute_reply.started": "2022-01-03T16:16:00.593306Z"
    }
   },
   "outputs": [
    {
     "data": {
      "image/png": "[encoded data removed]",
      "text/plain": [
       "<Figure size 936x432 with 1 Axes>"
      ]
     },
     "metadata": {},
     "output_type": "display_data"
    }
   ],
   "source": [
    "sns.set_style(\"whitegrid\")\n",
    "fig, ax = plt.subplots(figsize=[13,6])\n",
    "labels = bar['shot_place']\n",
    "colors = ['#ff9999','#66b3ff','#99ff99','#ffcc99']\n",
    "ax = sns.barplot(x=bar['count'], y=labels)\n",
    "ax.set_yticklabels(labels, size = 13)\n",
    "ax.set_xticks(np.arange(1000,57000,4000))\n",
    "ax.set_ylabel(ylabel='')\n",
    "plt.title(\"Shot Placement\", fontsize=25, fontfamily='serif')\n",
    "plt.tight_layout()\n",
    "ax.grid(color='black', linestyle='-', linewidth=0.1, axis='x')\n",
    "plt.show()"
   ]
  },
  {
   "cell_type": "markdown",
   "metadata": {},
   "source": [
    "我们发现大多数射门都被对手阻挡，但这是因为所有未被阻挡的射门都分为许多不同的类别。我们在前面的饼图中看到实际上24%的射门确实被阻挡，这仍然是一个相当高的百分比。\n",
    "\n",
    "从没有被阻挡的射门中，我们可以看到大多数射门要么射向球门中心，要么偏出球门左侧或右侧。"
   ]
  },
  {
   "cell_type": "markdown",
   "metadata": {},
   "source": [
    "现在，我们将探讨一些对我们的xG模型非常重要的问题——哪些射门最终成为进球。我们将分析拆分为不同的联赛和年份，以检查世界不同地区或不同年份的模型是否存在差异。"
   ]
  },
  {
   "cell_type": "code",
   "execution_count": 11,
   "metadata": {
    "execution": {
     "iopub.execute_input": "2022-01-03T16:16:01.209674Z",
     "iopub.status.busy": "2022-01-03T16:16:01.207643Z",
     "iopub.status.idle": "2022-01-03T16:16:01.308146Z",
     "shell.execute_reply": "2022-01-03T16:16:01.307378Z",
     "shell.execute_reply.started": "2022-01-03T16:16:01.209619Z"
    }
   },
   "outputs": [],
   "source": [
    "goals  = shots[['is_goal', 'id_event', 'country']].groupby(['is_goal', 'country']).count().reset_index().rename(columns={'id_event': 'count'})\n",
    "goals.is_goal = goals.is_goal.replace({1: 'Goal', 0: 'No Goal'})"
   ]
  },
  {
   "cell_type": "code",
   "execution_count": 12,
   "metadata": {
    "execution": {
     "iopub.execute_input": "2022-01-03T16:16:01.311782Z",
     "iopub.status.busy": "2022-01-03T16:16:01.311280Z",
     "iopub.status.idle": "2022-01-03T16:16:01.413818Z",
     "shell.execute_reply": "2022-01-03T16:16:01.413071Z",
     "shell.execute_reply.started": "2022-01-03T16:16:01.311725Z"
    }
   },
   "outputs": [],
   "source": [
    "goals['percentage']=0\n",
    "for i in range(len(goals)):\n",
    "    for country in goals.country.unique():\n",
    "        if goals.iloc[i,goals.columns.get_loc(\"country\")]==country:\n",
    "            goals.iloc[i,goals.columns.get_loc(\"percentage\")]=goals.iloc[i,goals.columns.get_loc(\"count\")] / \\\n",
    "                                                            goals[goals.country==country]['count'].sum()\n",
    "goals['percentage']=round(goals['percentage']*100,2)"
   ]
  },
  {
   "cell_type": "code",
   "execution_count": 13,
   "metadata": {
    "_kg_hide-input": true,
    "execution": {
     "iopub.execute_input": "2022-01-03T16:16:01.416602Z",
     "iopub.status.busy": "2022-01-03T16:16:01.416146Z",
     "iopub.status.idle": "2022-01-03T16:16:01.422571Z",
     "shell.execute_reply": "2022-01-03T16:16:01.421842Z",
     "shell.execute_reply.started": "2022-01-03T16:16:01.416552Z"
    }
   },
   "outputs": [],
   "source": [
    "def show_values_on_bars(axs):\n",
    "    def _show_on_single_plot(ax):        \n",
    "        for p in ax.patches:\n",
    "            _x = p.get_x() + p.get_width() / 2\n",
    "            _y = p.get_y() + p.get_height()\n",
    "            value = '{:.2f}%'.format(p.get_height())\n",
    "            ax.text(_x, _y+2, value, ha=\"center\", fontsize=14) \n",
    "\n",
    "    if isinstance(axs, np.ndarray):\n",
    "        for idx, ax in np.ndenumerate(axs):\n",
    "            _show_on_single_plot(ax)\n",
    "    else:\n",
    "        _show_on_single_plot(axs)"
   ]
  },
  {
   "cell_type": "code",
   "execution_count": 14,
   "metadata": {
    "execution": {
     "iopub.execute_input": "2022-01-03T16:16:01.424416Z",
     "iopub.status.busy": "2022-01-03T16:16:01.423954Z",
     "iopub.status.idle": "2022-01-03T16:16:01.906570Z",
     "shell.execute_reply": "2022-01-03T16:16:01.905919Z",
     "shell.execute_reply.started": "2022-01-03T16:16:01.424303Z"
    }
   },
   "outputs": [
    {
     "data": {
      "image/png": "[encoded data removed]",
      "text/plain": [
       "<Figure size 1008x432 with 1 Axes>"
      ]
     },
     "metadata": {},
     "output_type": "display_data"
    }
   ],
   "source": [
    "sns.set_style(\"whitegrid\")\n",
    "fig, ax = plt.subplots(figsize=[14,6])\n",
    "colors = ['#ff9999','#66b3ff','#99ff99','#ffcc99']\n",
    "ax = sns.barplot(data=goals, y='percentage', hue='is_goal', x='country')\n",
    "ax.set_yticks(np.arange(0,110,10))\n",
    "ax.set_ylabel(ylabel='Percentage %', fontsize=15, fontfamily='serif')\n",
    "ax.set_xlabel(xlabel='League', fontsize=15, fontfamily='serif')\n",
    "ax.set_xticklabels(labels=ax.get_xticklabels(), fontsize=16, fontfamily='serif')\n",
    "plt.title(\"Goal/No-Goal per Country\", fontsize=24, fontfamily='serif')\n",
    "plt.tight_layout()\n",
    "ax.grid(color='black', linestyle='-', linewidth=0.1, axis='y')\n",
    "plt.legend(fontsize=12)\n",
    "show_values_on_bars(ax)\n",
    "plt.show()"
   ]
  },
  {
   "cell_type": "markdown",
   "metadata": {},
   "source": [
    "不同主流联赛之间几乎没有差异，似乎任何一次射门都有10-11%的机会成为进球。"
   ]
  },
  {
   "cell_type": "code",
   "execution_count": 15,
   "metadata": {
    "execution": {
     "iopub.execute_input": "2022-01-03T16:16:01.907977Z",
     "iopub.status.busy": "2022-01-03T16:16:01.907711Z",
     "iopub.status.idle": "2022-01-03T16:16:01.966628Z",
     "shell.execute_reply": "2022-01-03T16:16:01.965836Z",
     "shell.execute_reply.started": "2022-01-03T16:16:01.907930Z"
    }
   },
   "outputs": [],
   "source": [
    "goals  = shots[['is_goal', 'id_event', 'year']].groupby(['is_goal', 'year']).count().reset_index().rename(columns={'id_event': 'count'})\n",
    "goals.is_goal = goals.is_goal.replace({1: 'Goal', 0: 'No Goal'})"
   ]
  },
  {
   "cell_type": "code",
   "execution_count": 16,
   "metadata": {
    "execution": {
     "iopub.execute_input": "2022-01-03T16:16:01.968586Z",
     "iopub.status.busy": "2022-01-03T16:16:01.968155Z",
     "iopub.status.idle": "2022-01-03T16:16:02.001061Z",
     "shell.execute_reply": "2022-01-03T16:16:02.000502Z",
     "shell.execute_reply.started": "2022-01-03T16:16:01.968538Z"
    }
   },
   "outputs": [],
   "source": [
    "goals['percentage']=0\n",
    "for i in range(len(goals)):\n",
    "    for year in goals.year.unique():\n",
    "        if goals.iloc[i,goals.columns.get_loc(\"year\")]==year:\n",
    "            goals.iloc[i,goals.columns.get_loc(\"percentage\")]=goals.iloc[i,goals.columns.get_loc(\"count\")] / \\\n",
    "                                                            goals[goals.year==year]['count'].sum()\n",
    "goals['percentage']=round(goals['percentage']*100,2)"
   ]
  },
  {
   "cell_type": "code",
   "execution_count": 17,
   "metadata": {
    "execution": {
     "iopub.execute_input": "2022-01-03T16:16:02.003916Z",
     "iopub.status.busy": "2022-01-03T16:16:02.003372Z",
     "iopub.status.idle": "2022-01-03T16:16:02.505047Z",
     "shell.execute_reply": "2022-01-03T16:16:02.504372Z",
     "shell.execute_reply.started": "2022-01-03T16:16:02.003864Z"
    }
   },
   "outputs": [
    {
     "data": {
      "image/png": "[encoded data removed]",
      "text/plain": [
       "<Figure size 1008x432 with 1 Axes>"
      ]
     },
     "metadata": {},
     "output_type": "display_data"
    }
   ],
   "source": [
    "sns.set_style(\"white\")\n",
    "fig, ax = plt.subplots(figsize=[14,6])\n",
    "colors = ['#ff9999','#66b3ff','#99ff99','#ffcc99']\n",
    "ax = sns.barplot(data=goals, y='percentage', hue='is_goal', x='year')\n",
    "ax.set_yticks(np.arange(0,110,10))\n",
    "ax.set_ylabel(ylabel='Percentage %', fontsize=15, fontfamily='serif')\n",
    "ax.set_xlabel(xlabel='Year', fontsize=18, fontfamily='serif')\n",
    "ax.set_xticklabels(labels=ax.get_xticklabels(), fontsize=16, fontfamily='serif')\n",
    "plt.title(\"Goal/No-Goal per Year\", fontsize=24, fontfamily='serif')\n",
    "plt.tight_layout()\n",
    "ax.grid(color='black', linestyle='-', linewidth=0.1, axis='y')\n",
    "plt.legend(fontsize=12)\n",
    "show_values_on_bars(ax)\n",
    "plt.show()"
   ]
  },
  {
   "cell_type": "markdown",
   "metadata": {},
   "source": [
    "我们发现——（进球/不进球）的比值在时间上几乎相同。\n",
    "\n",
    "因此从统计学上讲，无论你在什么地方或什么时候看，9到10次射门中有1次是进球。"
   ]
  },
  {
   "cell_type": "markdown",
   "metadata": {},
   "source": [
    "# 2. xG 模型"
   ]
  },
  {
   "cell_type": "markdown",
   "metadata": {},
   "source": [
    "在这里我们准备数据，使其适合作为xG模型的输入。首先预期进球是什么。\n",
    "\n",
    "预期进球模型是一种旨在量化某个射门导致进球的可能性的尝试。有了这个指标，我们可以分析一场比赛中发生了什么，而不是每个队进了多少球。由于比赛是以进球取胜的，而进球只来自射门（除了少数情况下的乌龙球），那么xG指标只需要射门数据。换句话说，任何可能影响一支球队得分多少“预期目标”的事情都必须首先通过更多的射门来实现。例如，有人可能会争辩说，如果B队收到3张红牌，那么A队应该进更多的球（预期目标的增加）。然而，在现实中，有3个以上的球员在场上将导致更多（可能更好）的射门，而更多的射门将导致预期进球的增加。因此，射门及其信息是我们唯一需要考虑的！\n",
    "\n",
    "xG模型不应考虑干预事件的球员的特定特征或技能。xG模型应该更准确地解释这一点，但我们强烈反对。当然，如果梅西和守门员一对一的话，进球的机会比其他任何球员都高。或者如果曼努埃尔·诺伊尔是守门员，那么进球的概率可能会下降。这不是度量点。我们正试图通过数千个数据点来标准化任何给定球员在特定情况下从特定位置得分的可能性。如果球员是一名出色的终结者，那么他可能会比预期的进球更多，这很好。如果我们开始考虑相关球员的技能，我认为我们在设计这一指标方面走得太远了，而且意义也会降低。\n",
    "\n",
    "在这个介绍之后，我们准备X和Y集。Y将简单地包括数据库中每次射门，以及它是否是进球（1或0）。它是我们的目标变量。X将在我们的数据中包含所有与射门相关的信息。这将是：\n",
    "\n",
    ". **位置:** 进攻型半场、防守型半场、禁区中心、左翼、右翼、难角和远距离、左侧难角、右侧难角、禁区左侧、六码禁区左侧、禁区右侧、六码禁区右侧、近距离、罚球点、禁区外、远距离、超过35码、超过40码、没有记录。\n",
    "\n",
    ". **部位:** 左脚，右脚，头球。\n",
    "\n",
    ". **方式:** 无、传球、传中、头球传球、传球。\n",
    "\n",
    ". **情况:** 开球、定位球、角球、任意球。\n",
    "\n",
    ". **快攻:** 1或0，无论射门是否来自快攻。\n",
    "\n",
    "因此每一次射门都有很多有意义的信息。射门位置、身体的哪一部分用于射门、如何进行射门（传球后、传中等），以及射门发生的情况或背景（空位、角球等）\n",
    "\n",
    "由于所有数据都是分类变量，我们必须将它们转换为二进制模型（fast_break除外，它已经是二进制的）。"
   ]
  },
  {
   "cell_type": "code",
   "execution_count": 18,
   "metadata": {
    "execution": {
     "iopub.execute_input": "2022-01-03T16:16:02.506657Z",
     "iopub.status.busy": "2022-01-03T16:16:02.506205Z",
     "iopub.status.idle": "2022-01-03T16:16:02.554692Z",
     "shell.execute_reply": "2022-01-03T16:16:02.554045Z",
     "shell.execute_reply.started": "2022-01-03T16:16:02.506604Z"
    }
   },
   "outputs": [],
   "source": [
    "data = pd.get_dummies(shots.iloc[:,-8:-3], columns=['location', 'bodypart','assist_method', 'situation'])\n",
    "data.columns = ['fast_break', 'loc_centre_box', 'loc_diff_angle_lr', 'diff_angle_left', 'diff_angle_right',\n",
    "                'left_side_box', 'left_side_6ybox', 'right_side_box', 'right_side_6ybox', 'close_range',\n",
    "                'penalty', 'outside_box', 'long_range', 'more_35y', 'more_40y', 'not_recorded', 'right_foot', \n",
    "                'left_foot', 'header', 'no_assist', 'assist_pass', 'assist_cross', 'assist_header',\n",
    "                'assist_through_ball', 'open_play', 'set_piece', 'corner', 'free_kick']\n",
    "data['is_goal'] = shots['is_goal']"
   ]
  },
  {
   "cell_type": "code",
   "execution_count": 19,
   "metadata": {
    "execution": {
     "iopub.execute_input": "2022-01-03T16:16:02.556497Z",
     "iopub.status.busy": "2022-01-03T16:16:02.556048Z",
     "iopub.status.idle": "2022-01-03T16:16:02.563806Z",
     "shell.execute_reply": "2022-01-03T16:16:02.562921Z",
     "shell.execute_reply.started": "2022-01-03T16:16:02.556450Z"
    }
   },
   "outputs": [
    {
     "name": "stdout",
     "output_type": "stream",
     "text": [
      "229135\n",
      "24441\n",
      "28\n"
     ]
    }
   ],
   "source": [
    "print(len(data))\n",
    "print(data.is_goal.sum())\n",
    "print(len(data.columns)-1)"
   ]
  },
  {
   "cell_type": "markdown",
   "metadata": {},
   "source": [
    "所以我们总共有229135次射门，其中24441次是进球。对于每个射门，我们有28个不同的特征来描述它。所有这28个特征都是二进制的，因此它们只是对射门中的某个特征表示是或否。\n",
    "\n",
    "现在我们将把X和y分成两组，用于训练和测试。使用其中的65%来训练我们的模型，35%用于测试它。因为有足够的数据点，所以65%应该足以正确地训练它，留下尽可能多的射门供以后进行纯测试。"
   ]
  },
  {
   "cell_type": "code",
   "execution_count": 20,
   "metadata": {
    "execution": {
     "iopub.execute_input": "2022-01-03T16:16:02.565633Z",
     "iopub.status.busy": "2022-01-03T16:16:02.565076Z",
     "iopub.status.idle": "2022-01-03T16:16:02.606758Z",
     "shell.execute_reply": "2022-01-03T16:16:02.606054Z",
     "shell.execute_reply.started": "2022-01-03T16:16:02.565446Z"
    }
   },
   "outputs": [],
   "source": [
    "X = data.iloc[:,:-1]\n",
    "y = data.iloc[:,-1]\n",
    "X_train, X_test, y_train, y_test = train_test_split(X, y, test_size=0.35, random_state=1)"
   ]
  },
  {
   "cell_type": "markdown",
   "metadata": {},
   "source": [
    "## 梯度提升决策树(GBDT)\n",
    "\n",
    "我们将首先训练一个梯度提升决策树，这是一个非常强大的算法。它由一组决策树组成。由于这些树往往过度拟合训练数据，因此每次使用不同的预测值和样本开发数千棵不同的树有助于我们在著名的偏差与方差权衡中减少预测的方差。\n",
    "\n",
    "我们使用hyperopt学习优化模型的最佳hyperparameters。hyperopt比普通的网格搜索更好，因为通过这种方式，我们有一些智能（事实上是另一种算法）试图为模型确定最佳参数。它在我们给它的范围内尝试不同的设置，然后使用最好的的参数设置。"
   ]
  },
  {
   "cell_type": "code",
   "execution_count": 21,
   "metadata": {
    "execution": {
     "iopub.execute_input": "2022-01-03T16:16:02.608329Z",
     "iopub.status.busy": "2022-01-03T16:16:02.608054Z",
     "iopub.status.idle": "2022-01-03T16:16:03.012198Z",
     "shell.execute_reply": "2022-01-03T16:16:03.011556Z",
     "shell.execute_reply.started": "2022-01-03T16:16:02.608262Z"
    }
   },
   "outputs": [],
   "source": [
    "from hyperopt import fmin, tpe, hp, STATUS_OK, Trials\n",
    "\n",
    "def evaluate_model(params): \n",
    "    model = GradientBoostingClassifier(\n",
    "                        learning_rate=params['learning_rate'],\n",
    "                        min_samples_leaf=params['min_samples_leaf'],\n",
    "                        max_depth = params['max_depth'],\n",
    "                        max_features = params['max_features']\n",
    "                        )\n",
    "\n",
    "    model.fit(X_train, y_train)\n",
    "    return {\n",
    "        'learning_rate': params['learning_rate'],\n",
    "        'min_samples_leaf': params['min_samples_leaf'],\n",
    "        'max_depth': params['max_depth'],\n",
    "        'max_features': params['max_features'],\n",
    "        'train_ROCAUC': roc_auc_score(y_train, model.predict_proba(X_train)[:, 1]),\n",
    "        'test_ROCAUC': roc_auc_score(y_test, model.predict_proba(X_test)[:, 1]),\n",
    "        'recall': recall_score(y_test, model.predict(X_test)),\n",
    "        'precision': precision_score(y_test, model.predict(X_test)),\n",
    "        'f1_score': f1_score(y_test, model.predict(X_test)),\n",
    "        'train_accuracy': model.score(X_train, y_train),\n",
    "        'test_accuracy': model.score(X_test, y_test),\n",
    "    }\n",
    "\n",
    "def objective(params):\n",
    "    res = evaluate_model(params)\n",
    "    \n",
    "    res['loss'] = - res['test_ROCAUC'] # Esta loss es la que hyperopt intenta minimizar\n",
    "    res['status'] = STATUS_OK # Asi le decimos a hyperopt que el experimento salio bien\n",
    "    return res \n",
    "\n",
    "hyperparameter_space = {\n",
    "        'learning_rate': hp.uniform('learning_rate', 0.05, 0.3),\n",
    "        'min_samples_leaf': hp.choice('min_samples_leaf', range(15, 200)),\n",
    "        'max_depth': hp.choice('max_depth', range(2, 20)),\n",
    "        'max_features': hp.choice('max_features', range(3, 27))\n",
    "}"
   ]
  },
  {
   "cell_type": "code",
   "execution_count": 22,
   "metadata": {
    "execution": {
     "iopub.execute_input": "2022-01-03T16:16:03.013767Z",
     "iopub.status.busy": "2022-01-03T16:16:03.013497Z",
     "iopub.status.idle": "2022-01-03T16:39:21.016667Z",
     "shell.execute_reply": "2022-01-03T16:39:21.015383Z",
     "shell.execute_reply.started": "2022-01-03T16:16:03.013711Z"
    }
   },
   "outputs": [
    {
     "name": "stdout",
     "output_type": "stream",
     "text": [
      "100%|██████████| 50/50 [35:25<00:00, 55.37s/it, best loss: -0.8194555116207927]\n"
     ]
    }
   ],
   "source": [
    "trials = Trials()\n",
    "fmin(\n",
    "    objective,\n",
    "    space=hyperparameter_space,\n",
    "    algo=tpe.suggest,\n",
    "    max_evals=50,\n",
    "    trials=trials\n",
    ");"
   ]
  },
  {
   "cell_type": "code",
   "execution_count": 23,
   "metadata": {
    "execution": {
     "iopub.execute_input": "2022-01-03T16:39:21.018138Z",
     "iopub.status.busy": "2022-01-03T16:39:21.017874Z",
     "iopub.status.idle": "2022-01-03T16:39:21.043870Z",
     "shell.execute_reply": "2022-01-03T16:39:21.043009Z",
     "shell.execute_reply.started": "2022-01-03T16:39:21.018091Z"
    }
   },
   "outputs": [
    {
     "data": {
      "text/html": [
       "<div>\n",
       "<style scoped>\n",
       "    .dataframe tbody tr th:only-of-type {\n",
       "        vertical-align: middle;\n",
       "    }\n",
       "\n",
       "    .dataframe tbody tr th {\n",
       "        vertical-align: top;\n",
       "    }\n",
       "\n",
       "    .dataframe thead th {\n",
       "        text-align: right;\n",
       "    }\n",
       "</style>\n",
       "<table border=\"1\" class=\"dataframe\">\n",
       "  <thead>\n",
       "    <tr style=\"text-align: right;\">\n",
       "      <th></th>\n",
       "      <th>f1_score</th>\n",
       "      <th>learning_rate</th>\n",
       "      <th>loss</th>\n",
       "      <th>max_depth</th>\n",
       "      <th>max_features</th>\n",
       "      <th>min_samples_leaf</th>\n",
       "      <th>precision</th>\n",
       "      <th>recall</th>\n",
       "      <th>status</th>\n",
       "      <th>test_ROCAUC</th>\n",
       "      <th>test_accuracy</th>\n",
       "      <th>train_ROCAUC</th>\n",
       "      <th>train_accuracy</th>\n",
       "    </tr>\n",
       "  </thead>\n",
       "  <tbody>\n",
       "    <tr>\n",
       "      <th>41</th>\n",
       "      <td>0.390448</td>\n",
       "      <td>0.292413</td>\n",
       "      <td>-0.818152</td>\n",
       "      <td>11</td>\n",
       "      <td>19</td>\n",
       "      <td>42</td>\n",
       "      <td>0.710649</td>\n",
       "      <td>0.269167</td>\n",
       "      <td>ok</td>\n",
       "      <td>0.818152</td>\n",
       "      <td>0.910883</td>\n",
       "      <td>0.819175</td>\n",
       "      <td>0.910613</td>\n",
       "    </tr>\n",
       "    <tr>\n",
       "      <th>44</th>\n",
       "      <td>0.389868</td>\n",
       "      <td>0.165531</td>\n",
       "      <td>-0.818847</td>\n",
       "      <td>7</td>\n",
       "      <td>8</td>\n",
       "      <td>27</td>\n",
       "      <td>0.715902</td>\n",
       "      <td>0.267874</td>\n",
       "      <td>ok</td>\n",
       "      <td>0.818847</td>\n",
       "      <td>0.911095</td>\n",
       "      <td>0.818531</td>\n",
       "      <td>0.910512</td>\n",
       "    </tr>\n",
       "    <tr>\n",
       "      <th>18</th>\n",
       "      <td>0.389657</td>\n",
       "      <td>0.220782</td>\n",
       "      <td>-0.818450</td>\n",
       "      <td>12</td>\n",
       "      <td>23</td>\n",
       "      <td>56</td>\n",
       "      <td>0.710330</td>\n",
       "      <td>0.268462</td>\n",
       "      <td>ok</td>\n",
       "      <td>0.818450</td>\n",
       "      <td>0.910821</td>\n",
       "      <td>0.819041</td>\n",
       "      <td>0.910580</td>\n",
       "    </tr>\n",
       "    <tr>\n",
       "      <th>21</th>\n",
       "      <td>0.389508</td>\n",
       "      <td>0.094963</td>\n",
       "      <td>-0.819174</td>\n",
       "      <td>5</td>\n",
       "      <td>26</td>\n",
       "      <td>187</td>\n",
       "      <td>0.718533</td>\n",
       "      <td>0.267168</td>\n",
       "      <td>ok</td>\n",
       "      <td>0.819174</td>\n",
       "      <td>0.911195</td>\n",
       "      <td>0.816901</td>\n",
       "      <td>0.910358</td>\n",
       "    </tr>\n",
       "    <tr>\n",
       "      <th>8</th>\n",
       "      <td>0.389379</td>\n",
       "      <td>0.179819</td>\n",
       "      <td>-0.818743</td>\n",
       "      <td>17</td>\n",
       "      <td>5</td>\n",
       "      <td>67</td>\n",
       "      <td>0.716809</td>\n",
       "      <td>0.267286</td>\n",
       "      <td>ok</td>\n",
       "      <td>0.818743</td>\n",
       "      <td>0.911108</td>\n",
       "      <td>0.818711</td>\n",
       "      <td>0.910405</td>\n",
       "    </tr>\n",
       "  </tbody>\n",
       "</table>\n",
       "</div>"
      ],
      "text/plain": [
       "    f1_score  learning_rate      loss  max_depth  max_features  \\\n",
       "41  0.390448       0.292413 -0.818152         11            19   \n",
       "44  0.389868       0.165531 -0.818847          7             8   \n",
       "18  0.389657       0.220782 -0.818450         12            23   \n",
       "21  0.389508       0.094963 -0.819174          5            26   \n",
       "8   0.389379       0.179819 -0.818743         17             5   \n",
       "\n",
       "    min_samples_leaf  precision    recall status  test_ROCAUC  test_accuracy  \\\n",
       "41                42   0.710649  0.269167     ok     0.818152       0.910883   \n",
       "44                27   0.715902  0.267874     ok     0.818847       0.911095   \n",
       "18                56   0.710330  0.268462     ok     0.818450       0.910821   \n",
       "21               187   0.718533  0.267168     ok     0.819174       0.911195   \n",
       "8                 67   0.716809  0.267286     ok     0.818743       0.911108   \n",
       "\n",
       "    train_ROCAUC  train_accuracy  \n",
       "41      0.819175        0.910613  \n",
       "44      0.818531        0.910512  \n",
       "18      0.819041        0.910580  \n",
       "21      0.816901        0.910358  \n",
       "8       0.818711        0.910405  "
      ]
     },
     "execution_count": 23,
     "metadata": {},
     "output_type": "execute_result"
    }
   ],
   "source": [
    "pd.DataFrame(trials.results).sort_values(by='f1_score', ascending=False).head(5)"
   ]
  },
  {
   "cell_type": "markdown",
   "metadata": {},
   "source": [
    "我们使用上面的超参数获得了最佳结果，尽管我们看到在尝试不同的参数值时似乎没有很大的差异。很高兴看到没有任何过度拟合的迹象，因为我们的预测同样适用于训练和测试示例。"
   ]
  },
  {
   "cell_type": "code",
   "execution_count": 24,
   "metadata": {
    "execution": {
     "iopub.execute_input": "2022-01-03T16:39:21.045714Z",
     "iopub.status.busy": "2022-01-03T16:39:21.045167Z",
     "iopub.status.idle": "2022-01-03T16:39:50.623938Z",
     "shell.execute_reply": "2022-01-03T16:39:50.623152Z",
     "shell.execute_reply.started": "2022-01-03T16:39:21.045575Z"
    }
   },
   "outputs": [
    {
     "data": {
      "text/plain": [
       "GradientBoostingClassifier(criterion='friedman_mse', init=None,\n",
       "              learning_rate=0.285508, loss='deviance', max_depth=19,\n",
       "              max_features=7, max_leaf_nodes=None,\n",
       "              min_impurity_decrease=0.0, min_impurity_split=None,\n",
       "              min_samples_leaf=99, min_samples_split=2,\n",
       "              min_weight_fraction_leaf=0.0, n_estimators=100,\n",
       "              n_iter_no_change=None, presort='auto', random_state=None,\n",
       "              subsample=1.0, tol=0.0001, validation_fraction=0.1,\n",
       "              verbose=0, warm_start=False)"
      ]
     },
     "execution_count": 24,
     "metadata": {},
     "output_type": "execute_result"
    }
   ],
   "source": [
    "model = GradientBoostingClassifier(\n",
    "                        learning_rate=0.285508,\n",
    "                        min_samples_leaf=99,\n",
    "                        max_depth = 19,\n",
    "                        max_features = 7\n",
    "                        )\n",
    "model.fit(X_train, y_train)"
   ]
  },
  {
   "cell_type": "markdown",
   "metadata": {},
   "source": [
    "让我们更详细地分析模型的性能："
   ]
  },
  {
   "cell_type": "code",
   "execution_count": 25,
   "metadata": {
    "execution": {
     "iopub.execute_input": "2022-01-03T16:39:50.626674Z",
     "iopub.status.busy": "2022-01-03T16:39:50.626215Z",
     "iopub.status.idle": "2022-01-03T16:39:51.766150Z",
     "shell.execute_reply": "2022-01-03T16:39:51.765533Z",
     "shell.execute_reply.started": "2022-01-03T16:39:50.626485Z"
    }
   },
   "outputs": [
    {
     "name": "stdout",
     "output_type": "stream",
     "text": [
      "The test set contains 80198 examples (shots) of which 8504 are positive (goals).\n",
      "The accuracy of classifying whether a shot is goal or not is 91.0%.\n",
      "Our classifier obtains an ROC-AUC of 82.0%\n"
     ]
    }
   ],
   "source": [
    "print('The test set contains {} examples (shots) of which {} are positive (goals).'.format(len(y_test), y_test.sum()))\n",
    "print('The accuracy of classifying whether a shot is goal or not is {}%.'.format(round(model.score(X_test, y_test)*100),2))\n",
    "print('Our classifier obtains an ROC-AUC of {}%'.format(round(roc_auc_score(y_test, model.predict_proba(X_test)[:, 1])*100),2))"
   ]
  },
  {
   "cell_type": "markdown",
   "metadata": {},
   "source": [
    "因此，我们可以看到，我们的xG模型能够正确预测射门是否为进球**91%**次。此外，我们获得了一个相当好的**ROC-AUC**度量**82%**。这看起来很有希望。\n",
    "\n",
    "然而，这两个度量并不认为我们的数据集是高度不平衡的。没有进球的射门比射门多得多。因此，举例来说，如果我们简单地预测射门不会每次都是进球，那么我们已经获得了89%的准确率。\n",
    "\n",
    "因此，我们需要其他指标来真正了解我们的模型是否良好。"
   ]
  },
  {
   "cell_type": "markdown",
   "metadata": {},
   "source": [
    "现在我们将探讨PR-AUC（Precision-Recall Under the Curve）和科恩的卡帕统计。这两种方法都更适合我们的案例，因为它们确实考虑了我们数据中的不平衡。"
   ]
  },
  {
   "cell_type": "code",
   "execution_count": 26,
   "metadata": {
    "execution": {
     "iopub.execute_input": "2022-01-03T16:39:51.769529Z",
     "iopub.status.busy": "2022-01-03T16:39:51.769284Z",
     "iopub.status.idle": "2022-01-03T16:39:52.870841Z",
     "shell.execute_reply": "2022-01-03T16:39:52.869806Z",
     "shell.execute_reply.started": "2022-01-03T16:39:51.769486Z"
    }
   },
   "outputs": [
    {
     "name": "stdout",
     "output_type": "stream",
     "text": [
      "The baseline performance for PR-AUC is 0.11%. This is the PR-AUC that what we would get by random guessing.\n",
      "Our model obtains an PR-AUC of 47.35%.\n",
      "Our classifier obtains a Cohen Kappa of 0.35.\n"
     ]
    }
   ],
   "source": [
    "print('The baseline performance for PR-AUC is {}%. This is the PR-AUC that what we would get by random guessing.'.format(round(y_train.mean(),2)))\n",
    "print('Our model obtains an PR-AUC of {}%.'.format(round(average_precision_score(y_test, model.predict_proba(X_test)[:, 1])*100,2)))\n",
    "print('Our classifier obtains a Cohen Kappa of {}.'.format(round(cohen_kappa_score(y_test,model.predict(X_test)),2)))"
   ]
  },
  {
   "cell_type": "markdown",
   "metadata": {},
   "source": [
    "我们用一个混淆矩阵和一个附加的统计报告来结束对模型的评估。"
   ]
  },
  {
   "cell_type": "code",
   "execution_count": 27,
   "metadata": {
    "execution": {
     "iopub.execute_input": "2022-01-03T16:39:52.872432Z",
     "iopub.status.busy": "2022-01-03T16:39:52.872129Z",
     "iopub.status.idle": "2022-01-03T16:39:54.020889Z",
     "shell.execute_reply": "2022-01-03T16:39:54.020132Z",
     "shell.execute_reply.started": "2022-01-03T16:39:52.872379Z"
    }
   },
   "outputs": [
    {
     "name": "stdout",
     "output_type": "stream",
     "text": [
      "\u001B[1m\u001B[93mConfusion Matrix:\n",
      "\u001B[0m\n",
      "[[70786   908]\n",
      " [ 6228  2276]]\n",
      "\u001B[1m\u001B[93m\n",
      " Report:\u001B[0m\n",
      "              precision    recall  f1-score   support\n",
      "\n",
      "           0       0.92      0.99      0.95     71694\n",
      "           1       0.71      0.27      0.39      8504\n",
      "\n",
      "   micro avg       0.91      0.91      0.91     80198\n",
      "   macro avg       0.82      0.63      0.67     80198\n",
      "weighted avg       0.90      0.91      0.89     80198\n",
      "\n"
     ]
    }
   ],
   "source": [
    "print(color.BOLD + color.YELLOW + 'Confusion Matrix:\\n' + color.END)\n",
    "print(confusion_matrix(y_test,model.predict(X_test)))\n",
    "print(color.BOLD +  color.YELLOW + '\\n Report:' + color.END)\n",
    "print(classification_report(y_test,model.predict(X_test)))"
   ]
  },
  {
   "cell_type": "markdown",
   "metadata": {},
   "source": [
    "混淆矩阵总结了所有预测。它告诉我们，从所有没有进球的射门中，我们的模型正确地识别出70781个没有进球，并在6228个案例中犯了一个错误，在这些案例中，它预测射门不会是进球，但它确实是进球。从另一个专栏中，我们看到它正确预测了913个进球，但未能预测2276次成功射门。\n",
    "\n",
    "从报告中我们可以看出，该模型在预测第0类（无进球）时有很好的数值，但在预测第1类（进球）时没有那么好。对于后者，我们的准确率为71%，召回率为27%，因此F1得分为0.39。这些数字不错，但不是很好。\n",
    "\n",
    "这有意义吗？当然有。预测一次射门是否会成为一个进球并且是正确的，比正确预测它不会成为一个进球要困难得多。如果你不知道谁是射门的球员或谁是守门员，这一点尤其正确，而这正是算法所处的情况。这将是一个有趣的人对机器的研究。专家们在判断任何给定的射门是否会成为进球方面是否比像这样的模型要好得多？"
   ]
  },
  {
   "cell_type": "markdown",
   "metadata": {},
   "source": [
    "## 逻辑回归"
   ]
  },
  {
   "cell_type": "code",
   "execution_count": 28,
   "metadata": {
    "execution": {
     "iopub.execute_input": "2022-01-03T16:39:54.022486Z",
     "iopub.status.busy": "2022-01-03T16:39:54.022039Z",
     "iopub.status.idle": "2022-01-03T16:39:54.503139Z",
     "shell.execute_reply": "2022-01-03T16:39:54.502445Z",
     "shell.execute_reply.started": "2022-01-03T16:39:54.022434Z"
    }
   },
   "outputs": [
    {
     "name": "stderr",
     "output_type": "stream",
     "text": [
      "/opt/conda/lib/python3.6/site-packages/sklearn/linear_model/logistic.py:433: FutureWarning: Default solver will be changed to 'lbfgs' in 0.22. Specify a solver to silence this warning.\n",
      "  FutureWarning)\n"
     ]
    },
    {
     "data": {
      "text/plain": [
       "LogisticRegression(C=1.0, class_weight=None, dual=False, fit_intercept=True,\n",
       "          intercept_scaling=1, max_iter=400, multi_class='warn',\n",
       "          n_jobs=None, penalty='l2', random_state=None, solver='warn',\n",
       "          tol=0.0001, verbose=0, warm_start=False)"
      ]
     },
     "execution_count": 28,
     "metadata": {},
     "output_type": "execute_result"
    }
   ],
   "source": [
    "model = LogisticRegression(max_iter=400)\n",
    "model.fit(X_train, y_train)"
   ]
  },
  {
   "cell_type": "code",
   "execution_count": 29,
   "metadata": {
    "execution": {
     "iopub.execute_input": "2022-01-03T16:39:54.504700Z",
     "iopub.status.busy": "2022-01-03T16:39:54.504428Z",
     "iopub.status.idle": "2022-01-03T16:39:54.587971Z",
     "shell.execute_reply": "2022-01-03T16:39:54.587066Z",
     "shell.execute_reply.started": "2022-01-03T16:39:54.504652Z"
    }
   },
   "outputs": [
    {
     "name": "stdout",
     "output_type": "stream",
     "text": [
      "The test set contains 80198 examples (shots) of which 8504 are positive (goals).\n",
      "The accuracy of classifying whether a shot is goal or not is 91.0%.\n",
      "Our classifier obtains an ROC-AUC of 82.0%\n"
     ]
    }
   ],
   "source": [
    "print('The test set contains {} examples (shots) of which {} are positive (goals).'.format(len(y_test), y_test.sum()))\n",
    "print('The accuracy of classifying whether a shot is goal or not is {}%.'.format(round(model.score(X_test, y_test)*100),2))\n",
    "print('Our classifier obtains an ROC-AUC of {}%'.format(round(roc_auc_score(y_test, model.predict_proba(X_test)[:, 1])*100),2))"
   ]
  },
  {
   "cell_type": "code",
   "execution_count": 30,
   "metadata": {
    "execution": {
     "iopub.execute_input": "2022-01-03T16:39:54.589492Z",
     "iopub.status.busy": "2022-01-03T16:39:54.589199Z",
     "iopub.status.idle": "2022-01-03T16:39:54.805345Z",
     "shell.execute_reply": "2022-01-03T16:39:54.804521Z",
     "shell.execute_reply.started": "2022-01-03T16:39:54.589442Z"
    }
   },
   "outputs": [
    {
     "name": "stdout",
     "output_type": "stream",
     "text": [
      "The baseline performance for PR-AUC is 0.11%. This is the PR-AUC that what we would get by random guessing.\n",
      "Our model obtains an PR-AUC of 47.08%.\n",
      "Our classifier obtains a Cohen Kappa of 0.35.\n"
     ]
    }
   ],
   "source": [
    "print('The baseline performance for PR-AUC is {}%. This is the PR-AUC that what we would get by random guessing.'.format(round(y_train.mean(),2)))\n",
    "print('Our model obtains an PR-AUC of {}%.'.format(round(average_precision_score(y_test, model.predict_proba(X_test)[:, 1])*100,2)))\n",
    "print('Our classifier obtains a Cohen Kappa of {}.'.format(round(cohen_kappa_score(y_test,model.predict(X_test)),2)))"
   ]
  },
  {
   "cell_type": "code",
   "execution_count": 31,
   "metadata": {
    "execution": {
     "iopub.execute_input": "2022-01-03T16:39:54.806916Z",
     "iopub.status.busy": "2022-01-03T16:39:54.806605Z",
     "iopub.status.idle": "2022-01-03T16:39:55.107319Z",
     "shell.execute_reply": "2022-01-03T16:39:55.106476Z",
     "shell.execute_reply.started": "2022-01-03T16:39:54.806867Z"
    }
   },
   "outputs": [
    {
     "name": "stdout",
     "output_type": "stream",
     "text": [
      "\u001B[1m\u001B[93m\u001B[4mConfusion Matrix:\n",
      "\u001B[0m\n",
      "[[70820   874]\n",
      " [ 6265  2239]]\n",
      "\u001B[1m\u001B[93m\u001B[4m\n",
      " Report:\u001B[0m\n",
      "              precision    recall  f1-score   support\n",
      "\n",
      "           0       0.92      0.99      0.95     71694\n",
      "           1       0.72      0.26      0.39      8504\n",
      "\n",
      "   micro avg       0.91      0.91      0.91     80198\n",
      "   macro avg       0.82      0.63      0.67     80198\n",
      "weighted avg       0.90      0.91      0.89     80198\n",
      "\n"
     ]
    }
   ],
   "source": [
    "print(color.BOLD + color.YELLOW + color.UNDERLINE + 'Confusion Matrix:\\n' + color.END)\n",
    "print(confusion_matrix(y_test,model.predict(X_test)))\n",
    "print(color.BOLD +  color.YELLOW + color.UNDERLINE + '\\n Report:' + color.END)\n",
    "print(classification_report(y_test,model.predict(X_test)))"
   ]
  },
  {
   "cell_type": "markdown",
   "metadata": {},
   "source": [
    "我们得到的结果与梯度增强几乎完全相同。在这种情况下，人们通常应该选择更简单的模型，在这种情况下是逻辑回归。然而，有39个目标被梯度提升正确识别，而逻辑回归没有捕捉到。即使这不是一个很大的区别，我还是会选择梯度增强。"
   ]
  },
  {
   "cell_type": "code",
   "execution_count": 32,
   "metadata": {
    "execution": {
     "iopub.execute_input": "2022-01-03T16:39:55.112290Z",
     "iopub.status.busy": "2022-01-03T16:39:55.111857Z",
     "iopub.status.idle": "2022-01-03T16:40:25.078069Z",
     "shell.execute_reply": "2022-01-03T16:40:25.077303Z",
     "shell.execute_reply.started": "2022-01-03T16:39:55.112134Z"
    }
   },
   "outputs": [
    {
     "data": {
      "text/plain": [
       "GradientBoostingClassifier(criterion='friedman_mse', init=None,\n",
       "              learning_rate=0.285508, loss='deviance', max_depth=19,\n",
       "              max_features=7, max_leaf_nodes=None,\n",
       "              min_impurity_decrease=0.0, min_impurity_split=None,\n",
       "              min_samples_leaf=99, min_samples_split=2,\n",
       "              min_weight_fraction_leaf=0.0, n_estimators=100,\n",
       "              n_iter_no_change=None, presort='auto', random_state=None,\n",
       "              subsample=1.0, tol=0.0001, validation_fraction=0.1,\n",
       "              verbose=0, warm_start=False)"
      ]
     },
     "execution_count": 32,
     "metadata": {},
     "output_type": "execute_result"
    }
   ],
   "source": [
    "model = GradientBoostingClassifier(\n",
    "                        learning_rate=0.285508,\n",
    "                        min_samples_leaf=99,\n",
    "                        max_depth = 19,\n",
    "                        max_features = 7\n",
    "                        )\n",
    "model.fit(X_train, y_train)"
   ]
  },
  {
   "cell_type": "markdown",
   "metadata": {},
   "source": [
    "## 特征重要性\n",
    "让我们来看看哪些特性与模型更相关，以决定每一个射门是否是一个进球。"
   ]
  },
  {
   "cell_type": "code",
   "execution_count": 33,
   "metadata": {
    "execution": {
     "iopub.execute_input": "2022-01-03T16:40:25.079896Z",
     "iopub.status.busy": "2022-01-03T16:40:25.079422Z",
     "iopub.status.idle": "2022-01-03T16:40:25.334232Z",
     "shell.execute_reply": "2022-01-03T16:40:25.333371Z",
     "shell.execute_reply.started": "2022-01-03T16:40:25.079660Z"
    }
   },
   "outputs": [
    {
     "data": {
      "text/html": [
       "\n",
       "    <style>\n",
       "    table.eli5-weights tr:hover {\n",
       "        filter: brightness(85%);\n",
       "    }\n",
       "</style>\n",
       "\n",
       "\n",
       "\n",
       "    \n",
       "\n",
       "    \n",
       "\n",
       "    \n",
       "\n",
       "    \n",
       "\n",
       "    \n",
       "\n",
       "    \n",
       "\n",
       "\n",
       "    \n",
       "\n",
       "    \n",
       "\n",
       "    \n",
       "\n",
       "    \n",
       "\n",
       "    \n",
       "\n",
       "    \n",
       "\n",
       "\n",
       "    \n",
       "\n",
       "    \n",
       "\n",
       "    \n",
       "\n",
       "    \n",
       "\n",
       "    \n",
       "        <table class=\"eli5-weights eli5-feature-importances\" style=\"border-collapse: collapse; border: none; margin-top: 0em; table-layout: auto;\">\n",
       "    <thead>\n",
       "    <tr style=\"border: none;\">\n",
       "        <th style=\"padding: 0 1em 0 0.5em; text-align: right; border: none;\">Weight</th>\n",
       "        <th style=\"padding: 0 0.5em 0 0.5em; text-align: left; border: none;\">Feature</th>\n",
       "    </tr>\n",
       "    </thead>\n",
       "    <tbody>\n",
       "    \n",
       "        <tr style=\"background-color: hsl(120, 100.00%, 80.00%); border: none;\">\n",
       "            <td style=\"padding: 0 1em 0 0.5em; text-align: right; border: none;\">\n",
       "                0.1933\n",
       "                \n",
       "                    &plusmn; 0.1270\n",
       "                \n",
       "            </td>\n",
       "            <td style=\"padding: 0 0.5em 0 0.5em; text-align: left; border: none;\">\n",
       "                close_range\n",
       "            </td>\n",
       "        </tr>\n",
       "    \n",
       "        <tr style=\"background-color: hsl(120, 100.00%, 81.68%); border: none;\">\n",
       "            <td style=\"padding: 0 1em 0 0.5em; text-align: right; border: none;\">\n",
       "                0.1705\n",
       "                \n",
       "                    &plusmn; 0.0825\n",
       "                \n",
       "            </td>\n",
       "            <td style=\"padding: 0 0.5em 0 0.5em; text-align: left; border: none;\">\n",
       "                not_recorded\n",
       "            </td>\n",
       "        </tr>\n",
       "    \n",
       "        <tr style=\"background-color: hsl(120, 100.00%, 83.22%); border: none;\">\n",
       "            <td style=\"padding: 0 1em 0 0.5em; text-align: right; border: none;\">\n",
       "                0.1504\n",
       "                \n",
       "                    &plusmn; 0.1156\n",
       "                \n",
       "            </td>\n",
       "            <td style=\"padding: 0 0.5em 0 0.5em; text-align: left; border: none;\">\n",
       "                outside_box\n",
       "            </td>\n",
       "        </tr>\n",
       "    \n",
       "        <tr style=\"background-color: hsl(120, 100.00%, 83.38%); border: none;\">\n",
       "            <td style=\"padding: 0 1em 0 0.5em; text-align: right; border: none;\">\n",
       "                0.1483\n",
       "                \n",
       "                    &plusmn; 0.0680\n",
       "                \n",
       "            </td>\n",
       "            <td style=\"padding: 0 0.5em 0 0.5em; text-align: left; border: none;\">\n",
       "                penalty\n",
       "            </td>\n",
       "        </tr>\n",
       "    \n",
       "        <tr style=\"background-color: hsl(120, 100.00%, 91.07%); border: none;\">\n",
       "            <td style=\"padding: 0 1em 0 0.5em; text-align: right; border: none;\">\n",
       "                0.0611\n",
       "                \n",
       "                    &plusmn; 0.1698\n",
       "                \n",
       "            </td>\n",
       "            <td style=\"padding: 0 0.5em 0 0.5em; text-align: left; border: none;\">\n",
       "                fast_break\n",
       "            </td>\n",
       "        </tr>\n",
       "    \n",
       "        <tr style=\"background-color: hsl(120, 100.00%, 91.73%); border: none;\">\n",
       "            <td style=\"padding: 0 1em 0 0.5em; text-align: right; border: none;\">\n",
       "                0.0547\n",
       "                \n",
       "                    &plusmn; 0.1122\n",
       "                \n",
       "            </td>\n",
       "            <td style=\"padding: 0 0.5em 0 0.5em; text-align: left; border: none;\">\n",
       "                open_play\n",
       "            </td>\n",
       "        </tr>\n",
       "    \n",
       "        <tr style=\"background-color: hsl(120, 100.00%, 92.76%); border: none;\">\n",
       "            <td style=\"padding: 0 1em 0 0.5em; text-align: right; border: none;\">\n",
       "                0.0453\n",
       "                \n",
       "                    &plusmn; 0.1556\n",
       "                \n",
       "            </td>\n",
       "            <td style=\"padding: 0 0.5em 0 0.5em; text-align: left; border: none;\">\n",
       "                loc_centre_box\n",
       "            </td>\n",
       "        </tr>\n",
       "    \n",
       "        <tr style=\"background-color: hsl(120, 100.00%, 94.14%); border: none;\">\n",
       "            <td style=\"padding: 0 1em 0 0.5em; text-align: right; border: none;\">\n",
       "                0.0335\n",
       "                \n",
       "                    &plusmn; 0.0636\n",
       "                \n",
       "            </td>\n",
       "            <td style=\"padding: 0 0.5em 0 0.5em; text-align: left; border: none;\">\n",
       "                assist_through_ball\n",
       "            </td>\n",
       "        </tr>\n",
       "    \n",
       "        <tr style=\"background-color: hsl(120, 100.00%, 95.89%); border: none;\">\n",
       "            <td style=\"padding: 0 1em 0 0.5em; text-align: right; border: none;\">\n",
       "                0.0202\n",
       "                \n",
       "                    &plusmn; 0.0599\n",
       "                \n",
       "            </td>\n",
       "            <td style=\"padding: 0 0.5em 0 0.5em; text-align: left; border: none;\">\n",
       "                left_side_box\n",
       "            </td>\n",
       "        </tr>\n",
       "    \n",
       "        <tr style=\"background-color: hsl(120, 100.00%, 96.15%); border: none;\">\n",
       "            <td style=\"padding: 0 1em 0 0.5em; text-align: right; border: none;\">\n",
       "                0.0183\n",
       "                \n",
       "                    &plusmn; 0.1449\n",
       "                \n",
       "            </td>\n",
       "            <td style=\"padding: 0 0.5em 0 0.5em; text-align: left; border: none;\">\n",
       "                assist_cross\n",
       "            </td>\n",
       "        </tr>\n",
       "    \n",
       "        <tr style=\"background-color: hsl(120, 100.00%, 96.99%); border: none;\">\n",
       "            <td style=\"padding: 0 1em 0 0.5em; text-align: right; border: none;\">\n",
       "                0.0129\n",
       "                \n",
       "                    &plusmn; 0.0749\n",
       "                \n",
       "            </td>\n",
       "            <td style=\"padding: 0 0.5em 0 0.5em; text-align: left; border: none;\">\n",
       "                right_side_box\n",
       "            </td>\n",
       "        </tr>\n",
       "    \n",
       "        <tr style=\"background-color: hsl(120, 100.00%, 97.23%); border: none;\">\n",
       "            <td style=\"padding: 0 1em 0 0.5em; text-align: right; border: none;\">\n",
       "                0.0115\n",
       "                \n",
       "                    &plusmn; 0.0828\n",
       "                \n",
       "            </td>\n",
       "            <td style=\"padding: 0 0.5em 0 0.5em; text-align: left; border: none;\">\n",
       "                header\n",
       "            </td>\n",
       "        </tr>\n",
       "    \n",
       "        <tr style=\"background-color: hsl(120, 100.00%, 97.27%); border: none;\">\n",
       "            <td style=\"padding: 0 1em 0 0.5em; text-align: right; border: none;\">\n",
       "                0.0113\n",
       "                \n",
       "                    &plusmn; 0.0957\n",
       "                \n",
       "            </td>\n",
       "            <td style=\"padding: 0 0.5em 0 0.5em; text-align: left; border: none;\">\n",
       "                corner\n",
       "            </td>\n",
       "        </tr>\n",
       "    \n",
       "        <tr style=\"background-color: hsl(120, 100.00%, 97.67%); border: none;\">\n",
       "            <td style=\"padding: 0 1em 0 0.5em; text-align: right; border: none;\">\n",
       "                0.0090\n",
       "                \n",
       "                    &plusmn; 0.0822\n",
       "                \n",
       "            </td>\n",
       "            <td style=\"padding: 0 0.5em 0 0.5em; text-align: left; border: none;\">\n",
       "                set_piece\n",
       "            </td>\n",
       "        </tr>\n",
       "    \n",
       "        <tr style=\"background-color: hsl(120, 100.00%, 97.68%); border: none;\">\n",
       "            <td style=\"padding: 0 1em 0 0.5em; text-align: right; border: none;\">\n",
       "                0.0089\n",
       "                \n",
       "                    &plusmn; 0.0422\n",
       "                \n",
       "            </td>\n",
       "            <td style=\"padding: 0 0.5em 0 0.5em; text-align: left; border: none;\">\n",
       "                right_side_6ybox\n",
       "            </td>\n",
       "        </tr>\n",
       "    \n",
       "        <tr style=\"background-color: hsl(120, 100.00%, 97.81%); border: none;\">\n",
       "            <td style=\"padding: 0 1em 0 0.5em; text-align: right; border: none;\">\n",
       "                0.0082\n",
       "                \n",
       "                    &plusmn; 0.1429\n",
       "                \n",
       "            </td>\n",
       "            <td style=\"padding: 0 0.5em 0 0.5em; text-align: left; border: none;\">\n",
       "                no_assist\n",
       "            </td>\n",
       "        </tr>\n",
       "    \n",
       "        <tr style=\"background-color: hsl(120, 100.00%, 98.15%); border: none;\">\n",
       "            <td style=\"padding: 0 1em 0 0.5em; text-align: right; border: none;\">\n",
       "                0.0065\n",
       "                \n",
       "                    &plusmn; 0.0451\n",
       "                \n",
       "            </td>\n",
       "            <td style=\"padding: 0 0.5em 0 0.5em; text-align: left; border: none;\">\n",
       "                left_side_6ybox\n",
       "            </td>\n",
       "        </tr>\n",
       "    \n",
       "        <tr style=\"background-color: hsl(120, 100.00%, 98.25%); border: none;\">\n",
       "            <td style=\"padding: 0 1em 0 0.5em; text-align: right; border: none;\">\n",
       "                0.0059\n",
       "                \n",
       "                    &plusmn; 0.1411\n",
       "                \n",
       "            </td>\n",
       "            <td style=\"padding: 0 0.5em 0 0.5em; text-align: left; border: none;\">\n",
       "                assist_pass\n",
       "            </td>\n",
       "        </tr>\n",
       "    \n",
       "        <tr style=\"background-color: hsl(120, 100.00%, 98.38%); border: none;\">\n",
       "            <td style=\"padding: 0 1em 0 0.5em; text-align: right; border: none;\">\n",
       "                0.0053\n",
       "                \n",
       "                    &plusmn; 0.1201\n",
       "                \n",
       "            </td>\n",
       "            <td style=\"padding: 0 0.5em 0 0.5em; text-align: left; border: none;\">\n",
       "                right_foot\n",
       "            </td>\n",
       "        </tr>\n",
       "    \n",
       "        <tr style=\"background-color: hsl(120, 100.00%, 98.47%); border: none;\">\n",
       "            <td style=\"padding: 0 1em 0 0.5em; text-align: right; border: none;\">\n",
       "                0.0049\n",
       "                \n",
       "                    &plusmn; 0.0111\n",
       "                \n",
       "            </td>\n",
       "            <td style=\"padding: 0 0.5em 0 0.5em; text-align: left; border: none;\">\n",
       "                long_range\n",
       "            </td>\n",
       "        </tr>\n",
       "    \n",
       "    \n",
       "        \n",
       "            <tr style=\"background-color: hsl(120, 100.00%, 98.47%); border: none;\">\n",
       "                <td colspan=\"2\" style=\"padding: 0 0.5em 0 0.5em; text-align: center; border: none; white-space: nowrap;\">\n",
       "                    <i>&hellip; 8 more &hellip;</i>\n",
       "                </td>\n",
       "            </tr>\n",
       "        \n",
       "    \n",
       "    </tbody>\n",
       "</table>\n",
       "    \n",
       "\n",
       "    \n",
       "\n",
       "\n",
       "    \n",
       "\n",
       "    \n",
       "\n",
       "    \n",
       "\n",
       "    \n",
       "\n",
       "    \n",
       "\n",
       "    \n",
       "\n",
       "\n",
       "\n"
      ],
      "text/plain": [
       "Explanation(estimator=\"GradientBoostingClassifier(criterion='friedman_mse', init=None,\\n              learning_rate=0.285508, loss='deviance', max_depth=19,\\n              max_features=7, max_leaf_nodes=None,\\n              min_impurity_decrease=0.0, min_impurity_split=None,\\n              min_samples_leaf=99, min_samples_split=2,\\n              min_weight_fraction_leaf=0.0, n_estimators=100,\\n              n_iter_no_change=None, presort='auto', random_state=None,\\n              subsample=1.0, tol=0.0001, validation_fraction=0.1,\\n              verbose=0, warm_start=False)\", description='\\nRandom forest feature importances; values are numbers 0 <= x <= 1;\\nall values sum to 1.\\n', error=None, method='feature importances', is_regression=False, targets=None, feature_importances=FeatureImportances(importances=[FeatureWeight(feature='close_range', weight=0.19331773964441085, std=0.06348301307568173, value=None), FeatureWeight(feature='not_recorded', weight=0.17047901865309992, std=0.041245011810007545, value=None), FeatureWeight(feature='outside_box', weight=0.15041373682407239, std=0.057776452593562046, value=None), FeatureWeight(feature='penalty', weight=0.14833990046875656, std=0.033986367280824804, value=None), FeatureWeight(feature='fast_break', weight=0.06109774269092692, std=0.08491700418209966, value=None), FeatureWeight(feature='open_play', weight=0.05470540274158279, std=0.05611108823734931, value=None), FeatureWeight(feature='loc_centre_box', weight=0.04527103663400991, std=0.07779743451929823, value=None), FeatureWeight(feature='assist_through_ball', weight=0.03346934297590209, std=0.03177975143388699, value=None), FeatureWeight(feature='left_side_box', weight=0.020155078893142473, std=0.02994636972768203, value=None), FeatureWeight(feature='assist_cross', weight=0.01833909519256947, std=0.07245970271387173, value=None), FeatureWeight(feature='right_side_box', weight=0.012945322911269819, std=0.037473601148906674, value=None), FeatureWeight(feature='header', weight=0.011490132134850551, std=0.04139613364886151, value=None), FeatureWeight(feature='corner', weight=0.01125751131835188, std=0.0478372143493592, value=None), FeatureWeight(feature='set_piece', weight=0.008966021471451166, std=0.04108263913366053, value=None), FeatureWeight(feature='right_side_6ybox', weight=0.008894864577387114, std=0.021095732767538698, value=None), FeatureWeight(feature='no_assist', weight=0.008217042776250004, std=0.07144795643259465, value=None), FeatureWeight(feature='left_side_6ybox', weight=0.006454895692930334, std=0.022527383462484948, value=None), FeatureWeight(feature='assist_pass', weight=0.00593779579181976, std=0.07052998980154135, value=None), FeatureWeight(feature='right_foot', weight=0.005322441530262442, std=0.06003075108564849, value=None), FeatureWeight(feature='long_range', weight=0.004912846191427629, std=0.0055409530970126275, value=None)], remaining=8), decision_tree=None, highlight_spaces=None, transition_features=None)"
      ]
     },
     "execution_count": 33,
     "metadata": {},
     "output_type": "execute_result"
    }
   ],
   "source": [
    "import eli5 # ELI5 是一个 Python 软件包，可帮助调试机器学习分类器并解释其预测\n",
    "eli5.explain_weights(model, feature_names=list(X_train.columns))"
   ]
  },
  {
   "cell_type": "markdown",
   "metadata": {},
   "source": [
    "我们看到，正如预期的那样，大多数射门位置（近距离、禁区中心、禁区外部）都是最相关的。需要担心的一件事是位置的高系数=未记录。显然，有些射门的位置还没有被记录下来，出于某种原因，这些射门极有可能是进球。这使模型更容易实现。为了更好地理解模型，删除这些行并检查其性能可能会很有趣。我已经试过了，结果性能略有下降（ROC-AUC=0.806，PR-AUC=0.41），所以没有太大的差异。不管怎样，我将留下这些行，因为我将在稍后进行球员分析，我不希望有关于球员进球的有价值的信息被删除。"
   ]
  },
  {
   "cell_type": "markdown",
   "metadata": {},
   "source": [
    "# 3. 关于xG模型的结论\n",
    "\n",
    "## 3.a) 我们的模型有多好？"
   ]
  },
  {
   "cell_type": "markdown",
   "metadata": {},
   "source": [
    "很难确定这个模型是否良好，因为没有太多可比较的。我认为科恩的Kappa和PR-AUC PR是我们衡量其表现的最佳指标，但要找到其他不同xG模型的这些数字进行比较并不容易。许多人报告了按季节汇总的**R2**数据，但这没有多大意义。在第4节中，我们将看到我们的模型得出运动员的总预期目标和实际目标之间的相关性为**0.97**，这表明该模型可能足够好，但这一指标也不理想。\n",
    "\n",
    "在搜索其他xG模型以及它们的表现时，为了能够比较这有多好，我在其他模型中发现了以下关于AUC-ROC的内容（参见[此处](http://business-analytic.co.uk/blog/assessing-expected-goals-models-part-2-anatomy-of-a-big-chance/)):\n",
    "\n",
    ". Standard Model: ROC-AUC = 79.8%\n",
    "\n",
    ". Big Chance Model: ROC-AUC = 75.1%\n",
    "\n",
    ". Standard+Big Chance: ROC-AUC = 82%\n",
    "\n",
    ". Standard+Defensive = ROC-AUC = 81.4%\n",
    "\n",
    "然后我们可以将这个模型与其他模型进行比较，至少在这个统计数据上，正如我之前提到的，我认为这不是决定模型性能的最佳方法。\n",
    "\n",
    "我们的模型的ROC-AUC为**81.9%**，这表明它相当不错，至少与那些模型相比是如此。"
   ]
  },
  {
   "cell_type": "markdown",
   "metadata": {},
   "source": [
    "## 3.b) 我们怎么提升xG模型?"
   ]
  },
  {
   "cell_type": "markdown",
   "metadata": {},
   "source": [
    "我用不同的超参数尝试了不同的算法，结果变化不大。\n",
    "\n",
    "但是，我们可以添加哪些额外的数据来改进我们的模型？首先，有关于防守队的信息会很好。在球门和持球球员之间有多少后卫？运动员能承受多大的防守压力？运动员有多少时间/空间来射门？我想这些问题的（量化的）答案可以给模型提供有趣的新信息，作为其预测的基础。\n",
    "\n",
    "此外，我们将射门的位置分为17个不同的类别。这很好，但最好是有运动员所在位置的精确x和y坐标。这可能会使每次射门的位置更加精确，从而使模型的预测更加精确。"
   ]
  },
  {
   "cell_type": "markdown",
   "metadata": {},
   "source": [
    "# 4. 球员分析"
   ]
  },
  {
   "cell_type": "markdown",
   "metadata": {},
   "source": [
    "首先，我们将在原始数据中的每个射门中添加有关预期目标的信息。从那里，我们可以提取出许多关于玩家的有趣指标，所有这些指标都以某种方式与每次射门的新xG预测相关。"
   ]
  },
  {
   "cell_type": "code",
   "execution_count": 34,
   "metadata": {
    "execution": {
     "iopub.execute_input": "2022-01-03T16:40:25.336072Z",
     "iopub.status.busy": "2022-01-03T16:40:25.335775Z",
     "iopub.status.idle": "2022-01-03T16:40:26.846045Z",
     "shell.execute_reply": "2022-01-03T16:40:26.845351Z",
     "shell.execute_reply.started": "2022-01-03T16:40:25.336016Z"
    }
   },
   "outputs": [
    {
     "name": "stderr",
     "output_type": "stream",
     "text": [
      "/opt/conda/lib/python3.6/site-packages/ipykernel_launcher.py:1: SettingWithCopyWarning: \n",
      "A value is trying to be set on a copy of a slice from a DataFrame.\n",
      "Try using .loc[row_indexer,col_indexer] = value instead\n",
      "\n",
      "See the caveats in the documentation: http://pandas.pydata.org/pandas-docs/stable/indexing.html#indexing-view-versus-copy\n",
      "  \"\"\"Entry point for launching an IPython kernel.\n",
      "/opt/conda/lib/python3.6/site-packages/ipykernel_launcher.py:2: SettingWithCopyWarning: \n",
      "A value is trying to be set on a copy of a slice from a DataFrame.\n",
      "Try using .loc[row_indexer,col_indexer] = value instead\n",
      "\n",
      "See the caveats in the documentation: http://pandas.pydata.org/pandas-docs/stable/indexing.html#indexing-view-versus-copy\n",
      "  \n"
     ]
    }
   ],
   "source": [
    "shots['prediction'] = model.predict_proba(X)[:, 1]\n",
    "shots['difference'] = shots['prediction'] - shots['is_goal']"
   ]
  },
  {
   "cell_type": "markdown",
   "metadata": {},
   "source": [
    "## 3.a) 最好的终结者是谁?"
   ]
  },
  {
   "cell_type": "markdown",
   "metadata": {},
   "source": [
    "通过观察球员进球数和预期进球数之间的差异，我们可以看出谁最擅长完成比赛。我们可以从两个不同的角度来处理这个问题：\n",
    "\n",
    "1-看看总进球数和总预期进球数之间的差异：这将告诉我们与预期进球数相比，哪个球员的进球数最高。\n",
    "\n",
    "2-看看总进球数和总预期进球数之间的比率：这将准确地告诉我们球员在每个他应该进球的进球数之间的关系。"
   ]
  },
  {
   "cell_type": "code",
   "execution_count": 35,
   "metadata": {
    "execution": {
     "iopub.execute_input": "2022-01-03T16:40:26.847546Z",
     "iopub.status.busy": "2022-01-03T16:40:26.847095Z",
     "iopub.status.idle": "2022-01-03T16:40:26.985619Z",
     "shell.execute_reply": "2022-01-03T16:40:26.984903Z",
     "shell.execute_reply.started": "2022-01-03T16:40:26.847496Z"
    }
   },
   "outputs": [],
   "source": [
    "players = shots.groupby('player').sum().reset_index()\n",
    "players.rename(columns={'is_goal': 'trueGoals', 'prediction': 'expectedGoals'}, inplace=True)\n",
    "players.expectedGoals = round(players.expectedGoals,2)\n",
    "players.difference = round(players.difference,2)\n",
    "players['ratio'] = players['trueGoals'] / players['expectedGoals']"
   ]
  },
  {
   "cell_type": "code",
   "execution_count": 36,
   "metadata": {
    "execution": {
     "iopub.execute_input": "2022-01-03T16:40:26.987480Z",
     "iopub.status.busy": "2022-01-03T16:40:26.986992Z",
     "iopub.status.idle": "2022-01-03T16:40:26.994750Z",
     "shell.execute_reply": "2022-01-03T16:40:26.993590Z",
     "shell.execute_reply.started": "2022-01-03T16:40:26.987269Z"
    }
   },
   "outputs": [
    {
     "name": "stdout",
     "output_type": "stream",
     "text": [
      "0.977\n"
     ]
    }
   ],
   "source": [
    "print(round(players.expectedGoals.corr(players.trueGoals),3))"
   ]
  },
  {
   "cell_type": "markdown",
   "metadata": {},
   "source": [
    "如上所述，我们看到*trueGoals*和*expectedGoals*之间的相关性非常高，这很好地说明了我们的xG模型。"
   ]
  },
  {
   "cell_type": "markdown",
   "metadata": {},
   "source": [
    "### 最好的终结者"
   ]
  },
  {
   "cell_type": "code",
   "execution_count": 37,
   "metadata": {
    "execution": {
     "iopub.execute_input": "2022-01-03T16:40:26.996512Z",
     "iopub.status.busy": "2022-01-03T16:40:26.996007Z",
     "iopub.status.idle": "2022-01-03T16:40:27.020690Z",
     "shell.execute_reply": "2022-01-03T16:40:27.019907Z",
     "shell.execute_reply.started": "2022-01-03T16:40:26.996322Z"
    }
   },
   "outputs": [
    {
     "data": {
      "text/html": [
       "<div>\n",
       "<style scoped>\n",
       "    .dataframe tbody tr th:only-of-type {\n",
       "        vertical-align: middle;\n",
       "    }\n",
       "\n",
       "    .dataframe tbody tr th {\n",
       "        vertical-align: top;\n",
       "    }\n",
       "\n",
       "    .dataframe thead th {\n",
       "        text-align: right;\n",
       "    }\n",
       "</style>\n",
       "<table border=\"1\" class=\"dataframe\">\n",
       "  <thead>\n",
       "    <tr style=\"text-align: right;\">\n",
       "      <th></th>\n",
       "      <th>rank</th>\n",
       "      <th>player</th>\n",
       "      <th>difference</th>\n",
       "      <th>trueGoals</th>\n",
       "      <th>expectedGoals</th>\n",
       "    </tr>\n",
       "  </thead>\n",
       "  <tbody>\n",
       "    <tr>\n",
       "      <th>0</th>\n",
       "      <td>1</td>\n",
       "      <td>Lionel Messi</td>\n",
       "      <td>-58.87</td>\n",
       "      <td>205</td>\n",
       "      <td>146.13</td>\n",
       "    </tr>\n",
       "    <tr>\n",
       "      <th>1</th>\n",
       "      <td>2</td>\n",
       "      <td>Zlatan Ibrahimovic</td>\n",
       "      <td>-33.71</td>\n",
       "      <td>153</td>\n",
       "      <td>119.29</td>\n",
       "    </tr>\n",
       "    <tr>\n",
       "      <th>2</th>\n",
       "      <td>3</td>\n",
       "      <td>Cristiano Ronaldo</td>\n",
       "      <td>-32.27</td>\n",
       "      <td>198</td>\n",
       "      <td>165.73</td>\n",
       "    </tr>\n",
       "    <tr>\n",
       "      <th>3</th>\n",
       "      <td>4</td>\n",
       "      <td>Luis Suarez</td>\n",
       "      <td>-31.66</td>\n",
       "      <td>96</td>\n",
       "      <td>64.34</td>\n",
       "    </tr>\n",
       "    <tr>\n",
       "      <th>4</th>\n",
       "      <td>5</td>\n",
       "      <td>Gonzalo Higuain</td>\n",
       "      <td>-31.61</td>\n",
       "      <td>118</td>\n",
       "      <td>86.39</td>\n",
       "    </tr>\n",
       "  </tbody>\n",
       "</table>\n",
       "</div>"
      ],
      "text/plain": [
       "   rank              player  difference  trueGoals  expectedGoals\n",
       "0     1        Lionel Messi      -58.87        205         146.13\n",
       "1     2  Zlatan Ibrahimovic      -33.71        153         119.29\n",
       "2     3   Cristiano Ronaldo      -32.27        198         165.73\n",
       "3     4         Luis Suarez      -31.66         96          64.34\n",
       "4     5     Gonzalo Higuain      -31.61        118          86.39"
      ]
     },
     "execution_count": 37,
     "metadata": {},
     "output_type": "execute_result"
    }
   ],
   "source": [
    "show = players.sort_values(['difference', 'trueGoals']).reset_index(drop=True)\n",
    "show['rank'] = show.index+1\n",
    "show = show[['rank', 'player', 'difference', 'trueGoals', 'expectedGoals']].head(10)\n",
    "show.head(5)"
   ]
  },
  {
   "cell_type": "code",
   "execution_count": 38,
   "metadata": {
    "execution": {
     "iopub.execute_input": "2022-01-03T16:40:27.022354Z",
     "iopub.status.busy": "2022-01-03T16:40:27.021856Z",
     "iopub.status.idle": "2022-01-03T16:40:27.382597Z",
     "shell.execute_reply": "2022-01-03T16:40:27.381895Z",
     "shell.execute_reply.started": "2022-01-03T16:40:27.022290Z"
    }
   },
   "outputs": [
    {
     "data": {
      "image/png": "[encoded data removed]",
      "text/plain": [
       "<Figure size 864x360 with 1 Axes>"
      ]
     },
     "metadata": {},
     "output_type": "display_data"
    }
   ],
   "source": [
    "sns.set_style(\"dark\")\n",
    "fig, ax = plt.subplots(figsize=[12,5])\n",
    "ax = sns.barplot(x=abs(show['difference']), y=show['player'], palette='viridis', alpha=0.9)\n",
    "ax.set_xticks(np.arange(0,65,5))\n",
    "ax.set_xlabel(xlabel='Diff. between Goals Scored and Goals Expected', fontsize=12)\n",
    "ax.set_ylabel(ylabel='')\n",
    "ax.set_yticklabels(labels=ax.get_yticklabels(), fontsize=12)\n",
    "plt.title(\"Best Finishers: most goals on top of expected\", fontsize=20, fontfamily='serif')\n",
    "ax.grid(color='black', linestyle='-', linewidth=0.1, alpha=0.8, axis='x')\n",
    "plt.show()"
   ]
  },
  {
   "cell_type": "markdown",
   "metadata": {},
   "source": [
    "毫不奇怪，我们可以看到**Messi**在这个指标上比其他人好得多。根据他所有射门的次数和特点，他本应打进146球，但他却进了205球。不出所料，我们在榜单上找到的都是世界级的著名球员。\n",
    "\n",
    "请记住，我们在这里看到的是绝对值，即总目标。让我们看看当我们看进球得分/期望得分比率时会发生什么。我们只保留进球总数超过30个的球员（数据涵盖了8年的时间跨度，因此30个进球并不多）。"
   ]
  },
  {
   "cell_type": "code",
   "execution_count": 39,
   "metadata": {
    "execution": {
     "iopub.execute_input": "2022-01-03T16:40:27.384392Z",
     "iopub.status.busy": "2022-01-03T16:40:27.383894Z",
     "iopub.status.idle": "2022-01-03T16:40:27.404323Z",
     "shell.execute_reply": "2022-01-03T16:40:27.403771Z",
     "shell.execute_reply.started": "2022-01-03T16:40:27.384343Z"
    }
   },
   "outputs": [
    {
     "data": {
      "text/html": [
       "<div>\n",
       "<style scoped>\n",
       "    .dataframe tbody tr th:only-of-type {\n",
       "        vertical-align: middle;\n",
       "    }\n",
       "\n",
       "    .dataframe tbody tr th {\n",
       "        vertical-align: top;\n",
       "    }\n",
       "\n",
       "    .dataframe thead th {\n",
       "        text-align: right;\n",
       "    }\n",
       "</style>\n",
       "<table border=\"1\" class=\"dataframe\">\n",
       "  <thead>\n",
       "    <tr style=\"text-align: right;\">\n",
       "      <th></th>\n",
       "      <th>rank</th>\n",
       "      <th>player</th>\n",
       "      <th>ratio</th>\n",
       "      <th>trueGoals</th>\n",
       "      <th>expectedGoals</th>\n",
       "    </tr>\n",
       "  </thead>\n",
       "  <tbody>\n",
       "    <tr>\n",
       "      <th>0</th>\n",
       "      <td>1</td>\n",
       "      <td>Franck Ribery</td>\n",
       "      <td>1.892148</td>\n",
       "      <td>40</td>\n",
       "      <td>21.14</td>\n",
       "    </tr>\n",
       "    <tr>\n",
       "      <th>1</th>\n",
       "      <td>2</td>\n",
       "      <td>Mario Gotze</td>\n",
       "      <td>1.584582</td>\n",
       "      <td>37</td>\n",
       "      <td>23.35</td>\n",
       "    </tr>\n",
       "    <tr>\n",
       "      <th>2</th>\n",
       "      <td>3</td>\n",
       "      <td>Bas Dost</td>\n",
       "      <td>1.549720</td>\n",
       "      <td>36</td>\n",
       "      <td>23.23</td>\n",
       "    </tr>\n",
       "    <tr>\n",
       "      <th>3</th>\n",
       "      <td>4</td>\n",
       "      <td>Heungmin Son</td>\n",
       "      <td>1.520913</td>\n",
       "      <td>32</td>\n",
       "      <td>21.04</td>\n",
       "    </tr>\n",
       "    <tr>\n",
       "      <th>4</th>\n",
       "      <td>5</td>\n",
       "      <td>Luis Suarez</td>\n",
       "      <td>1.492073</td>\n",
       "      <td>96</td>\n",
       "      <td>64.34</td>\n",
       "    </tr>\n",
       "  </tbody>\n",
       "</table>\n",
       "</div>"
      ],
      "text/plain": [
       "   rank         player     ratio  trueGoals  expectedGoals\n",
       "0     1  Franck Ribery  1.892148         40          21.14\n",
       "1     2    Mario Gotze  1.584582         37          23.35\n",
       "2     3       Bas Dost  1.549720         36          23.23\n",
       "3     4   Heungmin Son  1.520913         32          21.04\n",
       "4     5    Luis Suarez  1.492073         96          64.34"
      ]
     },
     "execution_count": 39,
     "metadata": {},
     "output_type": "execute_result"
    }
   ],
   "source": [
    "show = players[players['trueGoals']>30].sort_values(['ratio', 'trueGoals'], ascending=False).reset_index(drop=True)\n",
    "show['rank'] = show.index+1\n",
    "show = show[['rank', 'player', 'ratio', 'trueGoals', 'expectedGoals']].head(10)\n",
    "show.head(5)\n"
   ]
  },
  {
   "cell_type": "code",
   "execution_count": 40,
   "metadata": {
    "execution": {
     "iopub.execute_input": "2022-01-03T16:40:27.406447Z",
     "iopub.status.busy": "2022-01-03T16:40:27.406038Z",
     "iopub.status.idle": "2022-01-03T16:40:27.740162Z",
     "shell.execute_reply": "2022-01-03T16:40:27.739442Z",
     "shell.execute_reply.started": "2022-01-03T16:40:27.406400Z"
    }
   },
   "outputs": [
    {
     "data": {
      "image/png": "[encoded data removed]",
      "text/plain": [
       "<Figure size 864x360 with 1 Axes>"
      ]
     },
     "metadata": {},
     "output_type": "display_data"
    }
   ],
   "source": [
    "sns.set_style(\"dark\")\n",
    "fig, ax = plt.subplots(figsize=[12,5])\n",
    "ax = sns.barplot(x=show['ratio'], y=show['player'], palette='viridis', alpha=0.9)\n",
    "ax.set_xticks(np.arange(0,1.9,0.2))\n",
    "ax.set_xlabel(xlabel='Goals Scored per one XGoal', fontsize=12)\n",
    "ax.set_ylabel(ylabel='')\n",
    "ax.set_yticklabels(labels=ax.get_yticklabels(), fontsize=12)\n",
    "plt.title(\"Best Finishers: goals/xGoals\", fontsize=22, fontfamily='serif')\n",
    "ax.grid(color='black', linestyle='-', linewidth=0.1, axis='x')\n",
    "plt.show()"
   ]
  },
  {
   "cell_type": "markdown",
   "metadata": {},
   "source": [
    "我们发现**Ribery**是比赛中最高产的终结者。这个指标的一个优点是它很容易解释。它对应于球员得分的比例，与如果他像普通球员一样射门的话他会进多少球相对应。在**Ribery**的例子中，根据他射门的次数，他每进一球就应该得分，但他几乎进了两球。"
   ]
  },
  {
   "cell_type": "markdown",
   "metadata": {},
   "source": [
    "### 每赛季每个联赛的最佳终结者"
   ]
  },
  {
   "cell_type": "markdown",
   "metadata": {},
   "source": [
    "在我们的数据中，谁是每个赛季中最好的终结者？"
   ]
  },
  {
   "cell_type": "code",
   "execution_count": 41,
   "metadata": {
    "execution": {
     "iopub.execute_input": "2022-01-03T16:40:27.741803Z",
     "iopub.status.busy": "2022-01-03T16:40:27.741303Z",
     "iopub.status.idle": "2022-01-03T16:40:27.884132Z",
     "shell.execute_reply": "2022-01-03T16:40:27.883356Z",
     "shell.execute_reply.started": "2022-01-03T16:40:27.741755Z"
    }
   },
   "outputs": [],
   "source": [
    "players_per_year = shots.groupby(['year', 'country', 'player']).sum().reset_index()\n",
    "players_per_year.rename(columns={'is_goal': 'trueGoals', 'prediction': 'expectedGoals'}, inplace=True)\n",
    "players_per_year.expectedGoals = round(players_per_year.expectedGoals,2)\n",
    "players_per_year.difference = round(players_per_year.difference,2)\n",
    "players_per_year['ratio'] = players_per_year['trueGoals'] / players_per_year['expectedGoals']\n",
    "players_per_year['ratio'] = round(players_per_year.ratio, 2)"
   ]
  },
  {
   "cell_type": "code",
   "execution_count": 42,
   "metadata": {
    "execution": {
     "iopub.execute_input": "2022-01-03T16:40:27.885542Z",
     "iopub.status.busy": "2022-01-03T16:40:27.885272Z",
     "iopub.status.idle": "2022-01-03T16:40:27.892834Z",
     "shell.execute_reply": "2022-01-03T16:40:27.891906Z",
     "shell.execute_reply.started": "2022-01-03T16:40:27.885498Z"
    }
   },
   "outputs": [],
   "source": [
    "def best_finishers_per_year(years, leagues, min_goals, df):\n",
    "    years_res=[]; leagues_res=[]; players_res=[]; ratio_res=[]; goals=[]\n",
    "    players_per_year = df[df['trueGoals']>min_goals]\n",
    "    for league in leagues:\n",
    "        for year in years:\n",
    "            results = players_per_year[(players_per_year['year']==year) & (players_per_year['country']==league)].sort_values(by='ratio', ascending=False).reset_index(drop=True)\n",
    "            results['rank'] = results.index + 1\n",
    "            if len(results)>0:\n",
    "                years_res.append(year)\n",
    "                leagues_res.append(league)\n",
    "                players_res.append(results[results['rank']==1]['player'].iloc[0])\n",
    "                ratio_res.append(results[results['rank']==1]['ratio'].iloc[0])\n",
    "                goals.append(results[results['rank']==1]['trueGoals'].iloc[0])\n",
    "    return years_res, leagues_res, players_res, ratio_res, goals"
   ]
  },
  {
   "cell_type": "code",
   "execution_count": 43,
   "metadata": {
    "execution": {
     "iopub.execute_input": "2022-01-03T16:40:27.894427Z",
     "iopub.status.busy": "2022-01-03T16:40:27.893996Z",
     "iopub.status.idle": "2022-01-03T16:40:28.045515Z",
     "shell.execute_reply": "2022-01-03T16:40:28.044891Z",
     "shell.execute_reply.started": "2022-01-03T16:40:27.894379Z"
    }
   },
   "outputs": [],
   "source": [
    "years, leagues, players_res, ratio, goals = best_finishers_per_year(years = players_per_year.year.unique(), leagues=players_per_year.country.unique(),\\\n",
    "                       min_goals=12, df=players_per_year)"
   ]
  },
  {
   "cell_type": "code",
   "execution_count": 44,
   "metadata": {
    "execution": {
     "iopub.execute_input": "2022-01-03T16:40:28.046886Z",
     "iopub.status.busy": "2022-01-03T16:40:28.046614Z",
     "iopub.status.idle": "2022-01-03T16:40:28.064566Z",
     "shell.execute_reply": "2022-01-03T16:40:28.063848Z",
     "shell.execute_reply.started": "2022-01-03T16:40:28.046840Z"
    }
   },
   "outputs": [
    {
     "data": {
      "text/html": [
       "<div>\n",
       "<style scoped>\n",
       "    .dataframe tbody tr th:only-of-type {\n",
       "        vertical-align: middle;\n",
       "    }\n",
       "\n",
       "    .dataframe tbody tr th {\n",
       "        vertical-align: top;\n",
       "    }\n",
       "\n",
       "    .dataframe thead th {\n",
       "        text-align: right;\n",
       "    }\n",
       "</style>\n",
       "<table border=\"1\" class=\"dataframe\">\n",
       "  <thead>\n",
       "    <tr style=\"text-align: right;\">\n",
       "      <th></th>\n",
       "      <th>League</th>\n",
       "      <th>Year</th>\n",
       "      <th>bestFinisher</th>\n",
       "      <th>Goals</th>\n",
       "      <th>Goals/xGoals Ratio</th>\n",
       "    </tr>\n",
       "  </thead>\n",
       "  <tbody>\n",
       "    <tr>\n",
       "      <th>0</th>\n",
       "      <td>France</td>\n",
       "      <td>2011</td>\n",
       "      <td>Olivier Giroud</td>\n",
       "      <td>13</td>\n",
       "      <td>1.22</td>\n",
       "    </tr>\n",
       "    <tr>\n",
       "      <th>1</th>\n",
       "      <td>France</td>\n",
       "      <td>2012</td>\n",
       "      <td>Zlatan Ibrahimovic</td>\n",
       "      <td>18</td>\n",
       "      <td>1.47</td>\n",
       "    </tr>\n",
       "    <tr>\n",
       "      <th>2</th>\n",
       "      <td>France</td>\n",
       "      <td>2013</td>\n",
       "      <td>Dario Cvitanich</td>\n",
       "      <td>16</td>\n",
       "      <td>1.69</td>\n",
       "    </tr>\n",
       "    <tr>\n",
       "      <th>3</th>\n",
       "      <td>France</td>\n",
       "      <td>2014</td>\n",
       "      <td>Cheick Diabate</td>\n",
       "      <td>13</td>\n",
       "      <td>1.61</td>\n",
       "    </tr>\n",
       "    <tr>\n",
       "      <th>4</th>\n",
       "      <td>France</td>\n",
       "      <td>2015</td>\n",
       "      <td>Benjamin Moukandjo</td>\n",
       "      <td>13</td>\n",
       "      <td>1.69</td>\n",
       "    </tr>\n",
       "    <tr>\n",
       "      <th>5</th>\n",
       "      <td>France</td>\n",
       "      <td>2016</td>\n",
       "      <td>Zlatan Ibrahimovic</td>\n",
       "      <td>21</td>\n",
       "      <td>2.26</td>\n",
       "    </tr>\n",
       "    <tr>\n",
       "      <th>6</th>\n",
       "      <td>Germany</td>\n",
       "      <td>2011</td>\n",
       "      <td>Klaasjan Huntelaar</td>\n",
       "      <td>15</td>\n",
       "      <td>1.78</td>\n",
       "    </tr>\n",
       "    <tr>\n",
       "      <th>7</th>\n",
       "      <td>Germany</td>\n",
       "      <td>2012</td>\n",
       "      <td>Martin Harnik</td>\n",
       "      <td>15</td>\n",
       "      <td>1.78</td>\n",
       "    </tr>\n",
       "    <tr>\n",
       "      <th>8</th>\n",
       "      <td>Germany</td>\n",
       "      <td>2013</td>\n",
       "      <td>Ivica Olic</td>\n",
       "      <td>13</td>\n",
       "      <td>2.23</td>\n",
       "    </tr>\n",
       "    <tr>\n",
       "      <th>9</th>\n",
       "      <td>Germany</td>\n",
       "      <td>2014</td>\n",
       "      <td>Josip Drmic</td>\n",
       "      <td>14</td>\n",
       "      <td>2.03</td>\n",
       "    </tr>\n",
       "    <tr>\n",
       "      <th>10</th>\n",
       "      <td>Germany</td>\n",
       "      <td>2015</td>\n",
       "      <td>Raffael</td>\n",
       "      <td>15</td>\n",
       "      <td>1.81</td>\n",
       "    </tr>\n",
       "    <tr>\n",
       "      <th>11</th>\n",
       "      <td>Germany</td>\n",
       "      <td>2016</td>\n",
       "      <td>Pierreemerick Aubameyang</td>\n",
       "      <td>23</td>\n",
       "      <td>1.34</td>\n",
       "    </tr>\n",
       "    <tr>\n",
       "      <th>12</th>\n",
       "      <td>Italy</td>\n",
       "      <td>2012</td>\n",
       "      <td>Miroslav Klose</td>\n",
       "      <td>14</td>\n",
       "      <td>2.03</td>\n",
       "    </tr>\n",
       "    <tr>\n",
       "      <th>13</th>\n",
       "      <td>Italy</td>\n",
       "      <td>2013</td>\n",
       "      <td>Luis Muriel</td>\n",
       "      <td>13</td>\n",
       "      <td>1.62</td>\n",
       "    </tr>\n",
       "    <tr>\n",
       "      <th>14</th>\n",
       "      <td>Italy</td>\n",
       "      <td>2014</td>\n",
       "      <td>Ciro Immobile</td>\n",
       "      <td>14</td>\n",
       "      <td>1.76</td>\n",
       "    </tr>\n",
       "    <tr>\n",
       "      <th>15</th>\n",
       "      <td>Italy</td>\n",
       "      <td>2015</td>\n",
       "      <td>Massimo Maccarone</td>\n",
       "      <td>15</td>\n",
       "      <td>1.79</td>\n",
       "    </tr>\n",
       "    <tr>\n",
       "      <th>16</th>\n",
       "      <td>Italy</td>\n",
       "      <td>2016</td>\n",
       "      <td>Dries Mertens</td>\n",
       "      <td>15</td>\n",
       "      <td>1.78</td>\n",
       "    </tr>\n",
       "    <tr>\n",
       "      <th>17</th>\n",
       "      <td>Spain</td>\n",
       "      <td>2011</td>\n",
       "      <td>Lionel Messi</td>\n",
       "      <td>17</td>\n",
       "      <td>1.55</td>\n",
       "    </tr>\n",
       "    <tr>\n",
       "      <th>18</th>\n",
       "      <td>Spain</td>\n",
       "      <td>2012</td>\n",
       "      <td>Lionel Messi</td>\n",
       "      <td>59</td>\n",
       "      <td>1.58</td>\n",
       "    </tr>\n",
       "    <tr>\n",
       "      <th>19</th>\n",
       "      <td>Spain</td>\n",
       "      <td>2013</td>\n",
       "      <td>Pedro</td>\n",
       "      <td>16</td>\n",
       "      <td>2.02</td>\n",
       "    </tr>\n",
       "    <tr>\n",
       "      <th>20</th>\n",
       "      <td>Spain</td>\n",
       "      <td>2014</td>\n",
       "      <td>Cristiano Ronaldo</td>\n",
       "      <td>34</td>\n",
       "      <td>1.59</td>\n",
       "    </tr>\n",
       "    <tr>\n",
       "      <th>21</th>\n",
       "      <td>Spain</td>\n",
       "      <td>2015</td>\n",
       "      <td>Antoine Griezmann</td>\n",
       "      <td>25</td>\n",
       "      <td>1.77</td>\n",
       "    </tr>\n",
       "    <tr>\n",
       "      <th>22</th>\n",
       "      <td>Spain</td>\n",
       "      <td>2016</td>\n",
       "      <td>Gareth Bale</td>\n",
       "      <td>16</td>\n",
       "      <td>1.82</td>\n",
       "    </tr>\n",
       "    <tr>\n",
       "      <th>23</th>\n",
       "      <td>England</td>\n",
       "      <td>2013</td>\n",
       "      <td>Luis Suarez</td>\n",
       "      <td>16</td>\n",
       "      <td>1.63</td>\n",
       "    </tr>\n",
       "    <tr>\n",
       "      <th>24</th>\n",
       "      <td>England</td>\n",
       "      <td>2014</td>\n",
       "      <td>Christian Eriksen</td>\n",
       "      <td>13</td>\n",
       "      <td>1.86</td>\n",
       "    </tr>\n",
       "    <tr>\n",
       "      <th>25</th>\n",
       "      <td>England</td>\n",
       "      <td>2015</td>\n",
       "      <td>Odion Ighalo</td>\n",
       "      <td>14</td>\n",
       "      <td>1.73</td>\n",
       "    </tr>\n",
       "    <tr>\n",
       "      <th>26</th>\n",
       "      <td>England</td>\n",
       "      <td>2016</td>\n",
       "      <td>Eden Hazard</td>\n",
       "      <td>13</td>\n",
       "      <td>1.78</td>\n",
       "    </tr>\n",
       "  </tbody>\n",
       "</table>\n",
       "</div>"
      ],
      "text/plain": [
       "     League  Year              bestFinisher  Goals  Goals/xGoals Ratio\n",
       "0    France  2011            Olivier Giroud     13                1.22\n",
       "1    France  2012        Zlatan Ibrahimovic     18                1.47\n",
       "2    France  2013           Dario Cvitanich     16                1.69\n",
       "3    France  2014            Cheick Diabate     13                1.61\n",
       "4    France  2015        Benjamin Moukandjo     13                1.69\n",
       "5    France  2016        Zlatan Ibrahimovic     21                2.26\n",
       "6   Germany  2011        Klaasjan Huntelaar     15                1.78\n",
       "7   Germany  2012             Martin Harnik     15                1.78\n",
       "8   Germany  2013                Ivica Olic     13                2.23\n",
       "9   Germany  2014               Josip Drmic     14                2.03\n",
       "10  Germany  2015                   Raffael     15                1.81\n",
       "11  Germany  2016  Pierreemerick Aubameyang     23                1.34\n",
       "12    Italy  2012            Miroslav Klose     14                2.03\n",
       "13    Italy  2013               Luis Muriel     13                1.62\n",
       "14    Italy  2014             Ciro Immobile     14                1.76\n",
       "15    Italy  2015         Massimo Maccarone     15                1.79\n",
       "16    Italy  2016             Dries Mertens     15                1.78\n",
       "17    Spain  2011              Lionel Messi     17                1.55\n",
       "18    Spain  2012              Lionel Messi     59                1.58\n",
       "19    Spain  2013                     Pedro     16                2.02\n",
       "20    Spain  2014         Cristiano Ronaldo     34                1.59\n",
       "21    Spain  2015         Antoine Griezmann     25                1.77\n",
       "22    Spain  2016               Gareth Bale     16                1.82\n",
       "23  England  2013               Luis Suarez     16                1.63\n",
       "24  England  2014         Christian Eriksen     13                1.86\n",
       "25  England  2015              Odion Ighalo     14                1.73\n",
       "26  England  2016               Eden Hazard     13                1.78"
      ]
     },
     "execution_count": 44,
     "metadata": {},
     "output_type": "execute_result"
    }
   ],
   "source": [
    "results_perYear = pd.DataFrame()\n",
    "results_perYear['League']=leagues\n",
    "results_perYear['Year']=years\n",
    "results_perYear['bestFinisher']=players_res\n",
    "results_perYear['Goals']=goals\n",
    "results_perYear['Goals/xGoals Ratio']=ratio\n",
    "results_perYear"
   ]
  },
  {
   "cell_type": "markdown",
   "metadata": {},
   "source": [
    "### 最差终结者\n",
    "现在，让我们看看评分的另外一侧"
   ]
  },
  {
   "cell_type": "code",
   "execution_count": 45,
   "metadata": {
    "execution": {
     "iopub.execute_input": "2022-01-03T16:40:28.066022Z",
     "iopub.status.busy": "2022-01-03T16:40:28.065610Z",
     "iopub.status.idle": "2022-01-03T16:40:28.087832Z",
     "shell.execute_reply": "2022-01-03T16:40:28.087241Z",
     "shell.execute_reply.started": "2022-01-03T16:40:28.065972Z"
    }
   },
   "outputs": [
    {
     "data": {
      "text/html": [
       "<div>\n",
       "<style scoped>\n",
       "    .dataframe tbody tr th:only-of-type {\n",
       "        vertical-align: middle;\n",
       "    }\n",
       "\n",
       "    .dataframe tbody tr th {\n",
       "        vertical-align: top;\n",
       "    }\n",
       "\n",
       "    .dataframe thead th {\n",
       "        text-align: right;\n",
       "    }\n",
       "</style>\n",
       "<table border=\"1\" class=\"dataframe\">\n",
       "  <thead>\n",
       "    <tr style=\"text-align: right;\">\n",
       "      <th></th>\n",
       "      <th>rank</th>\n",
       "      <th>player</th>\n",
       "      <th>difference</th>\n",
       "      <th>trueGoals</th>\n",
       "      <th>expectedGoals</th>\n",
       "    </tr>\n",
       "  </thead>\n",
       "  <tbody>\n",
       "    <tr>\n",
       "      <th>4784</th>\n",
       "      <td>4785</td>\n",
       "      <td>Mats Hummels</td>\n",
       "      <td>8.91</td>\n",
       "      <td>10</td>\n",
       "      <td>18.91</td>\n",
       "    </tr>\n",
       "    <tr>\n",
       "      <th>4785</th>\n",
       "      <td>4786</td>\n",
       "      <td>Amauri</td>\n",
       "      <td>12.00</td>\n",
       "      <td>20</td>\n",
       "      <td>32.00</td>\n",
       "    </tr>\n",
       "    <tr>\n",
       "      <th>4786</th>\n",
       "      <td>4787</td>\n",
       "      <td>Jesus Navas</td>\n",
       "      <td>14.51</td>\n",
       "      <td>9</td>\n",
       "      <td>23.51</td>\n",
       "    </tr>\n",
       "  </tbody>\n",
       "</table>\n",
       "</div>"
      ],
      "text/plain": [
       "      rank        player  difference  trueGoals  expectedGoals\n",
       "4784  4785  Mats Hummels        8.91         10          18.91\n",
       "4785  4786        Amauri       12.00         20          32.00\n",
       "4786  4787   Jesus Navas       14.51          9          23.51"
      ]
     },
     "execution_count": 45,
     "metadata": {},
     "output_type": "execute_result"
    }
   ],
   "source": [
    "show = players.sort_values(['difference', 'trueGoals']).reset_index(drop=True)\n",
    "show['rank'] = show.index+1\n",
    "show = show[['rank', 'player', 'difference', 'trueGoals', 'expectedGoals']].tail(10)\n",
    "show.tail(3)"
   ]
  },
  {
   "cell_type": "code",
   "execution_count": 46,
   "metadata": {
    "execution": {
     "iopub.execute_input": "2022-01-03T16:40:28.090674Z",
     "iopub.status.busy": "2022-01-03T16:40:28.090477Z",
     "iopub.status.idle": "2022-01-03T16:40:28.108497Z",
     "shell.execute_reply": "2022-01-03T16:40:28.107820Z",
     "shell.execute_reply.started": "2022-01-03T16:40:28.090634Z"
    }
   },
   "outputs": [
    {
     "data": {
      "text/html": [
       "<div>\n",
       "<style scoped>\n",
       "    .dataframe tbody tr th:only-of-type {\n",
       "        vertical-align: middle;\n",
       "    }\n",
       "\n",
       "    .dataframe tbody tr th {\n",
       "        vertical-align: top;\n",
       "    }\n",
       "\n",
       "    .dataframe thead th {\n",
       "        text-align: right;\n",
       "    }\n",
       "</style>\n",
       "<table border=\"1\" class=\"dataframe\">\n",
       "  <thead>\n",
       "    <tr style=\"text-align: right;\">\n",
       "      <th></th>\n",
       "      <th>rank</th>\n",
       "      <th>player</th>\n",
       "      <th>ratio</th>\n",
       "      <th>trueGoals</th>\n",
       "      <th>expectedGoals</th>\n",
       "    </tr>\n",
       "  </thead>\n",
       "  <tbody>\n",
       "    <tr>\n",
       "      <th>140</th>\n",
       "      <td>141</td>\n",
       "      <td>Giampaolo Pazzini</td>\n",
       "      <td>0.782038</td>\n",
       "      <td>31</td>\n",
       "      <td>39.64</td>\n",
       "    </tr>\n",
       "    <tr>\n",
       "      <th>139</th>\n",
       "      <td>140</td>\n",
       "      <td>Mario Balotelli</td>\n",
       "      <td>0.812641</td>\n",
       "      <td>36</td>\n",
       "      <td>44.30</td>\n",
       "    </tr>\n",
       "    <tr>\n",
       "      <th>138</th>\n",
       "      <td>139</td>\n",
       "      <td>Gonzalo Bergessio</td>\n",
       "      <td>0.845608</td>\n",
       "      <td>31</td>\n",
       "      <td>36.66</td>\n",
       "    </tr>\n",
       "  </tbody>\n",
       "</table>\n",
       "</div>"
      ],
      "text/plain": [
       "     rank             player     ratio  trueGoals  expectedGoals\n",
       "140   141  Giampaolo Pazzini  0.782038         31          39.64\n",
       "139   140    Mario Balotelli  0.812641         36          44.30\n",
       "138   139  Gonzalo Bergessio  0.845608         31          36.66"
      ]
     },
     "execution_count": 46,
     "metadata": {},
     "output_type": "execute_result"
    }
   ],
   "source": [
    "show = players[players['trueGoals']>30].sort_values(['ratio', 'trueGoals'], ascending=False).reset_index(drop=True)\n",
    "show['rank'] = show.index+1\n",
    "show = show.sort_values(by='rank', ascending=False)\n",
    "show = show[['rank', 'player', 'ratio', 'trueGoals', 'expectedGoals']].head(10)\n",
    "show.head(3)"
   ]
  },
  {
   "cell_type": "code",
   "execution_count": 47,
   "metadata": {
    "execution": {
     "iopub.execute_input": "2022-01-03T16:40:28.109933Z",
     "iopub.status.busy": "2022-01-03T16:40:28.109522Z",
     "iopub.status.idle": "2022-01-03T16:40:28.444028Z",
     "shell.execute_reply": "2022-01-03T16:40:28.443267Z",
     "shell.execute_reply.started": "2022-01-03T16:40:28.109885Z"
    }
   },
   "outputs": [
    {
     "data": {
      "image/png": "[encoded data removed]",
      "text/plain": [
       "<Figure size 864x360 with 1 Axes>"
      ]
     },
     "metadata": {},
     "output_type": "display_data"
    }
   ],
   "source": [
    "sns.set_style(\"dark\")\n",
    "fig, ax = plt.subplots(figsize=[12,5])\n",
    "ax = sns.barplot(x=show['ratio'], y=show['player'], palette='viridis', alpha=0.9)\n",
    "ax.set_xticks(np.arange(0,1.9,0.2))\n",
    "ax.set_xlabel(xlabel='Goals Scored per one XGoal', fontsize=12)\n",
    "ax.set_ylabel(ylabel='')\n",
    "ax.set_yticklabels(labels=ax.get_yticklabels(), fontsize=12)\n",
    "plt.title(\"Worst Finishers: goals/xGoals\", fontsize=22, fontfamily='serif')\n",
    "ax.grid(color='black', linestyle='-', linewidth=0.1, axis='x')\n",
    "plt.show()"
   ]
  },
  {
   "cell_type": "markdown",
   "metadata": {},
   "source": [
    "\n",
    "我们发现像**Mario Balotelli**, **Giampaolo Pazzini**、或**Edin Dzeko**等球员的进球比他们应有的少得多**Giampaolo Pazzini**实际上在这两个名单上（目标和trueGoals/xGoals比率的绝对差异）。\n",
    "\n",
    "看着进球比预期少很多的球员是很有趣的。这有点告诉我们，这些球员错过了太多的机会，应该提高他们的射门命中率。但这也意味着他们在那里创造了比最广泛的数据（比如*goals*）告诉我们的更多的得分机会。因此，从这个意义上说，他们被低估了。"
   ]
  },
  {
   "cell_type": "markdown",
   "metadata": {},
   "source": [
    "## 3.b) 哪名球员有最多的预期进球？"
   ]
  },
  {
   "cell_type": "markdown",
   "metadata": {},
   "source": [
    "为此，我们只需按*expectedGoals*顺序排列结果。正如我们的模型所预测的那样，它告诉我们，根据他们拥有的所有机会，哪些球员应该进球最多。"
   ]
  },
  {
   "cell_type": "code",
   "execution_count": 48,
   "metadata": {
    "execution": {
     "iopub.execute_input": "2022-01-03T16:40:28.445659Z",
     "iopub.status.busy": "2022-01-03T16:40:28.445160Z",
     "iopub.status.idle": "2022-01-03T16:40:28.463979Z",
     "shell.execute_reply": "2022-01-03T16:40:28.463242Z",
     "shell.execute_reply.started": "2022-01-03T16:40:28.445611Z"
    }
   },
   "outputs": [
    {
     "data": {
      "text/html": [
       "<div>\n",
       "<style scoped>\n",
       "    .dataframe tbody tr th:only-of-type {\n",
       "        vertical-align: middle;\n",
       "    }\n",
       "\n",
       "    .dataframe tbody tr th {\n",
       "        vertical-align: top;\n",
       "    }\n",
       "\n",
       "    .dataframe thead th {\n",
       "        text-align: right;\n",
       "    }\n",
       "</style>\n",
       "<table border=\"1\" class=\"dataframe\">\n",
       "  <thead>\n",
       "    <tr style=\"text-align: right;\">\n",
       "      <th></th>\n",
       "      <th>player</th>\n",
       "      <th>trueGoals</th>\n",
       "      <th>expectedGoals</th>\n",
       "    </tr>\n",
       "  </thead>\n",
       "  <tbody>\n",
       "    <tr>\n",
       "      <th>944</th>\n",
       "      <td>Cristiano Ronaldo</td>\n",
       "      <td>198</td>\n",
       "      <td>165.73</td>\n",
       "    </tr>\n",
       "    <tr>\n",
       "      <th>2745</th>\n",
       "      <td>Lionel Messi</td>\n",
       "      <td>205</td>\n",
       "      <td>146.13</td>\n",
       "    </tr>\n",
       "    <tr>\n",
       "      <th>4779</th>\n",
       "      <td>Zlatan Ibrahimovic</td>\n",
       "      <td>153</td>\n",
       "      <td>119.29</td>\n",
       "    </tr>\n",
       "    <tr>\n",
       "      <th>1277</th>\n",
       "      <td>Edinson Cavani</td>\n",
       "      <td>121</td>\n",
       "      <td>113.93</td>\n",
       "    </tr>\n",
       "    <tr>\n",
       "      <th>3971</th>\n",
       "      <td>Robert Lewandowski</td>\n",
       "      <td>124</td>\n",
       "      <td>96.97</td>\n",
       "    </tr>\n",
       "  </tbody>\n",
       "</table>\n",
       "</div>"
      ],
      "text/plain": [
       "                  player  trueGoals  expectedGoals\n",
       "944    Cristiano Ronaldo        198         165.73\n",
       "2745        Lionel Messi        205         146.13\n",
       "4779  Zlatan Ibrahimovic        153         119.29\n",
       "1277      Edinson Cavani        121         113.93\n",
       "3971  Robert Lewandowski        124          96.97"
      ]
     },
     "execution_count": 48,
     "metadata": {},
     "output_type": "execute_result"
    }
   ],
   "source": [
    "show = players[['player', 'trueGoals', 'expectedGoals']].sort_values(['expectedGoals'], ascending=False).head(10)\n",
    "show.head(5)"
   ]
  },
  {
   "cell_type": "code",
   "execution_count": 49,
   "metadata": {
    "execution": {
     "iopub.execute_input": "2022-01-03T16:40:28.468073Z",
     "iopub.status.busy": "2022-01-03T16:40:28.467872Z",
     "iopub.status.idle": "2022-01-03T16:40:28.839793Z",
     "shell.execute_reply": "2022-01-03T16:40:28.839100Z",
     "shell.execute_reply.started": "2022-01-03T16:40:28.468031Z"
    }
   },
   "outputs": [
    {
     "data": {
      "image/png": "[encoded data removed]",
      "text/plain": [
       "<Figure size 864x360 with 1 Axes>"
      ]
     },
     "metadata": {},
     "output_type": "display_data"
    }
   ],
   "source": [
    "sns.set_style(\"dark\")\n",
    "fig, ax = plt.subplots(figsize=[12,5])\n",
    "ax = sns.barplot(x=show['expectedGoals'], y=show['player'], palette='viridis', alpha=0.9)\n",
    "ax.set_xticks(np.arange(0,180,10))\n",
    "ax.set_xlabel(xlabel='Total xGoals across all seasons', fontsize=12)\n",
    "ax.set_ylabel(ylabel='')\n",
    "ax.set_yticklabels(labels=ax.get_yticklabels(), fontsize=12)\n",
    "plt.title(\"Highest Values of Total XGoals\", fontsize=22, fontfamily='serif')\n",
    "ax.grid(color='black', linestyle='-', linewidth=0.1, axis='x')\n",
    "plt.show()"
   ]
  },
  {
   "cell_type": "markdown",
   "metadata": {},
   "source": [
    "## 3.c) 哪名球员有最差的射门选择？"
   ]
  },
  {
   "cell_type": "markdown",
   "metadata": {},
   "source": [
    "通过研究球员的总预期目标和他们尝试射门的总次数之间的关系，我们可以确定哪些球员做出了最糟糕的射门决定。也就是说，他们总是倾向于不太可能最终成为目标的射门。我们将只选择至少射门100次的球员。"
   ]
  },
  {
   "cell_type": "code",
   "execution_count": 50,
   "metadata": {
    "execution": {
     "iopub.execute_input": "2022-01-03T16:40:28.841280Z",
     "iopub.status.busy": "2022-01-03T16:40:28.840874Z",
     "iopub.status.idle": "2022-01-03T16:40:28.846408Z",
     "shell.execute_reply": "2022-01-03T16:40:28.845473Z",
     "shell.execute_reply.started": "2022-01-03T16:40:28.841230Z"
    }
   },
   "outputs": [],
   "source": [
    "# Because event_type is always one in our data, we can use it its sum as the total number of shots each player took.\n",
    "players.rename(columns={'event_type': 'n_shots'}, inplace=True)"
   ]
  },
  {
   "cell_type": "code",
   "execution_count": 51,
   "metadata": {
    "execution": {
     "iopub.execute_input": "2022-01-03T16:40:28.848221Z",
     "iopub.status.busy": "2022-01-03T16:40:28.847754Z",
     "iopub.status.idle": "2022-01-03T16:40:28.870852Z",
     "shell.execute_reply": "2022-01-03T16:40:28.870052Z",
     "shell.execute_reply.started": "2022-01-03T16:40:28.848173Z"
    }
   },
   "outputs": [
    {
     "data": {
      "text/html": [
       "<div>\n",
       "<style scoped>\n",
       "    .dataframe tbody tr th:only-of-type {\n",
       "        vertical-align: middle;\n",
       "    }\n",
       "\n",
       "    .dataframe tbody tr th {\n",
       "        vertical-align: top;\n",
       "    }\n",
       "\n",
       "    .dataframe thead th {\n",
       "        text-align: right;\n",
       "    }\n",
       "</style>\n",
       "<table border=\"1\" class=\"dataframe\">\n",
       "  <thead>\n",
       "    <tr style=\"text-align: right;\">\n",
       "      <th></th>\n",
       "      <th>rank</th>\n",
       "      <th>player</th>\n",
       "      <th>xG_per_shot_ratio</th>\n",
       "      <th>trueGoals</th>\n",
       "      <th>expectedGoals</th>\n",
       "      <th>difference</th>\n",
       "    </tr>\n",
       "  </thead>\n",
       "  <tbody>\n",
       "    <tr>\n",
       "      <th>669</th>\n",
       "      <td>670</td>\n",
       "      <td>Daniel Baier</td>\n",
       "      <td>0.042316</td>\n",
       "      <td>5</td>\n",
       "      <td>7.49</td>\n",
       "      <td>2.49</td>\n",
       "    </tr>\n",
       "    <tr>\n",
       "      <th>670</th>\n",
       "      <td>671</td>\n",
       "      <td>Ivan Radovanovic</td>\n",
       "      <td>0.041491</td>\n",
       "      <td>2</td>\n",
       "      <td>6.68</td>\n",
       "      <td>4.68</td>\n",
       "    </tr>\n",
       "    <tr>\n",
       "      <th>671</th>\n",
       "      <td>672</td>\n",
       "      <td>Florent Balmont</td>\n",
       "      <td>0.036786</td>\n",
       "      <td>5</td>\n",
       "      <td>6.18</td>\n",
       "      <td>1.18</td>\n",
       "    </tr>\n",
       "    <tr>\n",
       "      <th>672</th>\n",
       "      <td>673</td>\n",
       "      <td>Gokhan Inler</td>\n",
       "      <td>0.035622</td>\n",
       "      <td>9</td>\n",
       "      <td>6.59</td>\n",
       "      <td>-2.41</td>\n",
       "    </tr>\n",
       "    <tr>\n",
       "      <th>673</th>\n",
       "      <td>674</td>\n",
       "      <td>Tom Huddlestone</td>\n",
       "      <td>0.030463</td>\n",
       "      <td>2</td>\n",
       "      <td>3.29</td>\n",
       "      <td>1.29</td>\n",
       "    </tr>\n",
       "  </tbody>\n",
       "</table>\n",
       "</div>"
      ],
      "text/plain": [
       "     rank            player  xG_per_shot_ratio  trueGoals  expectedGoals  \\\n",
       "669   670      Daniel Baier           0.042316          5           7.49   \n",
       "670   671  Ivan Radovanovic           0.041491          2           6.68   \n",
       "671   672   Florent Balmont           0.036786          5           6.18   \n",
       "672   673      Gokhan Inler           0.035622          9           6.59   \n",
       "673   674   Tom Huddlestone           0.030463          2           3.29   \n",
       "\n",
       "     difference  \n",
       "669        2.49  \n",
       "670        4.68  \n",
       "671        1.18  \n",
       "672       -2.41  \n",
       "673        1.29  "
      ]
     },
     "execution_count": 51,
     "metadata": {},
     "output_type": "execute_result"
    }
   ],
   "source": [
    "players['xG_per_shot_ratio'] = players['expectedGoals'] / players['n_shots']\n",
    "show = players[players['n_shots']>100].sort_values(['xG_per_shot_ratio', 'trueGoals'], ascending=False).reset_index(drop=True)\n",
    "show['rank'] = show.index+1\n",
    "show[['rank', 'player', 'xG_per_shot_ratio', 'trueGoals', 'expectedGoals', 'difference']].tail(5)\n"
   ]
  },
  {
   "cell_type": "markdown",
   "metadata": {},
   "source": [
    "\n",
    "**Gohhan Inler**和**Ruben Rochina**的案例非常有趣。他们似乎尝试了很多远射，但看起来他们实际上也很擅长。看看他们的实际进球和预期进球之间的差异：尽管他们射了“糟糕”的球，但他们的得分比预期的要多。因此，在他们的情况下，做出这样的决定可能并不是一个糟糕的决定。\n",
    "\n",
    "另一方面，我们也有类似**Ivan Radovanovic**的案例。他也在不太可能的位置上射了很多球，而且他似乎并不擅长，因为他只有两个进球，而他的预期目标是6.6。这些射门也可能发生在角球后的情况下，球员有时从很远的地方向任何方向射门，没有任何进球的希望，而是让球出去重新组织防守。所以也许这些糟糕的镜头在某种程度上是有意义的，我们不应该对它如此残忍。\n",
    "\n",
    "在列表的底部，我们找到了那些倾向于从禁区内或近距离射门的球员。正如我们所料，这里我们发现的主要是前锋和目标球员，他们往往在对方球门附近射门。\n",
    "\n",
    "***Diego Milito**, **Kevin Gameiro**、以及**Carlos Bacca**都是这些球员。例如，迭戈·米利托的平均射门得分为0.21，这意味着，根据我们的模型，平均而言，他每一次射门都有超过20%的机会进球。换句话说，看起来他只射了好的/安全的一球，没有冒太大的风险。"
   ]
  },
  {
   "cell_type": "code",
   "execution_count": 52,
   "metadata": {
    "execution": {
     "iopub.execute_input": "2022-01-03T16:40:28.872167Z",
     "iopub.status.busy": "2022-01-03T16:40:28.871915Z",
     "iopub.status.idle": "2022-01-03T16:40:28.887543Z",
     "shell.execute_reply": "2022-01-03T16:40:28.886635Z",
     "shell.execute_reply.started": "2022-01-03T16:40:28.872121Z"
    }
   },
   "outputs": [
    {
     "data": {
      "text/html": [
       "<div>\n",
       "<style scoped>\n",
       "    .dataframe tbody tr th:only-of-type {\n",
       "        vertical-align: middle;\n",
       "    }\n",
       "\n",
       "    .dataframe tbody tr th {\n",
       "        vertical-align: top;\n",
       "    }\n",
       "\n",
       "    .dataframe thead th {\n",
       "        text-align: right;\n",
       "    }\n",
       "</style>\n",
       "<table border=\"1\" class=\"dataframe\">\n",
       "  <thead>\n",
       "    <tr style=\"text-align: right;\">\n",
       "      <th></th>\n",
       "      <th>rank</th>\n",
       "      <th>player</th>\n",
       "      <th>xG_per_shot_ratio</th>\n",
       "      <th>trueGoals</th>\n",
       "      <th>expectedGoals</th>\n",
       "      <th>difference</th>\n",
       "    </tr>\n",
       "  </thead>\n",
       "  <tbody>\n",
       "    <tr>\n",
       "      <th>0</th>\n",
       "      <td>1</td>\n",
       "      <td>Diego Milito</td>\n",
       "      <td>0.208913</td>\n",
       "      <td>33</td>\n",
       "      <td>28.83</td>\n",
       "      <td>-4.17</td>\n",
       "    </tr>\n",
       "    <tr>\n",
       "      <th>1</th>\n",
       "      <td>2</td>\n",
       "      <td>Kevin Gameiro</td>\n",
       "      <td>0.193564</td>\n",
       "      <td>63</td>\n",
       "      <td>58.65</td>\n",
       "      <td>-4.35</td>\n",
       "    </tr>\n",
       "    <tr>\n",
       "      <th>2</th>\n",
       "      <td>3</td>\n",
       "      <td>Ikechukwu Uche</td>\n",
       "      <td>0.193009</td>\n",
       "      <td>21</td>\n",
       "      <td>21.81</td>\n",
       "      <td>0.81</td>\n",
       "    </tr>\n",
       "    <tr>\n",
       "      <th>3</th>\n",
       "      <td>4</td>\n",
       "      <td>Carlos Bacca</td>\n",
       "      <td>0.191565</td>\n",
       "      <td>57</td>\n",
       "      <td>44.06</td>\n",
       "      <td>-12.94</td>\n",
       "    </tr>\n",
       "    <tr>\n",
       "      <th>4</th>\n",
       "      <td>5</td>\n",
       "      <td>Dario Cvitanich</td>\n",
       "      <td>0.190690</td>\n",
       "      <td>30</td>\n",
       "      <td>22.12</td>\n",
       "      <td>-7.88</td>\n",
       "    </tr>\n",
       "  </tbody>\n",
       "</table>\n",
       "</div>"
      ],
      "text/plain": [
       "   rank           player  xG_per_shot_ratio  trueGoals  expectedGoals  \\\n",
       "0     1     Diego Milito           0.208913         33          28.83   \n",
       "1     2    Kevin Gameiro           0.193564         63          58.65   \n",
       "2     3   Ikechukwu Uche           0.193009         21          21.81   \n",
       "3     4     Carlos Bacca           0.191565         57          44.06   \n",
       "4     5  Dario Cvitanich           0.190690         30          22.12   \n",
       "\n",
       "   difference  \n",
       "0       -4.17  \n",
       "1       -4.35  \n",
       "2        0.81  \n",
       "3      -12.94  \n",
       "4       -7.88  "
      ]
     },
     "execution_count": 52,
     "metadata": {},
     "output_type": "execute_result"
    }
   ],
   "source": [
    "show = show[['rank', 'player', 'xG_per_shot_ratio', 'trueGoals', 'expectedGoals', 'difference']].head(10)\n",
    "show.head(5)"
   ]
  },
  {
   "cell_type": "code",
   "execution_count": 53,
   "metadata": {
    "execution": {
     "iopub.execute_input": "2022-01-03T16:40:28.889911Z",
     "iopub.status.busy": "2022-01-03T16:40:28.889177Z",
     "iopub.status.idle": "2022-01-03T16:40:29.239361Z",
     "shell.execute_reply": "2022-01-03T16:40:29.238453Z",
     "shell.execute_reply.started": "2022-01-03T16:40:28.889695Z"
    }
   },
   "outputs": [
    {
     "data": {
      "image/png": "[encoded data removed]",
      "text/plain": [
       "<Figure size 864x360 with 1 Axes>"
      ]
     },
     "metadata": {},
     "output_type": "display_data"
    }
   ],
   "source": [
    "sns.set_style(\"dark\")\n",
    "fig, ax = plt.subplots(figsize=[12,5])\n",
    "ax = sns.barplot(x=show['xG_per_shot_ratio'], y=show['player'], palette='viridis', alpha=0.9)\n",
    "ax.set_xticks(np.arange(0,0.25,0.02))\n",
    "ax.set_xlabel(xlabel='xG value per shot', fontsize=12)\n",
    "ax.set_ylabel(ylabel='')\n",
    "ax.set_yticklabels(labels=ax.get_yticklabels(), fontsize=12)\n",
    "plt.title(\"Best Shot Deciders: xG value per shot\", fontsize=22, fontfamily='serif')\n",
    "ax.grid(color='black', linestyle='-', linewidth=0.1, axis='x')\n",
    "plt.show()"
   ]
  },
  {
   "cell_type": "markdown",
   "metadata": {},
   "source": [
    "## 3.d) 谁的头球最好?"
   ]
  },
  {
   "cell_type": "code",
   "execution_count": 54,
   "metadata": {
    "execution": {
     "iopub.execute_input": "2022-01-03T16:40:29.241210Z",
     "iopub.status.busy": "2022-01-03T16:40:29.240674Z",
     "iopub.status.idle": "2022-01-03T16:40:29.300781Z",
     "shell.execute_reply": "2022-01-03T16:40:29.300161Z",
     "shell.execute_reply.started": "2022-01-03T16:40:29.240910Z"
    }
   },
   "outputs": [
    {
     "data": {
      "text/html": [
       "<div>\n",
       "<style scoped>\n",
       "    .dataframe tbody tr th:only-of-type {\n",
       "        vertical-align: middle;\n",
       "    }\n",
       "\n",
       "    .dataframe tbody tr th {\n",
       "        vertical-align: top;\n",
       "    }\n",
       "\n",
       "    .dataframe thead th {\n",
       "        text-align: right;\n",
       "    }\n",
       "</style>\n",
       "<table border=\"1\" class=\"dataframe\">\n",
       "  <thead>\n",
       "    <tr style=\"text-align: right;\">\n",
       "      <th></th>\n",
       "      <th>rank</th>\n",
       "      <th>player</th>\n",
       "      <th>n_headers</th>\n",
       "      <th>trueGoals</th>\n",
       "      <th>expectedGoals</th>\n",
       "      <th>difference</th>\n",
       "    </tr>\n",
       "  </thead>\n",
       "  <tbody>\n",
       "    <tr>\n",
       "      <th>0</th>\n",
       "      <td>1</td>\n",
       "      <td>Cristiano Ronaldo</td>\n",
       "      <td>159</td>\n",
       "      <td>36</td>\n",
       "      <td>20.027547</td>\n",
       "      <td>-15.972453</td>\n",
       "    </tr>\n",
       "    <tr>\n",
       "      <th>1</th>\n",
       "      <td>2</td>\n",
       "      <td>Mario Mandzukic</td>\n",
       "      <td>124</td>\n",
       "      <td>28</td>\n",
       "      <td>14.710096</td>\n",
       "      <td>-13.289904</td>\n",
       "    </tr>\n",
       "    <tr>\n",
       "      <th>2</th>\n",
       "      <td>3</td>\n",
       "      <td>Fernando Llorente</td>\n",
       "      <td>141</td>\n",
       "      <td>25</td>\n",
       "      <td>15.941808</td>\n",
       "      <td>-9.058192</td>\n",
       "    </tr>\n",
       "    <tr>\n",
       "      <th>3</th>\n",
       "      <td>4</td>\n",
       "      <td>Sloan Privat</td>\n",
       "      <td>86</td>\n",
       "      <td>17</td>\n",
       "      <td>9.926381</td>\n",
       "      <td>-7.073619</td>\n",
       "    </tr>\n",
       "    <tr>\n",
       "      <th>4</th>\n",
       "      <td>5</td>\n",
       "      <td>Pierreemerick Aubameyang</td>\n",
       "      <td>59</td>\n",
       "      <td>14</td>\n",
       "      <td>7.285967</td>\n",
       "      <td>-6.714033</td>\n",
       "    </tr>\n",
       "  </tbody>\n",
       "</table>\n",
       "</div>"
      ],
      "text/plain": [
       "   rank                    player  n_headers  trueGoals  expectedGoals  \\\n",
       "0     1         Cristiano Ronaldo        159         36      20.027547   \n",
       "1     2           Mario Mandzukic        124         28      14.710096   \n",
       "2     3         Fernando Llorente        141         25      15.941808   \n",
       "3     4              Sloan Privat         86         17       9.926381   \n",
       "4     5  Pierreemerick Aubameyang         59         14       7.285967   \n",
       "\n",
       "   difference  \n",
       "0  -15.972453  \n",
       "1  -13.289904  \n",
       "2   -9.058192  \n",
       "3   -7.073619  \n",
       "4   -6.714033  "
      ]
     },
     "execution_count": 54,
     "metadata": {},
     "output_type": "execute_result"
    }
   ],
   "source": [
    "headers = shots[(shots.event_type==1) & (shots.bodypart==3)]\n",
    "headers_players = headers.groupby('player').sum().reset_index()\n",
    "headers_players.rename(columns={'event_type': 'n_headers', 'is_goal': 'trueGoals', 'prediction': 'expectedGoals'}, inplace=True)\n",
    "headers_players['ratio'] = headers_players['trueGoals'] / headers_players['expectedGoals']\n",
    "show_headers = headers_players.sort_values(['difference', 'trueGoals']).reset_index(drop=True)\n",
    "show_headers['rank'] = show_headers.index+1\n",
    "show_headers[['rank', 'player', 'n_headers', 'trueGoals', 'expectedGoals', 'difference']].head(5)"
   ]
  },
  {
   "cell_type": "markdown",
   "metadata": {},
   "source": [
    "我们看到克里斯蒂亚诺·罗纳尔多是这场比赛中最好的头球手，当他用他的头球进的球数与他用我们的模型应该进的球数相比较时。\n",
    "前三名的另外两名是马里奥·曼祖基奇和费尔南多·洛伦特。\n",
    "\n",
    "这很有趣，因为我们可以很容易地看到它如何证实我们所知道的东西。这三个人在头球方面都很出色。"
   ]
  },
  {
   "cell_type": "markdown",
   "metadata": {},
   "source": [
    "## 3.e) 谁左脚射门最强?"
   ]
  },
  {
   "cell_type": "code",
   "execution_count": 55,
   "metadata": {
    "execution": {
     "iopub.execute_input": "2022-01-03T16:40:29.302289Z",
     "iopub.status.busy": "2022-01-03T16:40:29.302041Z",
     "iopub.status.idle": "2022-01-03T16:40:29.378477Z",
     "shell.execute_reply": "2022-01-03T16:40:29.377547Z",
     "shell.execute_reply.started": "2022-01-03T16:40:29.302243Z"
    }
   },
   "outputs": [
    {
     "data": {
      "text/html": [
       "<div>\n",
       "<style scoped>\n",
       "    .dataframe tbody tr th:only-of-type {\n",
       "        vertical-align: middle;\n",
       "    }\n",
       "\n",
       "    .dataframe tbody tr th {\n",
       "        vertical-align: top;\n",
       "    }\n",
       "\n",
       "    .dataframe thead th {\n",
       "        text-align: right;\n",
       "    }\n",
       "</style>\n",
       "<table border=\"1\" class=\"dataframe\">\n",
       "  <thead>\n",
       "    <tr style=\"text-align: right;\">\n",
       "      <th></th>\n",
       "      <th>rank</th>\n",
       "      <th>player</th>\n",
       "      <th>n_leftFoot_shots</th>\n",
       "      <th>trueGoals</th>\n",
       "      <th>expectedGoals</th>\n",
       "      <th>difference</th>\n",
       "    </tr>\n",
       "  </thead>\n",
       "  <tbody>\n",
       "    <tr>\n",
       "      <th>0</th>\n",
       "      <td>1</td>\n",
       "      <td>Lionel Messi</td>\n",
       "      <td>752</td>\n",
       "      <td>167</td>\n",
       "      <td>121.561544</td>\n",
       "      <td>-45.438456</td>\n",
       "    </tr>\n",
       "    <tr>\n",
       "      <th>1</th>\n",
       "      <td>2</td>\n",
       "      <td>Antoine Griezmann</td>\n",
       "      <td>345</td>\n",
       "      <td>58</td>\n",
       "      <td>41.403750</td>\n",
       "      <td>-16.596250</td>\n",
       "    </tr>\n",
       "    <tr>\n",
       "      <th>2</th>\n",
       "      <td>3</td>\n",
       "      <td>Arjen Robben</td>\n",
       "      <td>296</td>\n",
       "      <td>42</td>\n",
       "      <td>32.090280</td>\n",
       "      <td>-9.909720</td>\n",
       "    </tr>\n",
       "    <tr>\n",
       "      <th>3</th>\n",
       "      <td>4</td>\n",
       "      <td>Iago Falque</td>\n",
       "      <td>132</td>\n",
       "      <td>23</td>\n",
       "      <td>13.268173</td>\n",
       "      <td>-9.731827</td>\n",
       "    </tr>\n",
       "    <tr>\n",
       "      <th>4</th>\n",
       "      <td>5</td>\n",
       "      <td>Franck Ribery</td>\n",
       "      <td>57</td>\n",
       "      <td>16</td>\n",
       "      <td>6.459363</td>\n",
       "      <td>-9.540637</td>\n",
       "    </tr>\n",
       "  </tbody>\n",
       "</table>\n",
       "</div>"
      ],
      "text/plain": [
       "   rank             player  n_leftFoot_shots  trueGoals  expectedGoals  \\\n",
       "0     1       Lionel Messi               752        167     121.561544   \n",
       "1     2  Antoine Griezmann               345         58      41.403750   \n",
       "2     3       Arjen Robben               296         42      32.090280   \n",
       "3     4        Iago Falque               132         23      13.268173   \n",
       "4     5      Franck Ribery                57         16       6.459363   \n",
       "\n",
       "   difference  \n",
       "0  -45.438456  \n",
       "1  -16.596250  \n",
       "2   -9.909720  \n",
       "3   -9.731827  \n",
       "4   -9.540637  "
      ]
     },
     "execution_count": 55,
     "metadata": {},
     "output_type": "execute_result"
    }
   ],
   "source": [
    "left_foot = shots[(shots.event_type==1) & (shots.bodypart==2)]\n",
    "left_foot_players = left_foot.groupby('player').sum().reset_index()\n",
    "left_foot_players.rename(columns={'event_type': 'n_leftFoot_shots', 'is_goal': 'trueGoals', 'prediction': 'expectedGoals'}, inplace=True)\n",
    "show_lfoot = left_foot_players.sort_values(['difference', 'trueGoals']).reset_index(drop=True)\n",
    "show_lfoot['rank'] = show_lfoot.index+1\n",
    "show_lfoot[['rank', 'player', 'n_leftFoot_shots', 'trueGoals', 'expectedGoals', 'difference']].head(5)"
   ]
  },
  {
   "cell_type": "markdown",
   "metadata": {},
   "source": [
    "当然，梅西是第一个登上榜单的。根据射门的特点，与预期相比，他是左脚得分最多的球员。名单上还有安托万·格里兹曼、伊阿戈·法尔克和阿扬·罗本。毫不奇怪，这些球员都是左脚球员。"
   ]
  },
  {
   "cell_type": "code",
   "execution_count": 56,
   "metadata": {
    "execution": {
     "iopub.execute_input": "2022-01-03T16:40:29.380436Z",
     "iopub.status.busy": "2022-01-03T16:40:29.379990Z",
     "iopub.status.idle": "2022-01-03T16:40:29.392350Z",
     "shell.execute_reply": "2022-01-03T16:40:29.391442Z",
     "shell.execute_reply.started": "2022-01-03T16:40:29.380228Z"
    }
   },
   "outputs": [
    {
     "data": {
      "text/html": [
       "<div>\n",
       "<style scoped>\n",
       "    .dataframe tbody tr th:only-of-type {\n",
       "        vertical-align: middle;\n",
       "    }\n",
       "\n",
       "    .dataframe tbody tr th {\n",
       "        vertical-align: top;\n",
       "    }\n",
       "\n",
       "    .dataframe thead th {\n",
       "        text-align: right;\n",
       "    }\n",
       "</style>\n",
       "<table border=\"1\" class=\"dataframe\">\n",
       "  <thead>\n",
       "    <tr style=\"text-align: right;\">\n",
       "      <th></th>\n",
       "      <th>rank</th>\n",
       "      <th>player</th>\n",
       "      <th>expectedGoals</th>\n",
       "      <th>trueGoals</th>\n",
       "    </tr>\n",
       "  </thead>\n",
       "  <tbody>\n",
       "    <tr>\n",
       "      <th>79</th>\n",
       "      <td>80</td>\n",
       "      <td>Cristiano Ronaldo</td>\n",
       "      <td>28.421553</td>\n",
       "      <td>32</td>\n",
       "    </tr>\n",
       "  </tbody>\n",
       "</table>\n",
       "</div>"
      ],
      "text/plain": [
       "    rank             player  expectedGoals  trueGoals\n",
       "79    80  Cristiano Ronaldo      28.421553         32"
      ]
     },
     "execution_count": 56,
     "metadata": {},
     "output_type": "execute_result"
    }
   ],
   "source": [
    "show_lfoot[show_lfoot.player=='Cristiano Ronaldo'][['rank', 'player', 'expectedGoals', 'trueGoals']]"
   ]
  },
  {
   "cell_type": "markdown",
   "metadata": {},
   "source": [
    "C罗的左脚进球仍然比我们的模型预期的要多，所以我们可以确认他在左脚射门方面非常出色。但他也不是最好的（他是第80名）。"
   ]
  },
  {
   "cell_type": "markdown",
   "metadata": {},
   "source": [
    "现在让我们看看当我们看比率而不是总值时会发生什么。"
   ]
  },
  {
   "cell_type": "code",
   "execution_count": 57,
   "metadata": {
    "execution": {
     "iopub.execute_input": "2022-01-03T16:40:29.394092Z",
     "iopub.status.busy": "2022-01-03T16:40:29.393789Z",
     "iopub.status.idle": "2022-01-03T16:40:29.416966Z",
     "shell.execute_reply": "2022-01-03T16:40:29.416275Z",
     "shell.execute_reply.started": "2022-01-03T16:40:29.394023Z"
    }
   },
   "outputs": [
    {
     "data": {
      "text/html": [
       "<div>\n",
       "<style scoped>\n",
       "    .dataframe tbody tr th:only-of-type {\n",
       "        vertical-align: middle;\n",
       "    }\n",
       "\n",
       "    .dataframe tbody tr th {\n",
       "        vertical-align: top;\n",
       "    }\n",
       "\n",
       "    .dataframe thead th {\n",
       "        text-align: right;\n",
       "    }\n",
       "</style>\n",
       "<table border=\"1\" class=\"dataframe\">\n",
       "  <thead>\n",
       "    <tr style=\"text-align: right;\">\n",
       "      <th></th>\n",
       "      <th>rank</th>\n",
       "      <th>player</th>\n",
       "      <th>n_leftFoot_shots</th>\n",
       "      <th>trueGoals</th>\n",
       "      <th>expectedGoals</th>\n",
       "      <th>ratio</th>\n",
       "    </tr>\n",
       "  </thead>\n",
       "  <tbody>\n",
       "    <tr>\n",
       "      <th>0</th>\n",
       "      <td>1</td>\n",
       "      <td>Iago Falque</td>\n",
       "      <td>132</td>\n",
       "      <td>23</td>\n",
       "      <td>13.268173</td>\n",
       "      <td>1.733471</td>\n",
       "    </tr>\n",
       "    <tr>\n",
       "      <th>1</th>\n",
       "      <td>2</td>\n",
       "      <td>Mohamed Salah</td>\n",
       "      <td>129</td>\n",
       "      <td>23</td>\n",
       "      <td>13.881466</td>\n",
       "      <td>1.656886</td>\n",
       "    </tr>\n",
       "    <tr>\n",
       "      <th>2</th>\n",
       "      <td>3</td>\n",
       "      <td>Lukas Podolski</td>\n",
       "      <td>132</td>\n",
       "      <td>21</td>\n",
       "      <td>13.195219</td>\n",
       "      <td>1.591486</td>\n",
       "    </tr>\n",
       "    <tr>\n",
       "      <th>3</th>\n",
       "      <td>4</td>\n",
       "      <td>James Rodriguez</td>\n",
       "      <td>162</td>\n",
       "      <td>23</td>\n",
       "      <td>15.541815</td>\n",
       "      <td>1.479879</td>\n",
       "    </tr>\n",
       "    <tr>\n",
       "      <th>4</th>\n",
       "      <td>5</td>\n",
       "      <td>Zlatan Ibrahimovic</td>\n",
       "      <td>129</td>\n",
       "      <td>25</td>\n",
       "      <td>17.275150</td>\n",
       "      <td>1.447165</td>\n",
       "    </tr>\n",
       "  </tbody>\n",
       "</table>\n",
       "</div>"
      ],
      "text/plain": [
       "   rank              player  n_leftFoot_shots  trueGoals  expectedGoals  \\\n",
       "0     1         Iago Falque               132         23      13.268173   \n",
       "1     2       Mohamed Salah               129         23      13.881466   \n",
       "2     3      Lukas Podolski               132         21      13.195219   \n",
       "3     4     James Rodriguez               162         23      15.541815   \n",
       "4     5  Zlatan Ibrahimovic               129         25      17.275150   \n",
       "\n",
       "      ratio  \n",
       "0  1.733471  \n",
       "1  1.656886  \n",
       "2  1.591486  \n",
       "3  1.479879  \n",
       "4  1.447165  "
      ]
     },
     "execution_count": 57,
     "metadata": {},
     "output_type": "execute_result"
    }
   ],
   "source": [
    "left_foot_players['ratio'] = left_foot_players['trueGoals'] / left_foot_players['expectedGoals']\n",
    "show_lfoot = left_foot_players[left_foot_players['trueGoals']>20].sort_values(['ratio', 'trueGoals'], ascending=False).reset_index(drop=True)\n",
    "show_lfoot['rank'] = show_lfoot.index+1\n",
    "show_lfoot[['rank', 'player', 'n_leftFoot_shots', 'trueGoals', 'expectedGoals', 'ratio']].head(5)"
   ]
  },
  {
   "cell_type": "markdown",
   "metadata": {},
   "source": [
    "\n",
    "一些像**Mohamed Salah**这样的新球员现在看起来是非常熟练的左脚终结者。"
   ]
  },
  {
   "cell_type": "markdown",
   "metadata": {},
   "source": [
    "## 3.f) 谁右脚射门最强?"
   ]
  },
  {
   "cell_type": "code",
   "execution_count": 58,
   "metadata": {
    "execution": {
     "iopub.execute_input": "2022-01-03T16:40:29.418700Z",
     "iopub.status.busy": "2022-01-03T16:40:29.418234Z",
     "iopub.status.idle": "2022-01-03T16:40:29.525320Z",
     "shell.execute_reply": "2022-01-03T16:40:29.524454Z",
     "shell.execute_reply.started": "2022-01-03T16:40:29.418489Z"
    }
   },
   "outputs": [
    {
     "data": {
      "text/html": [
       "<div>\n",
       "<style scoped>\n",
       "    .dataframe tbody tr th:only-of-type {\n",
       "        vertical-align: middle;\n",
       "    }\n",
       "\n",
       "    .dataframe tbody tr th {\n",
       "        vertical-align: top;\n",
       "    }\n",
       "\n",
       "    .dataframe thead th {\n",
       "        text-align: right;\n",
       "    }\n",
       "</style>\n",
       "<table border=\"1\" class=\"dataframe\">\n",
       "  <thead>\n",
       "    <tr style=\"text-align: right;\">\n",
       "      <th></th>\n",
       "      <th>rank</th>\n",
       "      <th>player</th>\n",
       "      <th>n_rightFoot_shots</th>\n",
       "      <th>trueGoals</th>\n",
       "      <th>expectedGoals</th>\n",
       "      <th>difference</th>\n",
       "    </tr>\n",
       "  </thead>\n",
       "  <tbody>\n",
       "    <tr>\n",
       "      <th>0</th>\n",
       "      <td>1</td>\n",
       "      <td>Luis Suarez</td>\n",
       "      <td>289</td>\n",
       "      <td>69</td>\n",
       "      <td>43.201632</td>\n",
       "      <td>-25.798368</td>\n",
       "    </tr>\n",
       "    <tr>\n",
       "      <th>1</th>\n",
       "      <td>2</td>\n",
       "      <td>Gonzalo Higuain</td>\n",
       "      <td>362</td>\n",
       "      <td>86</td>\n",
       "      <td>60.856861</td>\n",
       "      <td>-25.143139</td>\n",
       "    </tr>\n",
       "    <tr>\n",
       "      <th>2</th>\n",
       "      <td>3</td>\n",
       "      <td>Alexandre Lacazette</td>\n",
       "      <td>270</td>\n",
       "      <td>70</td>\n",
       "      <td>48.107585</td>\n",
       "      <td>-21.892415</td>\n",
       "    </tr>\n",
       "    <tr>\n",
       "      <th>3</th>\n",
       "      <td>4</td>\n",
       "      <td>Zlatan Ibrahimovic</td>\n",
       "      <td>554</td>\n",
       "      <td>111</td>\n",
       "      <td>91.004416</td>\n",
       "      <td>-19.995584</td>\n",
       "    </tr>\n",
       "    <tr>\n",
       "      <th>4</th>\n",
       "      <td>5</td>\n",
       "      <td>Robert Lewandowski</td>\n",
       "      <td>378</td>\n",
       "      <td>84</td>\n",
       "      <td>65.436666</td>\n",
       "      <td>-18.563334</td>\n",
       "    </tr>\n",
       "  </tbody>\n",
       "</table>\n",
       "</div>"
      ],
      "text/plain": [
       "   rank               player  n_rightFoot_shots  trueGoals  expectedGoals  \\\n",
       "0     1          Luis Suarez                289         69      43.201632   \n",
       "1     2      Gonzalo Higuain                362         86      60.856861   \n",
       "2     3  Alexandre Lacazette                270         70      48.107585   \n",
       "3     4   Zlatan Ibrahimovic                554        111      91.004416   \n",
       "4     5   Robert Lewandowski                378         84      65.436666   \n",
       "\n",
       "   difference  \n",
       "0  -25.798368  \n",
       "1  -25.143139  \n",
       "2  -21.892415  \n",
       "3  -19.995584  \n",
       "4  -18.563334  "
      ]
     },
     "execution_count": 58,
     "metadata": {},
     "output_type": "execute_result"
    }
   ],
   "source": [
    "right_foot = shots[(shots.event_type==1) & (shots.bodypart==1)]\n",
    "right_foot_players = right_foot.groupby('player').sum().reset_index()\n",
    "right_foot_players.rename(columns={'event_type': 'n_rightFoot_shots', 'is_goal': 'trueGoals', 'prediction': 'expectedGoals'}, inplace=True)\n",
    "show = right_foot_players.sort_values(['difference', 'trueGoals']).reset_index(drop=True)\n",
    "show['rank'] = show.index+1\n",
    "show[['rank', 'player', 'n_rightFoot_shots', 'trueGoals', 'expectedGoals', 'difference']].head(5)"
   ]
  },
  {
   "cell_type": "markdown",
   "metadata": {},
   "source": [
    "\n",
    "我们看到**Luis Suarez**排在榜首**Messi**排在第13位，右脚是他的弱脚，模型没有考虑到这一点，这非常令人惊讶（模型不知道球员是右脚还是左脚，只知道哪只脚是用来射门的）。\n",
    "\n",
    "我们再次检查比率，而不是总值，以查看是否有不同的结果。"
   ]
  },
  {
   "cell_type": "code",
   "execution_count": 59,
   "metadata": {
    "execution": {
     "iopub.execute_input": "2022-01-03T16:40:29.527161Z",
     "iopub.status.busy": "2022-01-03T16:40:29.526731Z",
     "iopub.status.idle": "2022-01-03T16:40:29.547822Z",
     "shell.execute_reply": "2022-01-03T16:40:29.547248Z",
     "shell.execute_reply.started": "2022-01-03T16:40:29.526959Z"
    }
   },
   "outputs": [
    {
     "data": {
      "text/html": [
       "<div>\n",
       "<style scoped>\n",
       "    .dataframe tbody tr th:only-of-type {\n",
       "        vertical-align: middle;\n",
       "    }\n",
       "\n",
       "    .dataframe tbody tr th {\n",
       "        vertical-align: top;\n",
       "    }\n",
       "\n",
       "    .dataframe thead th {\n",
       "        text-align: right;\n",
       "    }\n",
       "</style>\n",
       "<table border=\"1\" class=\"dataframe\">\n",
       "  <thead>\n",
       "    <tr style=\"text-align: right;\">\n",
       "      <th></th>\n",
       "      <th>rank</th>\n",
       "      <th>player</th>\n",
       "      <th>n_rightFoot_shots</th>\n",
       "      <th>trueGoals</th>\n",
       "      <th>expectedGoals</th>\n",
       "      <th>ratio</th>\n",
       "    </tr>\n",
       "  </thead>\n",
       "  <tbody>\n",
       "    <tr>\n",
       "      <th>0</th>\n",
       "      <td>1</td>\n",
       "      <td>Bas Dost</td>\n",
       "      <td>62</td>\n",
       "      <td>23</td>\n",
       "      <td>13.032646</td>\n",
       "      <td>1.764799</td>\n",
       "    </tr>\n",
       "    <tr>\n",
       "      <th>1</th>\n",
       "      <td>2</td>\n",
       "      <td>Carlos Tevez</td>\n",
       "      <td>181</td>\n",
       "      <td>33</td>\n",
       "      <td>19.840784</td>\n",
       "      <td>1.663241</td>\n",
       "    </tr>\n",
       "    <tr>\n",
       "      <th>2</th>\n",
       "      <td>3</td>\n",
       "      <td>Franck Ribery</td>\n",
       "      <td>165</td>\n",
       "      <td>24</td>\n",
       "      <td>14.479294</td>\n",
       "      <td>1.657539</td>\n",
       "    </tr>\n",
       "    <tr>\n",
       "      <th>3</th>\n",
       "      <td>4</td>\n",
       "      <td>Mario Gotze</td>\n",
       "      <td>170</td>\n",
       "      <td>32</td>\n",
       "      <td>19.902271</td>\n",
       "      <td>1.607857</td>\n",
       "    </tr>\n",
       "    <tr>\n",
       "      <th>4</th>\n",
       "      <td>5</td>\n",
       "      <td>Lionel Messi</td>\n",
       "      <td>109</td>\n",
       "      <td>30</td>\n",
       "      <td>18.735735</td>\n",
       "      <td>1.601218</td>\n",
       "    </tr>\n",
       "  </tbody>\n",
       "</table>\n",
       "</div>"
      ],
      "text/plain": [
       "   rank         player  n_rightFoot_shots  trueGoals  expectedGoals     ratio\n",
       "0     1       Bas Dost                 62         23      13.032646  1.764799\n",
       "1     2   Carlos Tevez                181         33      19.840784  1.663241\n",
       "2     3  Franck Ribery                165         24      14.479294  1.657539\n",
       "3     4    Mario Gotze                170         32      19.902271  1.607857\n",
       "4     5   Lionel Messi                109         30      18.735735  1.601218"
      ]
     },
     "execution_count": 59,
     "metadata": {},
     "output_type": "execute_result"
    }
   ],
   "source": [
    "right_foot_players['ratio'] = right_foot_players['trueGoals'] / right_foot_players['expectedGoals']\n",
    "show_rfoot = right_foot_players[right_foot_players['trueGoals']>20].sort_values(['ratio', 'trueGoals'], ascending=False).reset_index(drop=True)\n",
    "show_rfoot['rank'] = show_rfoot.index+1\n",
    "show_rfoot[['rank', 'player', 'n_rightFoot_shots', 'trueGoals', 'expectedGoals', 'ratio']].head(5)"
   ]
  },
  {
   "cell_type": "markdown",
   "metadata": {},
   "source": [
    "\n",
    "另一个有趣的练习是挑选一些球员，并比较他们在身体各部位完成射门的熟练程度。\n",
    "\n",
    "让我们以4名顶级球员为例：**Messi**, **Cristiano Ronaldo**, **Zlatan Ibrahimovic**、以及 **Robert Lewandowski**。"
   ]
  },
  {
   "cell_type": "code",
   "execution_count": 60,
   "metadata": {
    "execution": {
     "iopub.execute_input": "2022-01-03T16:40:29.549585Z",
     "iopub.status.busy": "2022-01-03T16:40:29.549126Z",
     "iopub.status.idle": "2022-01-03T16:40:29.593415Z",
     "shell.execute_reply": "2022-01-03T16:40:29.592815Z",
     "shell.execute_reply.started": "2022-01-03T16:40:29.549376Z"
    }
   },
   "outputs": [],
   "source": [
    "right_foot = right_foot_players[right_foot_players['n_rightFoot_shots']>5]\n",
    "left_foot = left_foot_players[left_foot_players['n_leftFoot_shots']>5]\n",
    "headers = headers_players[headers_players['n_headers']>5]\n",
    "all_players = right_foot[['player']].merge(left_foot, on='player', how='inner').merge(headers, on='player', how='inner')                                                                         \n",
    "all_players_list = list(all_players['player'].unique())\n",
    "\n",
    "def compare_players(players_list):\n",
    "    total = right_foot[right_foot['player'].isin(players_list)][['player', 'ratio']]\n",
    "    total['bodypart']='Right Foot'\n",
    "    left_foot['bodypart']='Left Foot'\n",
    "    headers['bodypart']= 'Header'\n",
    "    total = pd.concat([total, left_foot[left_foot['player'].isin(players_list)][['player', 'ratio', 'bodypart']], headers[headers['player'].isin(players_list)][['player', 'ratio', 'bodypart']]], axis=0)\n",
    "\n",
    "    sns.set_style(\"whitegrid\")\n",
    "    fig, ax = plt.subplots(figsize=[15,8])\n",
    "    ax = sns.barplot(y=total['ratio'], x=total['player'], hue=total['bodypart'], palette='viridis', alpha=0.9)\n",
    "    #ax.set_yticks(np.arange(0,2.2,0.2))\n",
    "    ax.set_ylabel(ylabel='Goals per xG Ratio', fontsize=14)\n",
    "    ax.set_xlabel(xlabel='')\n",
    "    ax.set_xticklabels(labels=ax.get_xticklabels(), fontsize=15)\n",
    "    plt.title(\"Players Comparison\", fontsize=24, fontfamily='serif')\n",
    "    ax.grid(color='black', linestyle='-', linewidth=0.1, axis='y')\n",
    "    plt.legend(fontsize=12)\n",
    "    plt.show()"
   ]
  },
  {
   "cell_type": "code",
   "execution_count": 61,
   "metadata": {
    "execution": {
     "iopub.execute_input": "2022-01-03T16:40:29.595459Z",
     "iopub.status.busy": "2022-01-03T16:40:29.595011Z",
     "iopub.status.idle": "2022-01-03T16:40:30.191928Z",
     "shell.execute_reply": "2022-01-03T16:40:30.191215Z",
     "shell.execute_reply.started": "2022-01-03T16:40:29.595260Z"
    }
   },
   "outputs": [
    {
     "name": "stderr",
     "output_type": "stream",
     "text": [
      "/opt/conda/lib/python3.6/site-packages/ipykernel_launcher.py:10: SettingWithCopyWarning: \n",
      "A value is trying to be set on a copy of a slice from a DataFrame.\n",
      "Try using .loc[row_indexer,col_indexer] = value instead\n",
      "\n",
      "See the caveats in the documentation: http://pandas.pydata.org/pandas-docs/stable/indexing.html#indexing-view-versus-copy\n",
      "  # Remove the CWD from sys.path while we load stuff.\n",
      "/opt/conda/lib/python3.6/site-packages/ipykernel_launcher.py:11: SettingWithCopyWarning: \n",
      "A value is trying to be set on a copy of a slice from a DataFrame.\n",
      "Try using .loc[row_indexer,col_indexer] = value instead\n",
      "\n",
      "See the caveats in the documentation: http://pandas.pydata.org/pandas-docs/stable/indexing.html#indexing-view-versus-copy\n",
      "  # This is added back by InteractiveShellApp.init_path()\n"
     ]
    },
    {
     "data": {
      "image/png": "[encoded data removed]",
      "text/plain": [
       "<Figure size 1080x576 with 1 Axes>"
      ]
     },
     "metadata": {},
     "output_type": "display_data"
    }
   ],
   "source": [
    "compare_players(players_list = ['Lionel Messi', 'Cristiano Ronaldo', 'Zlatan Ibrahimovic', 'Robert Lewandowski'])"
   ]
  },
  {
   "cell_type": "markdown",
   "metadata": {},
   "source": [
    "我们看到罗纳尔多是四个中最好的头球，莱万多夫斯基是最差的。梅西是最好的左脚终结者，而兹拉坦似乎是最好的右脚终结者。\n",
    "\n",
    "值得注意的一件有趣的事情是，所有四名球员的所有身体部位都高于1.0分。这意味着无论是用头部、左脚还是右脚射击，他们都比预期的要好。这是非常令人印象深刻的，并清楚地说明了为什么他们被认为是精英球员。\n",
    "\n",
    "让我们随机选取四名球员进行比较，以查看对比："
   ]
  },
  {
   "cell_type": "code",
   "execution_count": 62,
   "metadata": {
    "execution": {
     "iopub.execute_input": "2022-01-03T16:40:30.193342Z",
     "iopub.status.busy": "2022-01-03T16:40:30.193061Z",
     "iopub.status.idle": "2022-01-03T16:40:30.767122Z",
     "shell.execute_reply": "2022-01-03T16:40:30.766435Z",
     "shell.execute_reply.started": "2022-01-03T16:40:30.193281Z"
    }
   },
   "outputs": [
    {
     "name": "stderr",
     "output_type": "stream",
     "text": [
      "/opt/conda/lib/python3.6/site-packages/ipykernel_launcher.py:10: SettingWithCopyWarning: \n",
      "A value is trying to be set on a copy of a slice from a DataFrame.\n",
      "Try using .loc[row_indexer,col_indexer] = value instead\n",
      "\n",
      "See the caveats in the documentation: http://pandas.pydata.org/pandas-docs/stable/indexing.html#indexing-view-versus-copy\n",
      "  # Remove the CWD from sys.path while we load stuff.\n",
      "/opt/conda/lib/python3.6/site-packages/ipykernel_launcher.py:11: SettingWithCopyWarning: \n",
      "A value is trying to be set on a copy of a slice from a DataFrame.\n",
      "Try using .loc[row_indexer,col_indexer] = value instead\n",
      "\n",
      "See the caveats in the documentation: http://pandas.pydata.org/pandas-docs/stable/indexing.html#indexing-view-versus-copy\n",
      "  # This is added back by InteractiveShellApp.init_path()\n"
     ]
    },
    {
     "data": {
      "image/png": "[encoded data removed]",
      "text/plain": [
       "<Figure size 1080x576 with 1 Axes>"
      ]
     },
     "metadata": {},
     "output_type": "display_data"
    }
   ],
   "source": [
    "import random\n",
    "compare_players(random.sample(all_players_list, 4))"
   ]
  },
  {
   "cell_type": "markdown",
   "metadata": {},
   "source": [
    "我们看到，尽管随机球员可以表现出一些高价值（**Franck Dja Djedje**右脚的比率比之前看到的前四名球员中的任何一位都高），但他们表现出的一致性较差，许多数值低于1.0。也有可能出现高值是因为他们没有很多射门，所以只进一球就可以让指标飞涨。"
   ]
  },
  {
   "cell_type": "markdown",
   "metadata": {},
   "source": [
    "## 3.g) 谁的远射最强？"
   ]
  },
  {
   "cell_type": "code",
   "execution_count": 63,
   "metadata": {
    "execution": {
     "iopub.execute_input": "2022-01-03T16:40:30.768737Z",
     "iopub.status.busy": "2022-01-03T16:40:30.768293Z",
     "iopub.status.idle": "2022-01-03T16:40:30.855877Z",
     "shell.execute_reply": "2022-01-03T16:40:30.855291Z",
     "shell.execute_reply.started": "2022-01-03T16:40:30.768675Z"
    }
   },
   "outputs": [
    {
     "data": {
      "text/html": [
       "<div>\n",
       "<style scoped>\n",
       "    .dataframe tbody tr th:only-of-type {\n",
       "        vertical-align: middle;\n",
       "    }\n",
       "\n",
       "    .dataframe tbody tr th {\n",
       "        vertical-align: top;\n",
       "    }\n",
       "\n",
       "    .dataframe thead th {\n",
       "        text-align: right;\n",
       "    }\n",
       "</style>\n",
       "<table border=\"1\" class=\"dataframe\">\n",
       "  <thead>\n",
       "    <tr style=\"text-align: right;\">\n",
       "      <th></th>\n",
       "      <th>rank</th>\n",
       "      <th>player</th>\n",
       "      <th>n_outbox_shots</th>\n",
       "      <th>trueGoals</th>\n",
       "      <th>expectedGoals</th>\n",
       "      <th>difference</th>\n",
       "    </tr>\n",
       "  </thead>\n",
       "  <tbody>\n",
       "    <tr>\n",
       "      <th>0</th>\n",
       "      <td>1</td>\n",
       "      <td>Lionel Messi</td>\n",
       "      <td>304</td>\n",
       "      <td>16</td>\n",
       "      <td>6.374455</td>\n",
       "      <td>-9.625545</td>\n",
       "    </tr>\n",
       "    <tr>\n",
       "      <th>1</th>\n",
       "      <td>2</td>\n",
       "      <td>Paul Pogba</td>\n",
       "      <td>226</td>\n",
       "      <td>14</td>\n",
       "      <td>5.984714</td>\n",
       "      <td>-8.015286</td>\n",
       "    </tr>\n",
       "    <tr>\n",
       "      <th>2</th>\n",
       "      <td>3</td>\n",
       "      <td>Zlatan Ibrahimovic</td>\n",
       "      <td>261</td>\n",
       "      <td>14</td>\n",
       "      <td>6.782552</td>\n",
       "      <td>-7.217448</td>\n",
       "    </tr>\n",
       "    <tr>\n",
       "      <th>3</th>\n",
       "      <td>4</td>\n",
       "      <td>Gonzalo Higuain</td>\n",
       "      <td>127</td>\n",
       "      <td>11</td>\n",
       "      <td>3.846798</td>\n",
       "      <td>-7.153202</td>\n",
       "    </tr>\n",
       "    <tr>\n",
       "      <th>4</th>\n",
       "      <td>5</td>\n",
       "      <td>Yaya Toure</td>\n",
       "      <td>128</td>\n",
       "      <td>10</td>\n",
       "      <td>3.379771</td>\n",
       "      <td>-6.620229</td>\n",
       "    </tr>\n",
       "  </tbody>\n",
       "</table>\n",
       "</div>"
      ],
      "text/plain": [
       "   rank              player  n_outbox_shots  trueGoals  expectedGoals  \\\n",
       "0     1        Lionel Messi             304         16       6.374455   \n",
       "1     2          Paul Pogba             226         14       5.984714   \n",
       "2     3  Zlatan Ibrahimovic             261         14       6.782552   \n",
       "3     4     Gonzalo Higuain             127         11       3.846798   \n",
       "4     5          Yaya Toure             128         10       3.379771   \n",
       "\n",
       "   difference  \n",
       "0   -9.625545  \n",
       "1   -8.015286  \n",
       "2   -7.217448  \n",
       "3   -7.153202  \n",
       "4   -6.620229  "
      ]
     },
     "execution_count": 63,
     "metadata": {},
     "output_type": "execute_result"
    }
   ],
   "source": [
    "outside_box = shots[(shots.location==15)]\n",
    "outbox_players = outside_box.groupby('player').sum().reset_index()\n",
    "outbox_players.rename(columns={'event_type': 'n_outbox_shots', 'is_goal': 'trueGoals', 'prediction': 'expectedGoals'}, inplace=True)\n",
    "show = outbox_players.sort_values(['difference', 'trueGoals']).reset_index(drop=True)\n",
    "show['rank'] = show.index+1\n",
    "show[['rank', 'player', 'n_outbox_shots', 'trueGoals', 'expectedGoals', 'difference']].head(5)\n"
   ]
  },
  {
   "cell_type": "code",
   "execution_count": 64,
   "metadata": {
    "execution": {
     "iopub.execute_input": "2022-01-03T16:40:30.857568Z",
     "iopub.status.busy": "2022-01-03T16:40:30.857292Z",
     "iopub.status.idle": "2022-01-03T16:40:30.870023Z",
     "shell.execute_reply": "2022-01-03T16:40:30.869362Z",
     "shell.execute_reply.started": "2022-01-03T16:40:30.857521Z"
    }
   },
   "outputs": [
    {
     "data": {
      "text/html": [
       "<div>\n",
       "<style scoped>\n",
       "    .dataframe tbody tr th:only-of-type {\n",
       "        vertical-align: middle;\n",
       "    }\n",
       "\n",
       "    .dataframe tbody tr th {\n",
       "        vertical-align: top;\n",
       "    }\n",
       "\n",
       "    .dataframe thead th {\n",
       "        text-align: right;\n",
       "    }\n",
       "</style>\n",
       "<table border=\"1\" class=\"dataframe\">\n",
       "  <thead>\n",
       "    <tr style=\"text-align: right;\">\n",
       "      <th></th>\n",
       "      <th>rank</th>\n",
       "      <th>player</th>\n",
       "      <th>n_outbox_shots</th>\n",
       "      <th>trueGoals</th>\n",
       "      <th>expectedGoals</th>\n",
       "      <th>difference</th>\n",
       "    </tr>\n",
       "  </thead>\n",
       "  <tbody>\n",
       "    <tr>\n",
       "      <th>4143</th>\n",
       "      <td>4144</td>\n",
       "      <td>Alberto Aquilani</td>\n",
       "      <td>117</td>\n",
       "      <td>0</td>\n",
       "      <td>3.148452</td>\n",
       "      <td>3.148452</td>\n",
       "    </tr>\n",
       "    <tr>\n",
       "      <th>4144</th>\n",
       "      <td>4145</td>\n",
       "      <td>Ronny Rodelin</td>\n",
       "      <td>119</td>\n",
       "      <td>0</td>\n",
       "      <td>3.205746</td>\n",
       "      <td>3.205746</td>\n",
       "    </tr>\n",
       "    <tr>\n",
       "      <th>4145</th>\n",
       "      <td>4146</td>\n",
       "      <td>Francesco Lodi</td>\n",
       "      <td>170</td>\n",
       "      <td>0</td>\n",
       "      <td>3.444902</td>\n",
       "      <td>3.444902</td>\n",
       "    </tr>\n",
       "    <tr>\n",
       "      <th>4146</th>\n",
       "      <td>4147</td>\n",
       "      <td>Alessandro Diamanti</td>\n",
       "      <td>254</td>\n",
       "      <td>3</td>\n",
       "      <td>6.500314</td>\n",
       "      <td>3.500314</td>\n",
       "    </tr>\n",
       "    <tr>\n",
       "      <th>4147</th>\n",
       "      <td>4148</td>\n",
       "      <td>Mario Balotelli</td>\n",
       "      <td>209</td>\n",
       "      <td>1</td>\n",
       "      <td>4.736581</td>\n",
       "      <td>3.736581</td>\n",
       "    </tr>\n",
       "  </tbody>\n",
       "</table>\n",
       "</div>"
      ],
      "text/plain": [
       "      rank               player  n_outbox_shots  trueGoals  expectedGoals  \\\n",
       "4143  4144     Alberto Aquilani             117          0       3.148452   \n",
       "4144  4145        Ronny Rodelin             119          0       3.205746   \n",
       "4145  4146       Francesco Lodi             170          0       3.444902   \n",
       "4146  4147  Alessandro Diamanti             254          3       6.500314   \n",
       "4147  4148      Mario Balotelli             209          1       4.736581   \n",
       "\n",
       "      difference  \n",
       "4143    3.148452  \n",
       "4144    3.205746  \n",
       "4145    3.444902  \n",
       "4146    3.500314  \n",
       "4147    3.736581  "
      ]
     },
     "execution_count": 64,
     "metadata": {},
     "output_type": "execute_result"
    }
   ],
   "source": [
    "show[['rank', 'player', 'n_outbox_shots', 'trueGoals', 'expectedGoals', 'difference']].tail(5)"
   ]
  },
  {
   "cell_type": "markdown",
   "metadata": {},
   "source": [
    " \n",
    "我们认为**Messi**, **Pogba**和**Zlatan**是在禁区外进球最多的球员，与他们预期的相比。在另一端，我们找到了像**Mario Balotelli**和**Alessandro Diamanti**这样的球员。我很惊讶地看到**Nainggolan**跻身最差（4120位），因为我记得他是一名出色的远距离射手，射入了许多球。但也许那只是因为他尝试了280次射门，而我只记得那些进球。这在很大程度上被证明是一种心理偏见。对于这些情况，最好依靠数字。\n",
    "\n",
    "\n",
    "\n",
    "再次让我们从trueGoals/xGoals比率的角度来看顶级球员。我们只考虑那些远射超过80次的球员："
   ]
  },
  {
   "cell_type": "code",
   "execution_count": 65,
   "metadata": {
    "execution": {
     "iopub.execute_input": "2022-01-03T16:40:30.871771Z",
     "iopub.status.busy": "2022-01-03T16:40:30.871170Z",
     "iopub.status.idle": "2022-01-03T16:40:30.892837Z",
     "shell.execute_reply": "2022-01-03T16:40:30.892062Z",
     "shell.execute_reply.started": "2022-01-03T16:40:30.871716Z"
    }
   },
   "outputs": [
    {
     "data": {
      "text/html": [
       "<div>\n",
       "<style scoped>\n",
       "    .dataframe tbody tr th:only-of-type {\n",
       "        vertical-align: middle;\n",
       "    }\n",
       "\n",
       "    .dataframe tbody tr th {\n",
       "        vertical-align: top;\n",
       "    }\n",
       "\n",
       "    .dataframe thead th {\n",
       "        text-align: right;\n",
       "    }\n",
       "</style>\n",
       "<table border=\"1\" class=\"dataframe\">\n",
       "  <thead>\n",
       "    <tr style=\"text-align: right;\">\n",
       "      <th></th>\n",
       "      <th>rank</th>\n",
       "      <th>player</th>\n",
       "      <th>n_outbox_shots</th>\n",
       "      <th>trueGoals</th>\n",
       "      <th>expectedGoals</th>\n",
       "      <th>ratio</th>\n",
       "    </tr>\n",
       "  </thead>\n",
       "  <tbody>\n",
       "    <tr>\n",
       "      <th>0</th>\n",
       "      <td>1</td>\n",
       "      <td>James Rodriguez</td>\n",
       "      <td>105</td>\n",
       "      <td>9</td>\n",
       "      <td>2.419547</td>\n",
       "      <td>3.719704</td>\n",
       "    </tr>\n",
       "    <tr>\n",
       "      <th>1</th>\n",
       "      <td>2</td>\n",
       "      <td>Alain Traore</td>\n",
       "      <td>86</td>\n",
       "      <td>6</td>\n",
       "      <td>1.830879</td>\n",
       "      <td>3.277114</td>\n",
       "    </tr>\n",
       "    <tr>\n",
       "      <th>2</th>\n",
       "      <td>3</td>\n",
       "      <td>Julian Draxler</td>\n",
       "      <td>94</td>\n",
       "      <td>8</td>\n",
       "      <td>2.612163</td>\n",
       "      <td>3.062596</td>\n",
       "    </tr>\n",
       "    <tr>\n",
       "      <th>3</th>\n",
       "      <td>4</td>\n",
       "      <td>Alexandre Lacazette</td>\n",
       "      <td>100</td>\n",
       "      <td>9</td>\n",
       "      <td>2.953207</td>\n",
       "      <td>3.047535</td>\n",
       "    </tr>\n",
       "    <tr>\n",
       "      <th>4</th>\n",
       "      <td>5</td>\n",
       "      <td>Yaya Toure</td>\n",
       "      <td>128</td>\n",
       "      <td>10</td>\n",
       "      <td>3.379771</td>\n",
       "      <td>2.958780</td>\n",
       "    </tr>\n",
       "  </tbody>\n",
       "</table>\n",
       "</div>"
      ],
      "text/plain": [
       "   rank               player  n_outbox_shots  trueGoals  expectedGoals  \\\n",
       "0     1      James Rodriguez             105          9       2.419547   \n",
       "1     2         Alain Traore              86          6       1.830879   \n",
       "2     3       Julian Draxler              94          8       2.612163   \n",
       "3     4  Alexandre Lacazette             100          9       2.953207   \n",
       "4     5           Yaya Toure             128         10       3.379771   \n",
       "\n",
       "      ratio  \n",
       "0  3.719704  \n",
       "1  3.277114  \n",
       "2  3.062596  \n",
       "3  3.047535  \n",
       "4  2.958780  "
      ]
     },
     "execution_count": 65,
     "metadata": {},
     "output_type": "execute_result"
    }
   ],
   "source": [
    "outbox_players['ratio'] = outbox_players['trueGoals'] / outbox_players['expectedGoals']\n",
    "show = outbox_players[outbox_players['n_outbox_shots']>80].sort_values(['ratio', 'trueGoals'], ascending=False).reset_index(drop=True)\n",
    "show['rank'] = show.index+1\n",
    "show = show[['rank', 'player', 'n_outbox_shots', 'trueGoals', 'expectedGoals', 'ratio']].head(10)\n",
    "show.head(5)"
   ]
  },
  {
   "cell_type": "code",
   "execution_count": 66,
   "metadata": {
    "execution": {
     "iopub.execute_input": "2022-01-03T16:40:30.895524Z",
     "iopub.status.busy": "2022-01-03T16:40:30.895067Z",
     "iopub.status.idle": "2022-01-03T16:40:31.281882Z",
     "shell.execute_reply": "2022-01-03T16:40:31.281087Z",
     "shell.execute_reply.started": "2022-01-03T16:40:30.895476Z"
    }
   },
   "outputs": [
    {
     "data": {
      "image/png": "[encoded data removed]",
      "text/plain": [
       "<Figure size 1008x432 with 1 Axes>"
      ]
     },
     "metadata": {},
     "output_type": "display_data"
    }
   ],
   "source": [
    "sns.set_style(\"dark\")\n",
    "fig, ax = plt.subplots(figsize=[14,6])\n",
    "ax = sns.barplot(x=show['ratio'], y=show['player'], palette='viridis', alpha=0.9)\n",
    "ax.set_xticks(np.arange(0,4,0.3))\n",
    "ax.set_xlabel(xlabel='Long Range Goals per XGoal Ratio', fontsize=14)\n",
    "ax.set_ylabel(ylabel='')\n",
    "ax.set_yticklabels(labels=ax.get_yticklabels(), fontsize=12)\n",
    "plt.title(\"Best Long Range Shooters\", fontsize=22, fontfamily='serif')\n",
    "ax.grid(color='black', linestyle='-', linewidth=0.1, axis='x')\n",
    "plt.show()"
   ]
  },
  {
   "cell_type": "markdown",
   "metadata": {},
   "source": [
    "看起来 **James Rodriguez** 最厉害了."
   ]
  },
  {
   "cell_type": "markdown",
   "metadata": {},
   "source": [
    "## 3.h) 哪位球员的传球最好/危险?"
   ]
  },
  {
   "cell_type": "markdown",
   "metadata": {},
   "source": [
    "通过观察射门前传球/传球的球员，我们可以评估一名球员通过传球创造了多少xG。"
   ]
  },
  {
   "cell_type": "code",
   "execution_count": 67,
   "metadata": {
    "execution": {
     "iopub.execute_input": "2022-01-03T16:40:31.283633Z",
     "iopub.status.busy": "2022-01-03T16:40:31.283162Z",
     "iopub.status.idle": "2022-01-03T16:40:31.384978Z",
     "shell.execute_reply": "2022-01-03T16:40:31.384181Z",
     "shell.execute_reply.started": "2022-01-03T16:40:31.283419Z"
    }
   },
   "outputs": [
    {
     "data": {
      "text/html": [
       "<div>\n",
       "<style scoped>\n",
       "    .dataframe tbody tr th:only-of-type {\n",
       "        vertical-align: middle;\n",
       "    }\n",
       "\n",
       "    .dataframe tbody tr th {\n",
       "        vertical-align: top;\n",
       "    }\n",
       "\n",
       "    .dataframe thead th {\n",
       "        text-align: right;\n",
       "    }\n",
       "</style>\n",
       "<table border=\"1\" class=\"dataframe\">\n",
       "  <thead>\n",
       "    <tr style=\"text-align: right;\">\n",
       "      <th></th>\n",
       "      <th>rank</th>\n",
       "      <th>player</th>\n",
       "      <th>n_passes</th>\n",
       "      <th>trueGoals_created</th>\n",
       "      <th>expectedGoals_created</th>\n",
       "    </tr>\n",
       "  </thead>\n",
       "  <tbody>\n",
       "    <tr>\n",
       "      <th>0</th>\n",
       "      <td>1</td>\n",
       "      <td>Lionel Messi</td>\n",
       "      <td>350</td>\n",
       "      <td>68</td>\n",
       "      <td>51.203404</td>\n",
       "    </tr>\n",
       "    <tr>\n",
       "      <th>1</th>\n",
       "      <td>2</td>\n",
       "      <td>Mesut Ozil</td>\n",
       "      <td>343</td>\n",
       "      <td>35</td>\n",
       "      <td>36.779472</td>\n",
       "    </tr>\n",
       "    <tr>\n",
       "      <th>2</th>\n",
       "      <td>3</td>\n",
       "      <td>Cesc Fabregas</td>\n",
       "      <td>264</td>\n",
       "      <td>53</td>\n",
       "      <td>36.472670</td>\n",
       "    </tr>\n",
       "    <tr>\n",
       "      <th>3</th>\n",
       "      <td>4</td>\n",
       "      <td>Zlatan Ibrahimovic</td>\n",
       "      <td>270</td>\n",
       "      <td>36</td>\n",
       "      <td>36.155809</td>\n",
       "    </tr>\n",
       "    <tr>\n",
       "      <th>4</th>\n",
       "      <td>5</td>\n",
       "      <td>Marek Hamsik</td>\n",
       "      <td>370</td>\n",
       "      <td>50</td>\n",
       "      <td>34.908642</td>\n",
       "    </tr>\n",
       "  </tbody>\n",
       "</table>\n",
       "</div>"
      ],
      "text/plain": [
       "   rank              player  n_passes  trueGoals_created  \\\n",
       "0     1        Lionel Messi       350                 68   \n",
       "1     2          Mesut Ozil       343                 35   \n",
       "2     3       Cesc Fabregas       264                 53   \n",
       "3     4  Zlatan Ibrahimovic       270                 36   \n",
       "4     5        Marek Hamsik       370                 50   \n",
       "\n",
       "   expectedGoals_created  \n",
       "0              51.203404  \n",
       "1              36.779472  \n",
       "2              36.472670  \n",
       "3              36.155809  \n",
       "4              34.908642  "
      ]
     },
     "execution_count": 67,
     "metadata": {},
     "output_type": "execute_result"
    }
   ],
   "source": [
    "passing = shots[shots.assist_method.isin([1,4])]\n",
    "passing_players = passing.groupby('player2').sum().reset_index()\n",
    "passing_players.rename(columns={'player2': 'player', 'event_type': 'n_passes', 'is_goal': 'trueGoals_created', 'prediction': 'expectedGoals_created'}, inplace=True)\n",
    "show = passing_players.sort_values('expectedGoals_created', ascending=False).reset_index(drop=True)\n",
    "show['rank'] = show.index+1\n",
    "show[['rank', 'player', 'n_passes', 'trueGoals_created', 'expectedGoals_created']].head(5)\n"
   ]
  },
  {
   "cell_type": "markdown",
   "metadata": {},
   "source": [
    "这有点无聊，但我们再一次发现**Messi**在榜首。在这种情况下，他是通过7年的传球为队友创造了最令人期待的进球的球员。"
   ]
  },
  {
   "cell_type": "markdown",
   "metadata": {},
   "source": [
    "我们现在可以看看这些传球的平均xG，看看谁是尝试最危险传球的球员。"
   ]
  },
  {
   "cell_type": "code",
   "execution_count": 68,
   "metadata": {
    "execution": {
     "iopub.execute_input": "2022-01-03T16:40:31.387337Z",
     "iopub.status.busy": "2022-01-03T16:40:31.386783Z",
     "iopub.status.idle": "2022-01-03T16:40:31.405058Z",
     "shell.execute_reply": "2022-01-03T16:40:31.404196Z",
     "shell.execute_reply.started": "2022-01-03T16:40:31.387026Z"
    }
   },
   "outputs": [
    {
     "data": {
      "text/html": [
       "<div>\n",
       "<style scoped>\n",
       "    .dataframe tbody tr th:only-of-type {\n",
       "        vertical-align: middle;\n",
       "    }\n",
       "\n",
       "    .dataframe tbody tr th {\n",
       "        vertical-align: top;\n",
       "    }\n",
       "\n",
       "    .dataframe thead th {\n",
       "        text-align: right;\n",
       "    }\n",
       "</style>\n",
       "<table border=\"1\" class=\"dataframe\">\n",
       "  <thead>\n",
       "    <tr style=\"text-align: right;\">\n",
       "      <th></th>\n",
       "      <th>rank</th>\n",
       "      <th>player</th>\n",
       "      <th>n_passes</th>\n",
       "      <th>xG_perpass</th>\n",
       "    </tr>\n",
       "  </thead>\n",
       "  <tbody>\n",
       "    <tr>\n",
       "      <th>0</th>\n",
       "      <td>1</td>\n",
       "      <td>Luis Suarez</td>\n",
       "      <td>185</td>\n",
       "      <td>0.165277</td>\n",
       "    </tr>\n",
       "    <tr>\n",
       "      <th>1</th>\n",
       "      <td>2</td>\n",
       "      <td>Gareth Bale</td>\n",
       "      <td>109</td>\n",
       "      <td>0.156357</td>\n",
       "    </tr>\n",
       "    <tr>\n",
       "      <th>2</th>\n",
       "      <td>3</td>\n",
       "      <td>Angel Di Maria</td>\n",
       "      <td>211</td>\n",
       "      <td>0.151212</td>\n",
       "    </tr>\n",
       "    <tr>\n",
       "      <th>3</th>\n",
       "      <td>4</td>\n",
       "      <td>Raul Garcia</td>\n",
       "      <td>90</td>\n",
       "      <td>0.149424</td>\n",
       "    </tr>\n",
       "    <tr>\n",
       "      <th>4</th>\n",
       "      <td>5</td>\n",
       "      <td>Lionel Messi</td>\n",
       "      <td>350</td>\n",
       "      <td>0.146295</td>\n",
       "    </tr>\n",
       "  </tbody>\n",
       "</table>\n",
       "</div>"
      ],
      "text/plain": [
       "   rank          player  n_passes  xG_perpass\n",
       "0     1     Luis Suarez       185    0.165277\n",
       "1     2     Gareth Bale       109    0.156357\n",
       "2     3  Angel Di Maria       211    0.151212\n",
       "3     4     Raul Garcia        90    0.149424\n",
       "4     5    Lionel Messi       350    0.146295"
      ]
     },
     "execution_count": 68,
     "metadata": {},
     "output_type": "execute_result"
    }
   ],
   "source": [
    "show['xG_perpass'] = show['expectedGoals_created'] / show['n_passes']\n",
    "show = show[show['n_passes']>80].sort_values('xG_perpass', ascending=False).reset_index(drop=True)\n",
    "show['rank'] = show.index+1\n",
    "show = show[['rank', 'player', 'n_passes', 'xG_perpass']].head(10)\n",
    "show.head(5)"
   ]
  },
  {
   "cell_type": "code",
   "execution_count": 69,
   "metadata": {
    "execution": {
     "iopub.execute_input": "2022-01-03T16:40:31.406726Z",
     "iopub.status.busy": "2022-01-03T16:40:31.406269Z",
     "iopub.status.idle": "2022-01-03T16:40:31.812025Z",
     "shell.execute_reply": "2022-01-03T16:40:31.811275Z",
     "shell.execute_reply.started": "2022-01-03T16:40:31.406519Z"
    }
   },
   "outputs": [
    {
     "data": {
      "image/png": "[encoded data removed]",
      "text/plain": [
       "<Figure size 1008x432 with 1 Axes>"
      ]
     },
     "metadata": {},
     "output_type": "display_data"
    }
   ],
   "source": [
    "sns.set_style(\"dark\")\n",
    "fig, ax = plt.subplots(figsize=[14,6])\n",
    "ax = sns.barplot(x=show['xG_perpass'], y=show['player'], palette='viridis', alpha=0.9)\n",
    "ax.set_xticks(np.arange(0,0.2,0.01))\n",
    "ax.set_xlabel(xlabel='xG per key-pass', fontsize=14)\n",
    "ax.set_ylabel(ylabel='')\n",
    "ax.set_yticklabels(labels=ax.get_yticklabels(), fontsize=12)\n",
    "plt.title(\"Most Dangerous Passers\", fontsize=22, fontfamily='serif')\n",
    "ax.grid(color='black', linestyle='-', linewidth=0.1, axis='x')\n",
    "plt.show()"
   ]
  },
  {
   "cell_type": "markdown",
   "metadata": {},
   "source": [
    "## 3.i) 谁在传球时运气最差?"
   ]
  },
  {
   "cell_type": "markdown",
   "metadata": {},
   "source": [
    "我们还可以看到谁是传球最不走运的球员。那些传球的预期进球数与实际进球数相差最大的球员。说“不走运”，是因为，与射门的球员不同，另一名球员对他的队友在他精彩的传球后是否能进球不负任何责任！"
   ]
  },
  {
   "cell_type": "code",
   "execution_count": 70,
   "metadata": {
    "execution": {
     "iopub.execute_input": "2022-01-03T16:40:31.813443Z",
     "iopub.status.busy": "2022-01-03T16:40:31.813174Z",
     "iopub.status.idle": "2022-01-03T16:40:31.917026Z",
     "shell.execute_reply": "2022-01-03T16:40:31.916287Z",
     "shell.execute_reply.started": "2022-01-03T16:40:31.813396Z"
    }
   },
   "outputs": [
    {
     "data": {
      "text/html": [
       "<div>\n",
       "<style scoped>\n",
       "    .dataframe tbody tr th:only-of-type {\n",
       "        vertical-align: middle;\n",
       "    }\n",
       "\n",
       "    .dataframe tbody tr th {\n",
       "        vertical-align: top;\n",
       "    }\n",
       "\n",
       "    .dataframe thead th {\n",
       "        text-align: right;\n",
       "    }\n",
       "</style>\n",
       "<table border=\"1\" class=\"dataframe\">\n",
       "  <thead>\n",
       "    <tr style=\"text-align: right;\">\n",
       "      <th></th>\n",
       "      <th>rank</th>\n",
       "      <th>player</th>\n",
       "      <th>n_passes</th>\n",
       "      <th>trueGoals_created</th>\n",
       "      <th>expectedGoals_created</th>\n",
       "      <th>difference</th>\n",
       "    </tr>\n",
       "  </thead>\n",
       "  <tbody>\n",
       "    <tr>\n",
       "      <th>0</th>\n",
       "      <td>1</td>\n",
       "      <td>Joan Verdu</td>\n",
       "      <td>134</td>\n",
       "      <td>7</td>\n",
       "      <td>14.553249</td>\n",
       "      <td>7.553249</td>\n",
       "    </tr>\n",
       "    <tr>\n",
       "      <th>1</th>\n",
       "      <td>2</td>\n",
       "      <td>Xabi Prieto</td>\n",
       "      <td>152</td>\n",
       "      <td>6</td>\n",
       "      <td>13.248345</td>\n",
       "      <td>7.248345</td>\n",
       "    </tr>\n",
       "    <tr>\n",
       "      <th>2</th>\n",
       "      <td>3</td>\n",
       "      <td>Philippe Coutinho</td>\n",
       "      <td>177</td>\n",
       "      <td>13</td>\n",
       "      <td>19.868715</td>\n",
       "      <td>6.868715</td>\n",
       "    </tr>\n",
       "    <tr>\n",
       "      <th>3</th>\n",
       "      <td>4</td>\n",
       "      <td>Luca Cigarini</td>\n",
       "      <td>164</td>\n",
       "      <td>6</td>\n",
       "      <td>12.789593</td>\n",
       "      <td>6.789593</td>\n",
       "    </tr>\n",
       "    <tr>\n",
       "      <th>4</th>\n",
       "      <td>5</td>\n",
       "      <td>Alejandro Gomez</td>\n",
       "      <td>137</td>\n",
       "      <td>5</td>\n",
       "      <td>11.720853</td>\n",
       "      <td>6.720853</td>\n",
       "    </tr>\n",
       "  </tbody>\n",
       "</table>\n",
       "</div>"
      ],
      "text/plain": [
       "   rank             player  n_passes  trueGoals_created  \\\n",
       "0     1         Joan Verdu       134                  7   \n",
       "1     2        Xabi Prieto       152                  6   \n",
       "2     3  Philippe Coutinho       177                 13   \n",
       "3     4      Luca Cigarini       164                  6   \n",
       "4     5    Alejandro Gomez       137                  5   \n",
       "\n",
       "   expectedGoals_created  difference  \n",
       "0              14.553249    7.553249  \n",
       "1              13.248345    7.248345  \n",
       "2              19.868715    6.868715  \n",
       "3              12.789593    6.789593  \n",
       "4              11.720853    6.720853  "
      ]
     },
     "execution_count": 70,
     "metadata": {},
     "output_type": "execute_result"
    }
   ],
   "source": [
    "passing = shots[shots.assist_method.isin([1,4])]\n",
    "passing_players = passing.groupby('player2').sum().reset_index()\n",
    "passing_players.rename(columns={'player2': 'player', 'event_type': 'n_passes', 'is_goal': 'trueGoals_created', 'prediction': 'expectedGoals_created'}, inplace=True)\n",
    "show = passing_players[passing_players['n_passes']>50].sort_values('difference', ascending=False).reset_index(drop=True)\n",
    "show['rank'] = show.index+1\n",
    "show[['rank', 'player', 'n_passes', 'trueGoals_created', 'expectedGoals_created', 'difference']].head(5)"
   ]
  },
  {
   "cell_type": "code",
   "execution_count": 71,
   "metadata": {
    "execution": {
     "iopub.execute_input": "2022-01-03T16:40:31.918305Z",
     "iopub.status.busy": "2022-01-03T16:40:31.918038Z",
     "iopub.status.idle": "2022-01-03T16:40:31.929495Z",
     "shell.execute_reply": "2022-01-03T16:40:31.928784Z",
     "shell.execute_reply.started": "2022-01-03T16:40:31.918256Z"
    }
   },
   "outputs": [
    {
     "data": {
      "text/html": [
       "<div>\n",
       "<style scoped>\n",
       "    .dataframe tbody tr th:only-of-type {\n",
       "        vertical-align: middle;\n",
       "    }\n",
       "\n",
       "    .dataframe tbody tr th {\n",
       "        vertical-align: top;\n",
       "    }\n",
       "\n",
       "    .dataframe thead th {\n",
       "        text-align: right;\n",
       "    }\n",
       "</style>\n",
       "<table border=\"1\" class=\"dataframe\">\n",
       "  <thead>\n",
       "    <tr style=\"text-align: right;\">\n",
       "      <th></th>\n",
       "      <th>rank</th>\n",
       "      <th>player</th>\n",
       "      <th>n_passes</th>\n",
       "      <th>trueGoals_created</th>\n",
       "      <th>expectedGoals_created</th>\n",
       "      <th>difference</th>\n",
       "    </tr>\n",
       "  </thead>\n",
       "  <tbody>\n",
       "    <tr>\n",
       "      <th>686</th>\n",
       "      <td>687</td>\n",
       "      <td>Marek Hamsik</td>\n",
       "      <td>370</td>\n",
       "      <td>50</td>\n",
       "      <td>34.908642</td>\n",
       "      <td>-15.091358</td>\n",
       "    </tr>\n",
       "    <tr>\n",
       "      <th>687</th>\n",
       "      <td>688</td>\n",
       "      <td>Cristiano Ronaldo</td>\n",
       "      <td>222</td>\n",
       "      <td>45</td>\n",
       "      <td>29.240792</td>\n",
       "      <td>-15.759208</td>\n",
       "    </tr>\n",
       "    <tr>\n",
       "      <th>688</th>\n",
       "      <td>689</td>\n",
       "      <td>Cesc Fabregas</td>\n",
       "      <td>264</td>\n",
       "      <td>53</td>\n",
       "      <td>36.472670</td>\n",
       "      <td>-16.527330</td>\n",
       "    </tr>\n",
       "    <tr>\n",
       "      <th>689</th>\n",
       "      <td>690</td>\n",
       "      <td>Karim Benzema</td>\n",
       "      <td>214</td>\n",
       "      <td>40</td>\n",
       "      <td>23.340346</td>\n",
       "      <td>-16.659654</td>\n",
       "    </tr>\n",
       "    <tr>\n",
       "      <th>690</th>\n",
       "      <td>691</td>\n",
       "      <td>Lionel Messi</td>\n",
       "      <td>350</td>\n",
       "      <td>68</td>\n",
       "      <td>51.203404</td>\n",
       "      <td>-16.796596</td>\n",
       "    </tr>\n",
       "  </tbody>\n",
       "</table>\n",
       "</div>"
      ],
      "text/plain": [
       "     rank             player  n_passes  trueGoals_created  \\\n",
       "686   687       Marek Hamsik       370                 50   \n",
       "687   688  Cristiano Ronaldo       222                 45   \n",
       "688   689      Cesc Fabregas       264                 53   \n",
       "689   690      Karim Benzema       214                 40   \n",
       "690   691       Lionel Messi       350                 68   \n",
       "\n",
       "     expectedGoals_created  difference  \n",
       "686              34.908642  -15.091358  \n",
       "687              29.240792  -15.759208  \n",
       "688              36.472670  -16.527330  \n",
       "689              23.340346  -16.659654  \n",
       "690              51.203404  -16.796596  "
      ]
     },
     "execution_count": 71,
     "metadata": {},
     "output_type": "execute_result"
    }
   ],
   "source": [
    "show[['rank', 'player', 'n_passes', 'trueGoals_created', 'expectedGoals_created', 'difference']].tail(5)"
   ]
  },
  {
   "cell_type": "markdown",
   "metadata": {},
   "source": [
    "可以看到名单的底部是来自最强球队的球员。这是有道理的，因为他们的队友通常都很好，所以他们被期望能获得为他们创造的机会。\n",
    "\n",
    "在榜首，我们也看到了一些著名的“不幸”球员，比如**Philippe Coutinho**和**Eden Hazard**，根据他们为球队创造的机会，他们的“助攻”数据应该更高。这并没有对2011年至2016年在利物浦或切尔西的队友给予高度评价。换句话说，如果他们的队友至少以平均效率完成这些比赛，那么**Philippe Coutinho**和**Eden Hazard**在这些赛季都会得到比官方数据更多的助攻。"
   ]
  }
 ],
 "metadata": {
  "kernelspec": {
   "display_name": "Python 3",
   "language": "python",
   "name": "python3"
  },
  "language_info": {
   "codemirror_mode": {
    "name": "ipython",
    "version": 3
   },
   "file_extension": ".py",
   "mimetype": "text/x-python",
   "name": "python",
   "nbconvert_exporter": "python",
   "pygments_lexer": "ipython3",
   "version": "3.6.4"
  }
 },
 "nbformat": 4,
 "nbformat_minor": 4
}